{
 "cells": [
  {
   "cell_type": "markdown",
   "id": "6d024d34",
   "metadata": {},
   "source": [
    "## Code for hubmap tri integration -- small bowell part:"
   ]
  },
  {
   "cell_type": "code",
   "execution_count": null,
   "id": "251c0deb",
   "metadata": {},
   "outputs": [],
   "source": [
    "import numpy as np\n",
    "import pandas as pd\n",
    "import matplotlib.pyplot as plt\n",
    "from sklearn.metrics import confusion_matrix, ConfusionMatrixDisplay\n",
    "\n",
    "import anndata as ad\n",
    "import scanpy as sc\n",
    "\n",
    "import sys\n",
    "sys.path.append(\"../../MaxFuse_devo/09302022V/\")\n",
    "import match\n",
    "import metrics\n",
    "from scipy.io import mmread\n",
    "import os\n",
    "import utils, metrics\n",
    "\n",
    "# hamrony and related \n",
    "import harmonypy as hm\n",
    "from scipy.sparse.linalg import svds"
   ]
  },
  {
   "cell_type": "markdown",
   "id": "33e2863a",
   "metadata": {},
   "source": [
    "## read in ATAC data (gene activity score and LSI) --SB"
   ]
  },
  {
   "cell_type": "code",
   "execution_count": 2,
   "id": "57782557",
   "metadata": {},
   "outputs": [
    {
     "data": {
      "text/plain": [
       "array(['B Cells', 'CD4+ T cell', 'CD8+ T cell', 'Endothelial',\n",
       "       'Enteroendocrine', 'Goblet', 'Mono_Macrophages', 'Plasma',\n",
       "       'Smooth muscle', 'Stroma'], dtype=object)"
      ]
     },
     "execution_count": 2,
     "metadata": {},
     "output_type": "execute_result"
    }
   ],
   "source": [
    "prefix = '/hubmap_fin/data/'\n",
    "\n",
    "# read in gene activity\n",
    "atacactivity = mmread(prefix + \"hub_sub_genescore.txt\").tocsr()\n",
    "\n",
    "gas_names = pd.read_csv(\n",
    "    prefix + 'hub_sub_genescore_names.csv'\n",
    ")['names'].to_numpy()\n",
    "\n",
    "atac_meta = pd.read_csv(prefix + \"hub_sub_genescore_meta.csv\")\n",
    "np.unique(atac_meta['cluster.info'])"
   ]
  },
  {
   "cell_type": "code",
   "execution_count": 3,
   "id": "a6b1eec0",
   "metadata": {},
   "outputs": [],
   "source": [
    "# read in peak lsi data (note this LSI is harmony corrected by Archr)\n",
    "\n",
    "peak_lsi = pd.read_csv(prefix + 'hub_sub_lsi100_harmony.csv') # 100 components\n",
    "peak_lsi = peak_lsi.drop(['LSI1'], axis=1)\n",
    "peak_lsi_use = peak_lsi[(atac_meta['tissue'] == \"sb\").values]"
   ]
  },
  {
   "cell_type": "code",
   "execution_count": 4,
   "id": "a85a59bb",
   "metadata": {},
   "outputs": [
    {
     "name": "stdout",
     "output_type": "stream",
     "text": [
      "((14592, 24919), (14592, 99))\n"
     ]
    },
    {
     "name": "stderr",
     "output_type": "stream",
     "text": [
      "/tmp/ipykernel_13460/3059297753.py:3: FutureWarning: The default value of regex will change from True to False in a future version.\n",
      "  atac_meta['cluster.info'] = atac_meta['cluster.info'].str.replace('CD4\\+ T cell','T cells')\n",
      "/tmp/ipykernel_13460/3059297753.py:4: FutureWarning: The default value of regex will change from True to False in a future version.\n",
      "  atac_meta['cluster.info'] = atac_meta['cluster.info'].str.replace('CD8\\+ T cell','T cells')\n"
     ]
    }
   ],
   "source": [
    "# select small bowell cells\n",
    "atacactivity_use = pd.DataFrame(atacactivity.todense())[(atac_meta['tissue'] == \"sb\").values]\n",
    "\n",
    "atac_meta['cluster.info'] = atac_meta['cluster.info'].str.replace('CD4\\+ T cell','T cells')\n",
    "atac_meta['cluster.info'] = atac_meta['cluster.info'].str.replace('CD8\\+ T cell','T cells')\n",
    "labels_atac_use = atac_meta[(atac_meta['tissue'] == \"sb\").values]\n",
    "\n",
    "\n",
    "print((atacactivity_use.shape, peak_lsi_use.shape))"
   ]
  },
  {
   "cell_type": "code",
   "execution_count": 6,
   "id": "d49b9fa5",
   "metadata": {},
   "outputs": [],
   "source": [
    "# atac labels\n",
    "atac_labels = labels_atac_use['cluster.info'].to_numpy()\n",
    "atac_seurat_labels = labels_atac_use['seurat.label'].to_numpy()"
   ]
  },
  {
   "cell_type": "code",
   "execution_count": 7,
   "id": "89ee27f8",
   "metadata": {},
   "outputs": [
    {
     "name": "stderr",
     "output_type": "stream",
     "text": [
      "/home/bkzhu/python/miniconda3/envs/super_mario_testing/lib/python3.8/site-packages/anndata/_core/anndata.py:121: ImplicitModificationWarning: Transforming to str index.\n",
      "  warnings.warn(\"Transforming to str index.\", ImplicitModificationWarning)\n"
     ]
    }
   ],
   "source": [
    "# gene score anndata\n",
    "activity_adata = ad.AnnData(atacactivity_use, dtype=np.float32)\n",
    "activity_adata.var_names = gas_names"
   ]
  },
  {
   "cell_type": "code",
   "execution_count": 8,
   "id": "86946de2",
   "metadata": {},
   "outputs": [],
   "source": [
    "# peak lsi anndata\n",
    "peak_adata = ad.AnnData(peak_lsi_use, dtype=np.float32)"
   ]
  },
  {
   "cell_type": "code",
   "execution_count": 9,
   "id": "4d20e157",
   "metadata": {},
   "outputs": [
    {
     "name": "stderr",
     "output_type": "stream",
     "text": [
      "/home/bkzhu/python/miniconda3/envs/super_mario_testing/lib/python3.8/site-packages/scanpy/preprocessing/_simple.py:843: UserWarning: Revieved a view of an AnnData. Making a copy.\n",
      "  view_to_actual(adata)\n"
     ]
    }
   ],
   "source": [
    "## pre-processing\n",
    "\n",
    "# gene score process consistant with the rna process\n",
    "sc.pp.normalize_total(activity_adata)\n",
    "sc.pp.log1p(activity_adata)\n",
    "\n",
    "activity_adata_active = activity_adata.copy()\n",
    "sc.pp.highly_variable_genes(activity_adata_active, n_top_genes=10000)\n",
    "activity_adata_active = activity_adata_active[:, activity_adata_active.var.highly_variable]\n",
    "sc.pp.scale(activity_adata_active)"
   ]
  },
  {
   "cell_type": "code",
   "execution_count": 10,
   "id": "ff034b3e",
   "metadata": {},
   "outputs": [
    {
     "name": "stderr",
     "output_type": "stream",
     "text": [
      "2023-01-13 07:56:25,710 - harmonypy - INFO - Iteration 1 of 10\n",
      "2023-01-13 07:56:33,489 - harmonypy - INFO - Iteration 2 of 10\n",
      "2023-01-13 07:56:36,185 - harmonypy - INFO - Iteration 3 of 10\n",
      "2023-01-13 07:56:38,828 - harmonypy - INFO - Converged after 3 iterations\n"
     ]
    },
    {
     "name": "stdout",
     "output_type": "stream",
     "text": [
      "(14592, 100)\n"
     ]
    },
    {
     "data": {
      "text/plain": [
       "AnnData object with n_obs × n_vars = 14592 × 24919"
      ]
     },
     "execution_count": 10,
     "metadata": {},
     "output_type": "execute_result"
    }
   ],
   "source": [
    "## this code specific to hubmap case:\n",
    "## harmony batch correct gene activity scores, based on patient label\n",
    "\n",
    "batch = labels_atac_use['sample'].copy()\n",
    "tt = labels_atac_use['sample'].shape[0]\n",
    "\n",
    "##### per patient\n",
    "for i in range(tt):\n",
    "    temp = batch.iloc[i]\n",
    "    batch.iloc[i] = temp[0:3]\n",
    "#####\n",
    "\n",
    "atacu, atacs, atacvT = svds(activity_adata.X, k = 100)\n",
    "atacpc = atacu @ np.diag(atacs)\n",
    "atac_batch = pd.DataFrame(data = batch)\n",
    "atac_batch\n",
    "atacho = hm.run_harmony(atacpc, atac_batch, 'sample')\n",
    "print(atacho.Z_corr.T.shape)\n",
    "\n",
    "atac_ho = atacho.Z_corr.T @ atacvT\n",
    "activity_adata = ad.AnnData(\n",
    "    atac_ho, dtype=np.float32\n",
    ")\n",
    "activity_adata  # treat this as the raw input"
   ]
  },
  {
   "cell_type": "code",
   "execution_count": 11,
   "id": "f9338f37",
   "metadata": {},
   "outputs": [],
   "source": [
    "# continue preprocessing\n",
    "sc.pp.scale(activity_adata)\n",
    "\n",
    "activity_adata.var_names = gas_names"
   ]
  },
  {
   "cell_type": "code",
   "execution_count": 12,
   "id": "2f2c1982",
   "metadata": {},
   "outputs": [
    {
     "name": "stdout",
     "output_type": "stream",
     "text": [
      "WARNING: You’re trying to run this on 24919 dimensions of `.X`, if you really want this, set `use_rep='X'`.\n",
      "         Falling back to preprocessing with `sc.pp.pca` and default params.\n"
     ]
    },
    {
     "data": {
      "image/png": "[encoded data removed]",
      "text/plain": [
       "<Figure size 432x288 with 1 Axes>"
      ]
     },
     "metadata": {},
     "output_type": "display_data"
    }
   ],
   "source": [
    "# quick check umap\n",
    "activity_adata.obs['celltype'] = atac_labels\n",
    "sc.pp.neighbors(activity_adata, n_neighbors=15, n_pcs=30)\n",
    "sc.tl.umap(activity_adata)\n",
    "sc.pl.umap(activity_adata, color = ['celltype'])"
   ]
  },
  {
   "cell_type": "code",
   "execution_count": 13,
   "id": "d8c2c5e1",
   "metadata": {},
   "outputs": [],
   "source": [
    "# all feature\n",
    "atac_active = activity_adata_active.X.copy()"
   ]
  },
  {
   "cell_type": "markdown",
   "id": "a1a59ca3",
   "metadata": {},
   "source": [
    "## read in RNA -- SB"
   ]
  },
  {
   "cell_type": "code",
   "execution_count": 14,
   "id": "34160c29",
   "metadata": {},
   "outputs": [],
   "source": [
    "prefix = '/production/hubmap/match/data/'\n",
    "rna = mmread(prefix + \"SB_immune_rna1X.txt\")\n",
    "rna_stro  = mmread(prefix + \"SB_stroma_rna1X.txt\")\n",
    "rna_epi  = mmread(prefix + \"SB_epi_rna1X_v2.txt\")"
   ]
  },
  {
   "cell_type": "code",
   "execution_count": 15,
   "id": "6ce83b06",
   "metadata": {},
   "outputs": [],
   "source": [
    "# read in rna labels\n",
    "labels_rna = pd.read_csv(prefix + 'SB_immune_rna_meta1X.csv')\n",
    "labels_rna_stro = pd.read_csv(prefix + 'SB_stroma_rna_meta1X.csv')\n",
    "labels_rna_epi = pd.read_csv(prefix + 'SB_epi_rna_meta1X_v2.csv')\n",
    "labels_rna_all1 = labels_rna.append(labels_rna_stro)\n",
    "labels_rna_all = labels_rna_all1.append(labels_rna_epi)"
   ]
  },
  {
   "cell_type": "code",
   "execution_count": 16,
   "id": "cdec287a",
   "metadata": {},
   "outputs": [],
   "source": [
    "# remove some cell types we won't use\n",
    "drop_rna = labels_rna_all['CellType2'].isin(['NK', 'Lymphatic','Nerve'])"
   ]
  },
  {
   "cell_type": "code",
   "execution_count": 17,
   "id": "f7e48d05",
   "metadata": {},
   "outputs": [
    {
     "name": "stdout",
     "output_type": "stream",
     "text": [
      "[(13210, 38664), (13210, 17)]\n"
     ]
    }
   ],
   "source": [
    "# add gene names and combine, remove cell types we dont use\n",
    "rna_names = pd.read_csv(prefix + 'SB_immune_rna_names.csv')\n",
    "rna = pd.DataFrame(rna.todense())\n",
    "rna.columns =rna_names['names']\n",
    "rna_stro = pd.DataFrame(rna_stro.todense())\n",
    "rna_stro.columns =rna_names['names']\n",
    "rna_epi = pd.DataFrame(rna_epi.todense())\n",
    "rna_epi.columns =rna_names['names']\n",
    "rna_all1 = rna.append(rna_stro)\n",
    "rna_all = rna_all1.append(rna_epi)\n",
    "\n",
    "rna_all = rna_all.loc[np.invert(drop_rna),:]\n",
    "labels_rna_all = labels_rna_all.loc[np.invert(drop_rna),:]\n",
    "\n",
    "print([rna_all.shape, labels_rna_all.shape])"
   ]
  },
  {
   "cell_type": "code",
   "execution_count": 18,
   "id": "eedcfe66",
   "metadata": {},
   "outputs": [
    {
     "name": "stderr",
     "output_type": "stream",
     "text": [
      "/tmp/ipykernel_13460/3033899334.py:2: FutureWarning: The default value of regex will change from True to False in a future version.\n",
      "  labels_rna_all['CellType2'] = labels_rna_all['CellType2'].str.replace('CD8\\+ T cell','T cells')\n",
      "/tmp/ipykernel_13460/3033899334.py:3: FutureWarning: The default value of regex will change from True to False in a future version.\n",
      "  labels_rna_all['CellType2'] = labels_rna_all['CellType2'].str.replace('CD4\\+ T cell','T cells')\n"
     ]
    },
    {
     "data": {
      "text/plain": [
       "array(['B Cells', 'Endothelial', 'Enteroendocrine', 'Goblet',\n",
       "       'Mono_Macrophages', 'Plasma', 'Smooth muscle', 'Stroma', 'T cells'],\n",
       "      dtype=object)"
      ]
     },
     "execution_count": 18,
     "metadata": {},
     "output_type": "execute_result"
    }
   ],
   "source": [
    "# rename t cells\n",
    "labels_rna_all['CellType2'] = labels_rna_all['CellType2'].str.replace('CD8\\+ T cell','T cells')\n",
    "labels_rna_all['CellType2'] = labels_rna_all['CellType2'].str.replace('CD4\\+ T cell','T cells')\n",
    "np.unique(labels_rna_all['CellType2'])"
   ]
  },
  {
   "cell_type": "code",
   "execution_count": 19,
   "id": "30331af9",
   "metadata": {},
   "outputs": [],
   "source": [
    "# rna label\n",
    "rna_labels = labels_rna_all['CellType2'].to_numpy()\n",
    "rna_seurat_labels = labels_rna_all['seurat_clusters'].to_numpy()"
   ]
  },
  {
   "cell_type": "code",
   "execution_count": 20,
   "id": "f200b13a",
   "metadata": {},
   "outputs": [],
   "source": [
    "# make adata\n",
    "rna_adata = ad.AnnData(\n",
    "    rna_all.to_numpy(), dtype=np.float32\n",
    ")\n",
    "rna_adata.var_names = rna_names['names']\n",
    "rna_adata.obs_names = labels_rna_all['Unnamed: 0']"
   ]
  },
  {
   "cell_type": "code",
   "execution_count": 21,
   "id": "b03cf682",
   "metadata": {},
   "outputs": [
    {
     "name": "stderr",
     "output_type": "stream",
     "text": [
      "2023-01-13 07:59:14,107 - harmonypy - INFO - Iteration 1 of 10\n",
      "2023-01-13 07:59:20,972 - harmonypy - INFO - Iteration 2 of 10\n",
      "2023-01-13 07:59:27,840 - harmonypy - INFO - Iteration 3 of 10\n",
      "2023-01-13 07:59:31,839 - harmonypy - INFO - Converged after 3 iterations\n"
     ]
    },
    {
     "name": "stdout",
     "output_type": "stream",
     "text": [
      "(13210, 100)\n"
     ]
    }
   ],
   "source": [
    "## with harmony correct gene counts, based on batch 'patient'\n",
    "\n",
    "sc.pp.normalize_total(rna_adata)\n",
    "sc.pp.log1p(rna_adata)\n",
    "\n",
    "batch = labels_rna_all['orig.ident'].copy()\n",
    "tt = labels_rna_all['orig.ident'].shape[0]\n",
    "\n",
    "##### per patient\n",
    "for i in range(tt):\n",
    "    temp = batch.iloc[i]\n",
    "    batch.iloc[i] = temp[0:4]\n",
    "#####\n",
    "\n",
    "rnau, rnas, rnavT = svds(rna_adata.X, k = 100)\n",
    "rnapc = rnau @ np.diag(rnas)\n",
    "rna_batch = pd.DataFrame(data = batch)\n",
    "rna_batch\n",
    "rnaho = hm.run_harmony(rnapc, rna_batch, 'orig.ident')\n",
    "print(rnaho.Z_corr.T.shape)"
   ]
  },
  {
   "cell_type": "code",
   "execution_count": 22,
   "id": "85476791",
   "metadata": {},
   "outputs": [
    {
     "data": {
      "text/plain": [
       "AnnData object with n_obs × n_vars = 13210 × 38664"
      ]
     },
     "execution_count": 22,
     "metadata": {},
     "output_type": "execute_result"
    }
   ],
   "source": [
    "# corrected counts\n",
    "rnapc_ho = rnaho.Z_corr.T @ rnavT\n",
    "rna_adata = ad.AnnData(\n",
    "    rnapc_ho, dtype=np.float32\n",
    ")\n",
    "rna_adata"
   ]
  },
  {
   "cell_type": "code",
   "execution_count": 23,
   "id": "c8be1575",
   "metadata": {},
   "outputs": [
    {
     "name": "stderr",
     "output_type": "stream",
     "text": [
      "/home/bkzhu/python/miniconda3/envs/super_mario_testing/lib/python3.8/site-packages/scanpy/preprocessing/_simple.py:843: UserWarning: Revieved a view of an AnnData. Making a copy.\n",
      "  view_to_actual(adata)\n"
     ]
    }
   ],
   "source": [
    "# continue the process\n",
    "sc.pp.highly_variable_genes(rna_adata, n_top_genes=5000)\n",
    "rna_adata_active = rna_adata[:, rna_adata.var.highly_variable]\n",
    "sc.pp.scale(rna_adata)\n",
    "sc.pp.scale(rna_adata_active)"
   ]
  },
  {
   "cell_type": "code",
   "execution_count": 24,
   "id": "b51c43bc",
   "metadata": {},
   "outputs": [
    {
     "name": "stdout",
     "output_type": "stream",
     "text": [
      "WARNING: You’re trying to run this on 38664 dimensions of `.X`, if you really want this, set `use_rep='X'`.\n",
      "         Falling back to preprocessing with `sc.pp.pca` and default params.\n"
     ]
    },
    {
     "data": {
      "image/png": "[encoded data removed]",
      "text/plain": [
       "<Figure size 432x288 with 1 Axes>"
      ]
     },
     "metadata": {},
     "output_type": "display_data"
    }
   ],
   "source": [
    "# quick check umap\n",
    "rna_adata.obs['celltype'] = rna_labels\n",
    "sc.pp.neighbors(rna_adata, n_neighbors=15, n_pcs=30)\n",
    "sc.tl.umap(rna_adata)\n",
    "sc.pl.umap(rna_adata, color = ['celltype'])"
   ]
  },
  {
   "cell_type": "markdown",
   "id": "e6bc690c",
   "metadata": {},
   "source": [
    "umap looks correct"
   ]
  },
  {
   "cell_type": "code",
   "execution_count": 25,
   "id": "32309a0e",
   "metadata": {},
   "outputs": [],
   "source": [
    "# all features\n",
    "rna_active = rna_adata_active.X.copy()"
   ]
  },
  {
   "cell_type": "markdown",
   "id": "aaaf2121",
   "metadata": {},
   "source": [
    "## input CODEX data --SB"
   ]
  },
  {
   "cell_type": "code",
   "execution_count": 27,
   "id": "ca50a663",
   "metadata": {},
   "outputs": [
    {
     "name": "stderr",
     "output_type": "stream",
     "text": [
      "/tmp/ipykernel_13460/2434463022.py:18: FutureWarning: The default value of regex will change from True to False in a future version.\n",
      "  labels_protein = labels_protein.str.replace('CD8\\+','CD8+ T cell')\n",
      "/tmp/ipykernel_13460/2434463022.py:19: FutureWarning: The default value of regex will change from True to False in a future version.\n",
      "  labels_protein = labels_protein.str.replace('CD8\\+ T cell','T cells')\n",
      "/tmp/ipykernel_13460/2434463022.py:20: FutureWarning: The default value of regex will change from True to False in a future version.\n",
      "  labels_protein = labels_protein.str.replace('CD4\\+ T cell','T cells')\n"
     ]
    }
   ],
   "source": [
    "prefix = '/hubmap_fin/data/'\n",
    "protein_SB = pd.read_csv(prefix + \"b005_sb_cdx.csv\")\n",
    "protein_all = protein_SB\n",
    "\n",
    "# remove unwanted cells\n",
    "nkidx2 = protein_all.index[protein_all['cluster.term'] == 'NK'].to_list()\n",
    "lymphidx2 = protein_all.index[protein_all['cluster.term'] == 'Lymphatic'].to_list()\n",
    "dcidx = protein_all.index[protein_all['cluster.term'] == 'DC'].to_list()\n",
    "ntpdx = protein_all.index[protein_all['cluster.term'] == 'Neutrophil'].to_list()\n",
    "nrvdx = protein_all.index[protein_all['cluster.term'] == 'Nerve'].to_list()\n",
    "drop_pro  = nkidx2 + lymphidx2 + dcidx + ntpdx + nrvdx\n",
    "\n",
    "protein_all = protein_all.drop(drop_pro, axis=0)\n",
    "# rename some labels\n",
    "labels_protein = protein_all['cluster.term']\n",
    "labels_protein = labels_protein.str.replace('CD8\\+','CD8+ T cell')\n",
    "labels_protein = labels_protein.str.replace('CD8\\+ T cell','T cells')\n",
    "labels_protein = labels_protein.str.replace('CD4\\+ T cell','T cells')"
   ]
  },
  {
   "cell_type": "code",
   "execution_count": 29,
   "id": "f85482ca",
   "metadata": {},
   "outputs": [],
   "source": [
    "# cdx labels\n",
    "\n",
    "protein_labels = labels_protein.to_numpy()\n",
    "protein_seurat_labels = protein_all['seurat_clusters'].to_numpy()\n",
    "\n",
    "# codex anndata\n",
    "protein_adata = ad.AnnData(\n",
    "    protein_all[protein_all.columns[2:49]].to_numpy(), dtype=np.float32 # remove partial channels\n",
    "    # eg olfm4 fap cd25, coiiiv, ck7\n",
    ")\n",
    "protein_adata.var_names = protein_all[protein_all.columns[2:49]].columns"
   ]
  },
  {
   "cell_type": "code",
   "execution_count": 30,
   "id": "99e1fc45",
   "metadata": {},
   "outputs": [
    {
     "data": {
      "text/plain": [
       "AnnData object with n_obs × n_vars = 102696 × 47"
      ]
     },
     "execution_count": 30,
     "metadata": {},
     "output_type": "execute_result"
    }
   ],
   "source": [
    "protein_adata"
   ]
  },
  {
   "cell_type": "code",
   "execution_count": 31,
   "id": "f8536f60",
   "metadata": {},
   "outputs": [],
   "source": [
    "# all features codex\n",
    "protein_active = protein_adata.X.copy()"
   ]
  },
  {
   "cell_type": "markdown",
   "id": "6584aa60",
   "metadata": {},
   "source": [
    "## MaxFuse integration part 1: RNA --> ATAC integration"
   ]
  },
  {
   "cell_type": "code",
   "execution_count": 34,
   "id": "d7bc8d4a",
   "metadata": {},
   "outputs": [
    {
     "data": {
      "text/plain": [
       "20075"
      ]
     },
     "execution_count": 34,
     "metadata": {},
     "output_type": "execute_result"
    }
   ],
   "source": [
    "shared_genes = np.intersect1d(rna_adata.var_names, activity_adata.var_names)\n",
    "len(shared_genes)"
   ]
  },
  {
   "cell_type": "code",
   "execution_count": 35,
   "id": "73354124",
   "metadata": {},
   "outputs": [],
   "source": [
    "rna_shared = rna_adata[:,shared_genes].X.copy()\n",
    "atac_shared = activity_adata[:, shared_genes].X.copy()"
   ]
  },
  {
   "cell_type": "code",
   "execution_count": 36,
   "id": "5cf87d3d",
   "metadata": {},
   "outputs": [
    {
     "name": "stdout",
     "output_type": "stream",
     "text": [
      "[0.9999620914459229, 0.9999656677246094]\n"
     ]
    }
   ],
   "source": [
    "q1 = np.quantile(np.std(rna_shared, axis=0), 0.05)\n",
    "q2 = np.quantile(np.std(atac_shared, axis=0), 0.05)\n",
    "\n",
    "print([q1,q2])"
   ]
  },
  {
   "cell_type": "code",
   "execution_count": 37,
   "id": "4adb07cf",
   "metadata": {},
   "outputs": [],
   "source": [
    "# remove static features\n",
    "mask = ((rna_shared.std(axis=0) > q1) & (atac_shared.std(axis=0) > q2))# filter out static ones\n",
    "\n",
    "rna_shared = rna_shared[:, mask]\n",
    "atac_shared = atac_shared[:, mask]\n",
    "rna_shared = ad.AnnData(rna_shared)\n",
    "atac_shared = ad.AnnData(atac_shared)"
   ]
  },
  {
   "cell_type": "code",
   "execution_count": 39,
   "id": "49ce6337",
   "metadata": {},
   "outputs": [
    {
     "name": "stdout",
     "output_type": "stream",
     "text": [
      "(14592, 16884) (13210, 16884)\n"
     ]
    }
   ],
   "source": [
    "atac_shared = atac_shared.X.copy()\n",
    "rna_shared = rna_shared.X.copy()\n",
    "print(atac_shared.shape, rna_shared.shape)"
   ]
  },
  {
   "cell_type": "markdown",
   "id": "adfc0155",
   "metadata": {},
   "source": [
    "### MaxFuse starts:"
   ]
  },
  {
   "cell_type": "code",
   "execution_count": 40,
   "id": "8e3db526",
   "metadata": {},
   "outputs": [],
   "source": [
    "spm = match.MaxFuse(\n",
    "        shared_arr1=rna_shared,\n",
    "        shared_arr2=atac_shared,\n",
    "        active_arr1=rna_active,\n",
    "        active_arr2=atac_shared,\n",
    "        method='centroid_shrinkage',\n",
    "        labels1=rna_seurat_labels.astype('str'),\n",
    "        labels2=atac_seurat_labels.astype('str')\n",
    "    )"
   ]
  },
  {
   "cell_type": "code",
   "execution_count": 41,
   "id": "2b8f8b05",
   "metadata": {},
   "outputs": [
    {
     "name": "stdout",
     "output_type": "stream",
     "text": [
      "The first data is split into 1 batches, average batch size is 13210, and max batch size is 13210.\n",
      "The second data is split into 1 batches, average batch size is 14592, and max batch size is 14592.\n",
      "Batch to batch correspondence is:\n",
      "  ['0<->0'].\n"
     ]
    }
   ],
   "source": [
    "spm.split_into_batches(\n",
    "    max_outward_size=5000,\n",
    "    matching_ratio=4,\n",
    "    metacell_size=3,\n",
    "    seed=None,\n",
    "    verbose=True\n",
    ")"
   ]
  },
  {
   "cell_type": "code",
   "execution_count": 42,
   "id": "e7c4a43e",
   "metadata": {},
   "outputs": [
    {
     "data": {
      "text/plain": [
       "(<Figure size 432x288 with 1 Axes>,\n",
       " <matplotlib.axes._subplots.AxesSubplot at 0x7f99d0bbfdf0>)"
      ]
     },
     "execution_count": 42,
     "metadata": {},
     "output_type": "execute_result"
    },
    {
     "data": {
      "image/png": "[encoded data removed]",
      "text/plain": [
       "<Figure size 432x288 with 1 Axes>"
      ]
     },
     "metadata": {
      "needs_background": "light"
     },
     "output_type": "display_data"
    }
   ],
   "source": [
    "spm.plot_singular_values(\n",
    "    target='shared_arr1',\n",
    "    batch=None,\n",
    "    n_components=None,\n",
    "    randomized_svd=False,\n",
    "    svd_runs=1\n",
    ")"
   ]
  },
  {
   "cell_type": "code",
   "execution_count": 43,
   "id": "6428ad1a",
   "metadata": {},
   "outputs": [
    {
     "data": {
      "text/plain": [
       "(<Figure size 432x288 with 1 Axes>,\n",
       " <matplotlib.axes._subplots.AxesSubplot at 0x7f99d0bf2970>)"
      ]
     },
     "execution_count": 43,
     "metadata": {},
     "output_type": "execute_result"
    },
    {
     "data": {
      "image/png": "[encoded data removed]",
      "text/plain": [
       "<Figure size 432x288 with 1 Axes>"
      ]
     },
     "metadata": {
      "needs_background": "light"
     },
     "output_type": "display_data"
    }
   ],
   "source": [
    "spm.plot_singular_values(\n",
    "    target='shared_arr2',\n",
    "    batch=None,\n",
    "    n_components=None,\n",
    "    randomized_svd=False,\n",
    "    svd_runs=1\n",
    ")"
   ]
  },
  {
   "cell_type": "code",
   "execution_count": 44,
   "id": "c52dcc9c",
   "metadata": {},
   "outputs": [
    {
     "name": "stdout",
     "output_type": "stream",
     "text": [
      "Aggregating cells in arr1 into metacells of average size 3...\n",
      "Constructing neighborhood graphs for cells in arr1...\n",
      "Now at batch 0...\n",
      "Graph construction finished!\n",
      "Clustering into metacells...\n",
      "Now at batch 0...\n",
      "Metacell clustering finished!\n"
     ]
    }
   ],
   "source": [
    "spm.construct_graphs(\n",
    "    n_neighbors1=15,\n",
    "    n_neighbors2=15,\n",
    "    svd_components1=50,\n",
    "    svd_components2=50,\n",
    "    resolution1=2,\n",
    "    resolution2=2,\n",
    "    randomized_svd=False,\n",
    "    svd_runs=1,\n",
    "    resolution_tol=0.1,\n",
    "    leiden_runs=1,\n",
    "    leiden_seed=None,\n",
    "    verbose=True\n",
    ")"
   ]
  },
  {
   "cell_type": "code",
   "execution_count": 45,
   "id": "889e97a7",
   "metadata": {},
   "outputs": [
    {
     "name": "stdout",
     "output_type": "stream",
     "text": [
      "Now at batch 0<->0...\n",
      "Done!\n"
     ]
    }
   ],
   "source": [
    "spm.find_initial_pivots(\n",
    "    wt1=0.3, wt2=0.3,\n",
    "    svd_components1=30, svd_components2=40,\n",
    "    randomized_svd=False, svd_runs=1,\n",
    "    verbose=True\n",
    ")"
   ]
  },
  {
   "cell_type": "code",
   "execution_count": 46,
   "id": "8e832538",
   "metadata": {},
   "outputs": [
    {
     "data": {
      "text/plain": [
       "0.9729237770193402"
      ]
     },
     "execution_count": 46,
     "metadata": {},
     "output_type": "execute_result"
    }
   ],
   "source": [
    "# test accuracy of initial matching\n",
    "import utils, metrics\n",
    "matching = spm._init_matching[0]\n",
    "labels1 = utils.summarize_clustering(\n",
    "    spm._metacell_labels1[0], rna_labels[spm._batch_to_indices1[0]]\n",
    ")\n",
    "labels2 = atac_labels[spm._batch_to_indices2[0]]\n",
    "metrics.get_matching_acc(matching, labels1, labels2)"
   ]
  },
  {
   "cell_type": "code",
   "execution_count": 47,
   "id": "a061fdd5",
   "metadata": {},
   "outputs": [
    {
     "data": {
      "text/plain": [
       "<sklearn.metrics._plot.confusion_matrix.ConfusionMatrixDisplay at 0x7f99cfb6e7c0>"
      ]
     },
     "execution_count": 47,
     "metadata": {},
     "output_type": "execute_result"
    },
    {
     "data": {
      "image/png": "[encoded data removed]",
      "text/plain": [
       "<Figure size 432x288 with 2 Axes>"
      ]
     },
     "metadata": {
      "needs_background": "light"
     },
     "output_type": "display_data"
    }
   ],
   "source": [
    "#plt.rcParams[\"figure.figsize\"] = (12,8)\n",
    "cm = confusion_matrix(labels1, labels2[matching[1]])\n",
    "ConfusionMatrixDisplay(\n",
    "    confusion_matrix=np.round((cm.T/np.sum(cm, axis=1)).T*100), \n",
    "    display_labels=np.unique(labels1)\n",
    ").plot()"
   ]
  },
  {
   "cell_type": "code",
   "execution_count": 48,
   "id": "8e1dc1b3",
   "metadata": {},
   "outputs": [
    {
     "data": {
      "text/plain": [
       "(<Figure size 432x288 with 1 Axes>,\n",
       " <matplotlib.axes._subplots.AxesSubplot at 0x7f99d0607310>)"
      ]
     },
     "execution_count": 48,
     "metadata": {},
     "output_type": "execute_result"
    },
    {
     "data": {
      "image/png": "[encoded data removed]",
      "text/plain": [
       "<Figure size 432x288 with 1 Axes>"
      ]
     },
     "metadata": {
      "needs_background": "light"
     },
     "output_type": "display_data"
    }
   ],
   "source": [
    "spm.plot_singular_values(\n",
    "    target='active_arr1',\n",
    "    batch=None,\n",
    "    n_components=100,\n",
    "    randomized_svd=False,\n",
    "    svd_runs=1\n",
    ")"
   ]
  },
  {
   "cell_type": "code",
   "execution_count": 49,
   "id": "aea91ae5",
   "metadata": {},
   "outputs": [
    {
     "data": {
      "text/plain": [
       "(<Figure size 432x288 with 1 Axes>,\n",
       " <matplotlib.axes._subplots.AxesSubplot at 0x7f9912a4fbe0>)"
      ]
     },
     "execution_count": 49,
     "metadata": {},
     "output_type": "execute_result"
    },
    {
     "data": {
      "image/png": "[encoded data removed]",
      "text/plain": [
       "<Figure size 432x288 with 1 Axes>"
      ]
     },
     "metadata": {
      "needs_background": "light"
     },
     "output_type": "display_data"
    }
   ],
   "source": [
    "spm.plot_singular_values(\n",
    "    target='active_arr2',\n",
    "    batch=None,\n",
    "    n_components=80,\n",
    "    randomized_svd=False,\n",
    "    svd_runs=1\n",
    ")"
   ]
  },
  {
   "cell_type": "code",
   "execution_count": 50,
   "id": "cab83377",
   "metadata": {},
   "outputs": [
    {
     "data": {
      "text/plain": [
       "(<Figure size 432x288 with 1 Axes>,\n",
       " <matplotlib.axes._subplots.AxesSubplot at 0x7f9821c30310>)"
      ]
     },
     "execution_count": 50,
     "metadata": {},
     "output_type": "execute_result"
    },
    {
     "data": {
      "image/png": "[encoded data removed]",
      "text/plain": [
       "<Figure size 432x288 with 1 Axes>"
      ]
     },
     "metadata": {
      "needs_background": "light"
     },
     "output_type": "display_data"
    }
   ],
   "source": [
    "spm.plot_canonical_correlations(\n",
    "    batch=None,\n",
    "    svd_components1=40, \n",
    "    svd_components2=30,\n",
    "    cca_components=30,\n",
    "    filter_prop=0.,\n",
    "    randomized_svd=False,\n",
    "    svd_runs=1,\n",
    "    cca_max_iter=2000\n",
    ")"
   ]
  },
  {
   "cell_type": "code",
   "execution_count": 51,
   "id": "31ff88b7",
   "metadata": {},
   "outputs": [
    {
     "name": "stdout",
     "output_type": "stream",
     "text": [
      "Now at batch 0<->0...\n",
      "Done!\n"
     ]
    }
   ],
   "source": [
    "spm.refine_pivots(\n",
    "    wt1=0.3, wt2=0.3,\n",
    "    svd_components1=40, svd_components2=30,\n",
    "    cca_components=18,\n",
    "    filter_prop=0.1,\n",
    "    n_iters=1,\n",
    "    randomized_svd=False, \n",
    "    svd_runs=1,\n",
    "    verbose=True\n",
    ")"
   ]
  },
  {
   "cell_type": "code",
   "execution_count": 52,
   "id": "8c5c1e17",
   "metadata": {},
   "outputs": [
    {
     "name": "stdout",
     "output_type": "stream",
     "text": [
      "Begin filtering...\n",
      "Now at batch 0<->0...\n",
      "4395/4395 pairs of matched cells remain after the filtering.\n",
      "Fitting CCA on pivots...\n",
      "Scoring matched pairs...\n",
      "13210/13210 cells in arr1 are selected as pivots.\n",
      "4395/14592 cells in arr2 are selected as pivots.\n",
      "Done!\n"
     ]
    }
   ],
   "source": [
    "spm.filter_bad_matches(target='pivot', filter_prop=0., verbose=True)"
   ]
  },
  {
   "cell_type": "code",
   "execution_count": 53,
   "id": "ce67dd3d",
   "metadata": {},
   "outputs": [
    {
     "data": {
      "text/plain": [
       "0.9670079635949943"
      ]
     },
     "execution_count": 53,
     "metadata": {},
     "output_type": "execute_result"
    }
   ],
   "source": [
    "matching = spm._refined_matching[0]\n",
    "labels1 = utils.summarize_clustering(\n",
    "    spm._metacell_labels1[0], rna_labels[spm._batch_to_indices1[0]]\n",
    ")\n",
    "# labels1 = celltype_labels_rna[mf_rna_to_atac._batch_to_indices1[0]]\n",
    "labels2 = atac_labels[spm._batch_to_indices2[0]]\n",
    "metrics.get_matching_acc(matching, labels1, labels2)"
   ]
  },
  {
   "cell_type": "code",
   "execution_count": 54,
   "id": "dfe9095e",
   "metadata": {},
   "outputs": [
    {
     "data": {
      "text/plain": [
       "<sklearn.metrics._plot.confusion_matrix.ConfusionMatrixDisplay at 0x7f9821c533d0>"
      ]
     },
     "execution_count": 54,
     "metadata": {},
     "output_type": "execute_result"
    },
    {
     "data": {
      "image/png": "[encoded data removed]",
      "text/plain": [
       "<Figure size 432x288 with 2 Axes>"
      ]
     },
     "metadata": {
      "needs_background": "light"
     },
     "output_type": "display_data"
    }
   ],
   "source": [
    "#plt.rcParams[\"figure.figsize\"] = (10,6)\n",
    "cm = confusion_matrix(labels1, labels2[matching[1]])\n",
    "ConfusionMatrixDisplay(\n",
    "    confusion_matrix=np.round((cm.T/np.sum(cm, axis=1)).T*100), \n",
    "    display_labels=np.unique(labels1)\n",
    ").plot()"
   ]
  },
  {
   "cell_type": "code",
   "execution_count": 55,
   "id": "b6e0dfd9",
   "metadata": {},
   "outputs": [
    {
     "name": "stdout",
     "output_type": "stream",
     "text": [
      "Now at batch 0<->0...\n",
      "Done!\n"
     ]
    }
   ],
   "source": [
    "spm.propagate(\n",
    "    wt1=0.5,\n",
    "    wt2=0.5,\n",
    "    svd_components1=50, \n",
    "    svd_components2=50, \n",
    "    randomized_svd=False, \n",
    "    svd_runs=1, \n",
    "    verbose=True\n",
    ")"
   ]
  },
  {
   "cell_type": "code",
   "execution_count": 56,
   "id": "85fea6c2",
   "metadata": {},
   "outputs": [
    {
     "name": "stdout",
     "output_type": "stream",
     "text": [
      "Begin filtering...\n",
      "Now at batch 0<->0...\n",
      "10197/10197 pairs of matched cells remain after the filtering.\n",
      "Scoring matched pairs...\n",
      "Done!\n"
     ]
    }
   ],
   "source": [
    "spm.filter_bad_matches(\n",
    "    target='propagated',\n",
    "    filter_prop=0.,\n",
    "    verbose=True\n",
    ")"
   ]
  },
  {
   "cell_type": "code",
   "execution_count": 57,
   "id": "9b820f6b",
   "metadata": {},
   "outputs": [
    {
     "data": {
      "text/plain": [
       "0.9508705526116579"
      ]
     },
     "execution_count": 57,
     "metadata": {},
     "output_type": "execute_result"
    }
   ],
   "source": [
    "rna_to_atac_matching = spm.get_matching(order=(1, 2), target='full_data')\n",
    "metrics.get_matching_acc(rna_to_atac_matching, rna_labels, atac_labels, order=(1, 2))"
   ]
  },
  {
   "cell_type": "code",
   "execution_count": 58,
   "id": "1750d525",
   "metadata": {},
   "outputs": [
    {
     "data": {
      "text/plain": [
       "<sklearn.metrics._plot.confusion_matrix.ConfusionMatrixDisplay at 0x7f9821ba2be0>"
      ]
     },
     "execution_count": 58,
     "metadata": {},
     "output_type": "execute_result"
    },
    {
     "data": {
      "image/png": "[encoded data removed]",
      "text/plain": [
       "<Figure size 432x288 with 2 Axes>"
      ]
     },
     "metadata": {
      "needs_background": "light"
     },
     "output_type": "display_data"
    }
   ],
   "source": [
    "#plt.rcParams[\"figure.figsize\"] = (10,6)\n",
    "cm = confusion_matrix(rna_labels[rna_to_atac_matching[0]], atac_labels[rna_to_atac_matching[1]])\n",
    "ConfusionMatrixDisplay(\n",
    "    confusion_matrix=np.round((cm.T/np.sum(cm, axis=1)).T*100), \n",
    "    display_labels=np.unique(rna_labels)\n",
    ").plot()"
   ]
  },
  {
   "cell_type": "markdown",
   "id": "b64a3218",
   "metadata": {},
   "source": [
    "## MaxFuse integration part 2: RNA --> CODEX integration"
   ]
  },
  {
   "cell_type": "code",
   "execution_count": 61,
   "id": "dac803cd",
   "metadata": {},
   "outputs": [],
   "source": [
    "correspondence = pd.read_csv('/production/hubmap/protein_rna_name_conversionV11.csv')"
   ]
  },
  {
   "cell_type": "code",
   "execution_count": 62,
   "id": "4ecdf041",
   "metadata": {},
   "outputs": [],
   "source": [
    "# change names\n",
    "rna_protein_correspondence = []\n",
    "for i in range(correspondence.shape[0]):\n",
    "    curr_protein_name, curr_rna_names = correspondence.iloc[i]\n",
    "    if curr_protein_name not in protein_adata.var_names:\n",
    "        continue\n",
    "    if curr_rna_names.find('Ignore') != -1:\n",
    "        continue\n",
    "    curr_rna_names = curr_rna_names.split('/')\n",
    "    for r in curr_rna_names:\n",
    "        if r in rna_all.columns:\n",
    "            rna_protein_correspondence.append([r, curr_protein_name])\n",
    "rna_protein_correspondence = np.array(rna_protein_correspondence)"
   ]
  },
  {
   "cell_type": "code",
   "execution_count": 63,
   "id": "7a5f8bfe",
   "metadata": {},
   "outputs": [],
   "source": [
    "# get shared features\n",
    "protein_shared = protein_adata[:, rna_protein_correspondence[:, 1]].X.copy()"
   ]
  },
  {
   "cell_type": "code",
   "execution_count": 64,
   "id": "820f95a4",
   "metadata": {},
   "outputs": [],
   "source": [
    "rna_shared = rna_all[rna_protein_correspondence[:, 0]].to_numpy()"
   ]
  },
  {
   "cell_type": "code",
   "execution_count": 65,
   "id": "18814328",
   "metadata": {},
   "outputs": [
    {
     "name": "stderr",
     "output_type": "stream",
     "text": [
      "/home/bkzhu/python/miniconda3/envs/super_mario_testing/lib/python3.8/site-packages/scanpy/preprocessing/_normalization.py:182: UserWarning: Some cells have zero counts\n",
      "  warn(UserWarning('Some cells have zero counts'))\n"
     ]
    }
   ],
   "source": [
    "rna_shared = ad.AnnData(rna_shared, dtype=np.float32)\n",
    "sc.pp.normalize_total(rna_shared)\n",
    "sc.pp.log1p(rna_shared)\n",
    "sc.pp.scale(rna_shared)"
   ]
  },
  {
   "cell_type": "code",
   "execution_count": 66,
   "id": "62463260",
   "metadata": {},
   "outputs": [],
   "source": [
    "rna_shared = rna_shared.X.copy()"
   ]
  },
  {
   "cell_type": "code",
   "execution_count": 67,
   "id": "f0c2c488",
   "metadata": {},
   "outputs": [],
   "source": [
    "# no preprocessing for codex, expression values we got are processed version"
   ]
  },
  {
   "cell_type": "code",
   "execution_count": 68,
   "id": "a15ac54a",
   "metadata": {},
   "outputs": [],
   "source": [
    "mf_rna_to_protein = match.MaxFuse(\n",
    "        shared_arr1=rna_shared,\n",
    "        shared_arr2=utils.center_scale(protein_shared),\n",
    "        active_arr1=rna_active,\n",
    "        active_arr2=utils.center_scale(protein_active),\n",
    "        method='centroid_shrinkage',\n",
    "        labels1=rna_seurat_labels.astype(str), # if None, then use scanpy clustering pipeline\n",
    "        labels2=protein_seurat_labels.astype(str)\n",
    "    )"
   ]
  },
  {
   "cell_type": "code",
   "execution_count": 69,
   "id": "c521b347",
   "metadata": {},
   "outputs": [
    {
     "name": "stdout",
     "output_type": "stream",
     "text": [
      "The first data is split into 1 batches, average batch size is 13210, and max batch size is 13210.\n",
      "The second data is split into 5 batches, average batch size is 20539, and max batch size is 20540.\n",
      "Batch to batch correspondence is:\n",
      "  ['0<->0', '0<->1', '0<->2', '0<->3', '0<->4'].\n"
     ]
    }
   ],
   "source": [
    "mf_rna_to_protein.split_into_batches(\n",
    "    max_outward_size=5000,\n",
    "    matching_ratio=4,\n",
    "    metacell_size=3,\n",
    "    seed=None,\n",
    "    verbose=True\n",
    ")"
   ]
  },
  {
   "cell_type": "code",
   "execution_count": 70,
   "id": "c4c7e2de",
   "metadata": {},
   "outputs": [
    {
     "name": "stdout",
     "output_type": "stream",
     "text": [
      "Aggregating cells in arr1 into metacells of average size 3...\n",
      "Constructing neighborhood graphs for cells in arr1...\n",
      "Now at batch 0...\n",
      "Graph construction finished!\n",
      "Clustering into metacells...\n",
      "Now at batch 0...\n",
      "Metacell clustering finished!\n"
     ]
    }
   ],
   "source": [
    "mf_rna_to_protein.construct_graphs(\n",
    "    n_neighbors1=15,\n",
    "    n_neighbors2=15,\n",
    "    svd_components1=40,\n",
    "    svd_components2=40,\n",
    "    resolution1=2,\n",
    "    resolution2=2,\n",
    "    randomized_svd=False,\n",
    "    svd_runs=1,\n",
    "    resolution_tol=0.1,\n",
    "    leiden_runs=1,\n",
    "    leiden_seed=None,\n",
    "    verbose=True\n",
    ")"
   ]
  },
  {
   "cell_type": "code",
   "execution_count": 71,
   "id": "506c4a75",
   "metadata": {},
   "outputs": [
    {
     "name": "stdout",
     "output_type": "stream",
     "text": [
      "Now at batch 0<->0...\n",
      "Now at batch 0<->1...\n",
      "Now at batch 0<->2...\n",
      "Now at batch 0<->3...\n",
      "Now at batch 0<->4...\n",
      "Done!\n"
     ]
    }
   ],
   "source": [
    "mf_rna_to_protein.find_initial_pivots(\n",
    "    wt1=0.3, wt2=0.3,\n",
    "    svd_components1=40, svd_components2=40,\n",
    "    randomized_svd=False, svd_runs=1,\n",
    "    verbose=True\n",
    ")"
   ]
  },
  {
   "cell_type": "code",
   "execution_count": 72,
   "id": "3ea8bb55",
   "metadata": {},
   "outputs": [
    {
     "data": {
      "text/plain": [
       "0.9211005002273761"
      ]
     },
     "execution_count": 72,
     "metadata": {},
     "output_type": "execute_result"
    }
   ],
   "source": [
    "matching = mf_rna_to_protein._init_matching[0]\n",
    "labels1 = utils.summarize_clustering(\n",
    "    mf_rna_to_protein._metacell_labels1[0], rna_labels[mf_rna_to_protein._batch_to_indices1[0]]\n",
    ")\n",
    "# labels1 = celltype_labels_rna[mf_rna_to_atac._batch_to_indices1[0]]\n",
    "labels2 = protein_labels[mf_rna_to_protein._batch_to_indices2[0]]\n",
    "metrics.get_matching_acc(matching, labels1, labels2)"
   ]
  },
  {
   "cell_type": "code",
   "execution_count": 73,
   "id": "af0cd935",
   "metadata": {},
   "outputs": [
    {
     "data": {
      "text/plain": [
       "<sklearn.metrics._plot.confusion_matrix.ConfusionMatrixDisplay at 0x7f9820ecb730>"
      ]
     },
     "execution_count": 73,
     "metadata": {},
     "output_type": "execute_result"
    },
    {
     "data": {
      "image/png": "[encoded data removed]",
      "text/plain": [
       "<Figure size 432x288 with 2 Axes>"
      ]
     },
     "metadata": {
      "needs_background": "light"
     },
     "output_type": "display_data"
    }
   ],
   "source": [
    "#plt.rcParams[\"figure.figsize\"] = (5,5)\n",
    "cm = confusion_matrix(labels1, labels2[matching[1]])\n",
    "ConfusionMatrixDisplay(\n",
    "    confusion_matrix=np.round((cm.T/np.sum(cm, axis=1)).T*100), \n",
    "    display_labels=np.unique(labels1)\n",
    ").plot()"
   ]
  },
  {
   "cell_type": "code",
   "execution_count": 180,
   "id": "4d8579b7",
   "metadata": {},
   "outputs": [
    {
     "name": "stdout",
     "output_type": "stream",
     "text": [
      "Now at batch 0<->0...\n",
      "Now at batch 0<->1...\n",
      "Now at batch 0<->2...\n",
      "Now at batch 0<->3...\n",
      "Now at batch 0<->4...\n",
      "Done!\n"
     ]
    }
   ],
   "source": [
    "mf_rna_to_protein.refine_pivots(\n",
    "    wt1=0.3, wt2=0.3,\n",
    "    svd_components1=40, svd_components2=40,\n",
    "    cca_components=17,\n",
    "    filter_prop=0.,\n",
    "    n_iters=1,\n",
    "    randomized_svd=False, \n",
    "    svd_runs=1,\n",
    "    verbose=True\n",
    ")"
   ]
  },
  {
   "cell_type": "code",
   "execution_count": 181,
   "id": "1b4c770a",
   "metadata": {},
   "outputs": [
    {
     "data": {
      "text/plain": [
       "0.9142792178262846"
      ]
     },
     "execution_count": 181,
     "metadata": {},
     "output_type": "execute_result"
    }
   ],
   "source": [
    "matching = mf_rna_to_protein._refined_matching[0]\n",
    "labels1 = utils.summarize_clustering(\n",
    "    mf_rna_to_protein._metacell_labels1[0], rna_labels[mf_rna_to_protein._batch_to_indices1[0]]\n",
    ")\n",
    "# labels1 = celltype_labels_rna[mf_rna_to_atac._batch_to_indices1[0]]\n",
    "labels2 = protein_labels[mf_rna_to_protein._batch_to_indices2[0]]\n",
    "metrics.get_matching_acc(matching, labels1, labels2)"
   ]
  },
  {
   "cell_type": "code",
   "execution_count": 182,
   "id": "19880504",
   "metadata": {},
   "outputs": [
    {
     "data": {
      "text/plain": [
       "<sklearn.metrics._plot.confusion_matrix.ConfusionMatrixDisplay at 0x7f981fc4b7c0>"
      ]
     },
     "execution_count": 182,
     "metadata": {},
     "output_type": "execute_result"
    },
    {
     "data": {
      "image/png": "[encoded data removed]",
      "text/plain": [
       "<Figure size 720x432 with 2 Axes>"
      ]
     },
     "metadata": {
      "needs_background": "light"
     },
     "output_type": "display_data"
    }
   ],
   "source": [
    "#plt.rcParams[\"figure.figsize\"] = (5,5)\n",
    "cm = confusion_matrix(labels1, labels2[matching[1]])\n",
    "ConfusionMatrixDisplay(\n",
    "    confusion_matrix=np.round((cm.T/np.sum(cm, axis=1)).T*100), \n",
    "    display_labels=np.unique(labels1)\n",
    ").plot()"
   ]
  },
  {
   "cell_type": "code",
   "execution_count": 183,
   "id": "d6ecf18c",
   "metadata": {},
   "outputs": [
    {
     "name": "stdout",
     "output_type": "stream",
     "text": [
      "Begin filtering...\n",
      "Now at batch 0<->0...\n",
      "Now at batch 0<->1...\n",
      "Now at batch 0<->2...\n",
      "Now at batch 0<->3...\n",
      "Now at batch 0<->4...\n",
      "15390/21990 pairs of matched cells remain after the filtering.\n",
      "Fitting CCA on pivots...\n",
      "Scoring matched pairs...\n",
      "11418/13210 cells in arr1 are selected as pivots.\n",
      "15390/102696 cells in arr2 are selected as pivots.\n",
      "Done!\n"
     ]
    }
   ],
   "source": [
    "mf_rna_to_protein.filter_bad_matches(target='pivot', filter_prop=0.3, verbose=True)"
   ]
  },
  {
   "cell_type": "code",
   "execution_count": 184,
   "id": "e91bc62b",
   "metadata": {},
   "outputs": [
    {
     "name": "stdout",
     "output_type": "stream",
     "text": [
      "Now at batch 0<->0...\n",
      "Now at batch 0<->1...\n",
      "Now at batch 0<->2...\n",
      "Now at batch 0<->3...\n",
      "Now at batch 0<->4...\n",
      "Done!\n"
     ]
    }
   ],
   "source": [
    "mf_rna_to_protein.propagate(\n",
    "    wt1=0.5,\n",
    "    wt2=0.5,\n",
    "    svd_components1=None, \n",
    "    svd_components2=None, \n",
    "    randomized_svd=False, \n",
    "    svd_runs=1, \n",
    "    verbose=True\n",
    ")"
   ]
  },
  {
   "cell_type": "code",
   "execution_count": 186,
   "id": "c9e98207",
   "metadata": {},
   "outputs": [
    {
     "name": "stdout",
     "output_type": "stream",
     "text": [
      "Begin filtering...\n",
      "Now at batch 0<->0...\n",
      "Now at batch 0<->1...\n",
      "Now at batch 0<->2...\n",
      "Now at batch 0<->3...\n",
      "Now at batch 0<->4...\n",
      "61040/93906 pairs of matched cells remain after the filtering.\n",
      "Scoring matched pairs...\n",
      "Done!\n"
     ]
    }
   ],
   "source": [
    "mf_rna_to_protein.filter_bad_matches(\n",
    "    target='propagated',\n",
    "    filter_prop=0.35,\n",
    "    verbose=True\n",
    ")"
   ]
  },
  {
   "cell_type": "code",
   "execution_count": 187,
   "id": "49be8fc2",
   "metadata": {},
   "outputs": [
    {
     "data": {
      "text/plain": [
       "0.929882590927108"
      ]
     },
     "execution_count": 187,
     "metadata": {},
     "output_type": "execute_result"
    }
   ],
   "source": [
    "rna_to_protein_matching = mf_rna_to_protein.get_matching(order=(2, 1), target='full_data')\n",
    "metrics.get_matching_acc(rna_to_protein_matching, rna_labels, protein_labels, order=(2, 1))"
   ]
  },
  {
   "cell_type": "code",
   "execution_count": 188,
   "id": "15f5a701",
   "metadata": {},
   "outputs": [
    {
     "data": {
      "text/plain": [
       "<sklearn.metrics._plot.confusion_matrix.ConfusionMatrixDisplay at 0x7f97a3361400>"
      ]
     },
     "execution_count": 188,
     "metadata": {},
     "output_type": "execute_result"
    },
    {
     "data": {
      "image/png": "[encoded data removed]",
      "text/plain": [
       "<Figure size 720x432 with 2 Axes>"
      ]
     },
     "metadata": {
      "needs_background": "light"
     },
     "output_type": "display_data"
    }
   ],
   "source": [
    "plt.rcParams[\"figure.figsize\"] = (10,6)\n",
    "cm = confusion_matrix(protein_labels[rna_to_protein_matching[1]], rna_labels[rna_to_protein_matching[0]])\n",
    "ConfusionMatrixDisplay(\n",
    "    confusion_matrix=np.round((cm.T/np.sum(cm, axis=1)).T*100), \n",
    "    display_labels=np.unique(protein_labels)\n",
    ").plot()"
   ]
  },
  {
   "cell_type": "markdown",
   "id": "883d0979",
   "metadata": {},
   "source": [
    "## Custome tri modality chaining code:"
   ]
  },
  {
   "cell_type": "code",
   "execution_count": 189,
   "id": "87775e33",
   "metadata": {},
   "outputs": [],
   "source": [
    "from collections import defaultdict\n",
    "def get_matched_indices(pivots12, pivots23):\n",
    "    # for each index in indices1, find its match in indices3\n",
    "    # by using indices 2 as a transportation hub\n",
    "    idx1_to_indices2 = defaultdict(set)\n",
    "    for idx1, idx2 in zip(pivots12[0], pivots12[1]):\n",
    "        idx1_to_indices2[idx1].add(idx2)\n",
    "    \n",
    "    idx2_to_indices3 = defaultdict(set)\n",
    "    for idx2, idx3 in zip(pivots23[0], pivots23[1]):\n",
    "        idx2_to_indices3[idx2].add(idx3)\n",
    "    \n",
    "    # idx1_to_indices3 = defaultdict(set)\n",
    "    final_indices1, final_indices2, final_indices3 = [], [], []\n",
    "    for idx1, indices2 in idx1_to_indices2.items():\n",
    "        for idx2 in indices2:\n",
    "            if idx2 in idx2_to_indices3:\n",
    "                for idx3 in idx2_to_indices3[idx2]:\n",
    "                    final_indices1.append(idx1)\n",
    "                    final_indices2.append(idx2)\n",
    "                    final_indices3.append(idx3)\n",
    "    \n",
    "    return final_indices1, final_indices2, final_indices3"
   ]
  },
  {
   "cell_type": "code",
   "execution_count": 190,
   "id": "09e6f582",
   "metadata": {},
   "outputs": [],
   "source": [
    "import match_utils\n",
    "rna_to_atac_full = match_utils.address_matching_redundancy(\n",
    "    spm.get_matching(order=(1,2), target='full_data'), \n",
    "    order=(1,2)\n",
    ")\n",
    "protein_to_rna_full = match_utils.address_matching_redundancy(\n",
    "    mf_rna_to_protein.get_matching(order=(2, 1), target='full_data'),\n",
    "    order=(2, 1)\n",
    ")"
   ]
  },
  {
   "cell_type": "code",
   "execution_count": 191,
   "id": "529401bc",
   "metadata": {},
   "outputs": [],
   "source": [
    "indices_protein, indices_rna,  indices_atac = get_matched_indices(\n",
    "    # protein -> rna\n",
    "    pivots12=[protein_to_rna_full[1], protein_to_rna_full[0]],\n",
    "    # rna -> atac\n",
    "    pivots23=[rna_to_atac_full[0], rna_to_atac_full[1]],\n",
    ")"
   ]
  },
  {
   "cell_type": "code",
   "execution_count": 195,
   "id": "60f98927",
   "metadata": {},
   "outputs": [
    {
     "data": {
      "text/plain": [
       "0.9019996446291159"
      ]
     },
     "execution_count": 195,
     "metadata": {},
     "output_type": "execute_result"
    }
   ],
   "source": [
    "# 3 way correctness\n",
    "np.mean([x == y == z for x, y, z in zip(\n",
    "    protein_labels[indices_protein], \n",
    "    atac_labels[indices_atac],\n",
    "    rna_labels[indices_rna]\n",
    ")])"
   ]
  },
  {
   "cell_type": "code",
   "execution_count": 196,
   "id": "c4b86bb9",
   "metadata": {},
   "outputs": [
    {
     "data": {
      "text/plain": [
       "<sklearn.metrics._plot.confusion_matrix.ConfusionMatrixDisplay at 0x7f97a2f4ca90>"
      ]
     },
     "execution_count": 196,
     "metadata": {},
     "output_type": "execute_result"
    },
    {
     "data": {
      "image/png": "[encoded data removed]",
      "text/plain": [
       "<Figure size 720x432 with 2 Axes>"
      ]
     },
     "metadata": {
      "needs_background": "light"
     },
     "output_type": "display_data"
    }
   ],
   "source": [
    "# check protein to atac \n",
    "plt.rcParams[\"figure.figsize\"] = (10,6)\n",
    "cm = confusion_matrix(protein_labels[indices_protein], atac_labels[indices_atac])\n",
    "ConfusionMatrixDisplay(\n",
    "    confusion_matrix=np.round((cm.T/np.sum(cm, axis=1)).T*100), \n",
    "    # confusion_matrix=cm, \n",
    "    display_labels=np.unique(protein_labels)\n",
    ").plot()"
   ]
  },
  {
   "cell_type": "code",
   "execution_count": 197,
   "id": "d56b16ae",
   "metadata": {},
   "outputs": [
    {
     "data": {
      "text/html": [
       "<div>\n",
       "<style scoped>\n",
       "    .dataframe tbody tr th:only-of-type {\n",
       "        vertical-align: middle;\n",
       "    }\n",
       "\n",
       "    .dataframe tbody tr th {\n",
       "        vertical-align: top;\n",
       "    }\n",
       "\n",
       "    .dataframe thead th {\n",
       "        text-align: right;\n",
       "    }\n",
       "</style>\n",
       "<table border=\"1\" class=\"dataframe\">\n",
       "  <thead>\n",
       "    <tr style=\"text-align: right;\">\n",
       "      <th></th>\n",
       "      <th>codex_indice</th>\n",
       "      <th>rna_indice</th>\n",
       "      <th>atac_indice</th>\n",
       "    </tr>\n",
       "  </thead>\n",
       "  <tbody>\n",
       "    <tr>\n",
       "      <th>0</th>\n",
       "      <td>20</td>\n",
       "      <td>3671</td>\n",
       "      <td>10876</td>\n",
       "    </tr>\n",
       "    <tr>\n",
       "      <th>1</th>\n",
       "      <td>29</td>\n",
       "      <td>3701</td>\n",
       "      <td>5861</td>\n",
       "    </tr>\n",
       "    <tr>\n",
       "      <th>2</th>\n",
       "      <td>53</td>\n",
       "      <td>1117</td>\n",
       "      <td>11644</td>\n",
       "    </tr>\n",
       "    <tr>\n",
       "      <th>3</th>\n",
       "      <td>54</td>\n",
       "      <td>3786</td>\n",
       "      <td>9508</td>\n",
       "    </tr>\n",
       "    <tr>\n",
       "      <th>4</th>\n",
       "      <td>64</td>\n",
       "      <td>3334</td>\n",
       "      <td>5959</td>\n",
       "    </tr>\n",
       "    <tr>\n",
       "      <th>...</th>\n",
       "      <td>...</td>\n",
       "      <td>...</td>\n",
       "      <td>...</td>\n",
       "    </tr>\n",
       "    <tr>\n",
       "      <th>73158</th>\n",
       "      <td>102690</td>\n",
       "      <td>12769</td>\n",
       "      <td>2937</td>\n",
       "    </tr>\n",
       "    <tr>\n",
       "      <th>73159</th>\n",
       "      <td>102692</td>\n",
       "      <td>9980</td>\n",
       "      <td>7430</td>\n",
       "    </tr>\n",
       "    <tr>\n",
       "      <th>73160</th>\n",
       "      <td>102693</td>\n",
       "      <td>9980</td>\n",
       "      <td>7430</td>\n",
       "    </tr>\n",
       "    <tr>\n",
       "      <th>73161</th>\n",
       "      <td>102694</td>\n",
       "      <td>11575</td>\n",
       "      <td>10785</td>\n",
       "    </tr>\n",
       "    <tr>\n",
       "      <th>73162</th>\n",
       "      <td>102695</td>\n",
       "      <td>10071</td>\n",
       "      <td>11319</td>\n",
       "    </tr>\n",
       "  </tbody>\n",
       "</table>\n",
       "<p>73163 rows × 3 columns</p>\n",
       "</div>"
      ],
      "text/plain": [
       "       codex_indice  rna_indice  atac_indice\n",
       "0                20        3671        10876\n",
       "1                29        3701         5861\n",
       "2                53        1117        11644\n",
       "3                54        3786         9508\n",
       "4                64        3334         5959\n",
       "...             ...         ...          ...\n",
       "73158        102690       12769         2937\n",
       "73159        102692        9980         7430\n",
       "73160        102693        9980         7430\n",
       "73161        102694       11575        10785\n",
       "73162        102695       10071        11319\n",
       "\n",
       "[73163 rows x 3 columns]"
      ]
     },
     "execution_count": 197,
     "metadata": {},
     "output_type": "execute_result"
    }
   ],
   "source": [
    "dd = {'codex_indice':indices_protein, 'rna_indice':indices_rna, 'atac_indice':indices_atac}\n",
    "\n",
    "df_full_cdx = pd.DataFrame(dd)\n",
    "df_full_cdx"
   ]
  },
  {
   "cell_type": "code",
   "execution_count": 198,
   "id": "9518e7cc",
   "metadata": {},
   "outputs": [],
   "source": [
    "df_full_cdx.to_csv(\"/hubmap_fin/output/tri_int/sb_cdx_full_indx_hh.csv\", index = False)"
   ]
  },
  {
   "cell_type": "markdown",
   "id": "fa463c01",
   "metadata": {},
   "source": [
    "## Since tri modality, we need to fit GCCA to get tri-embedding## Fit GCCA"
   ]
  },
  {
   "cell_type": "code",
   "execution_count": 199,
   "id": "44cd89a1",
   "metadata": {},
   "outputs": [],
   "source": [
    "import match_utils"
   ]
  },
  {
   "cell_type": "code",
   "execution_count": 200,
   "id": "dd86eda8",
   "metadata": {},
   "outputs": [],
   "source": [
    "# get pivot chaining for gcca initialization\n",
    "\n",
    "rna_to_atac_pivots = match_utils.address_matching_redundancy(\n",
    "    spm.get_matching(order=(1, 2), target='pivot'), \n",
    "    order=(1, 2)\n",
    ")\n",
    "rna_to_protein_pivots = match_utils.address_matching_redundancy(\n",
    "    mf_rna_to_protein.get_matching(order=(1, 2), target='pivot'),\n",
    "    order=(1, 2)\n",
    ")\n",
    "\n",
    "pivots_protein, pivots_rna, pivots_atac = get_matched_indices(\n",
    "    # protein -> rna\n",
    "    pivots12=[rna_to_protein_pivots[1], rna_to_protein_pivots[0]],\n",
    "    # rna -> atac\n",
    "    pivots23=[rna_to_atac_pivots[0], rna_to_atac_pivots[1]],\n",
    ")"
   ]
  },
  {
   "cell_type": "code",
   "execution_count": 201,
   "id": "2a2caee9",
   "metadata": {},
   "outputs": [
    {
     "data": {
      "text/plain": [
       "0.9231914520931862"
      ]
     },
     "execution_count": 201,
     "metadata": {},
     "output_type": "execute_result"
    }
   ],
   "source": [
    "# check pivot three way correctness\n",
    "np.mean([x == y == z for x, y, z in zip(\n",
    "    protein_labels[pivots_protein], \n",
    "    atac_labels[pivots_atac],\n",
    "    rna_labels[pivots_rna]\n",
    ")])"
   ]
  },
  {
   "cell_type": "code",
   "execution_count": 202,
   "id": "0588a273",
   "metadata": {},
   "outputs": [],
   "source": [
    "## helper code for gcca\n",
    "\n",
    "from sklearn.cross_decomposition import CCA\n",
    "\n",
    "def gcca_init(data_list, indices_list, n_components=10, max_iter=2000):\n",
    "    \"\"\"Initialization of GCCA.\n",
    "    Parameters\n",
    "    ----------\n",
    "    data_list: list\n",
    "        A list of data matrices, e.g., [X1, X2, X3, X4]\n",
    "    indices_list: list\n",
    "        A list of indices to fit GCCA on\n",
    "    n_components : int, default=10\n",
    "        Number of GCCA components.\n",
    "    max_iter: int, default=2000\n",
    "    Returns\n",
    "    ----------\n",
    "    embeddings_list: list\n",
    "        A list of projected data.\n",
    "    \"\"\"\n",
    "    # run CCA on the first two data matrices\n",
    "    cca = CCA(n_components=n_components, max_iter=max_iter)\n",
    "    cca.fit(data_list[0][indices_list[0]], data_list[1][indices_list[1]])\n",
    "    # transform the first two data matrices\n",
    "    embeddings_list = list(cca.transform(data_list[0], data_list[1]))\n",
    "    avg_score = (embeddings_list[0][indices_list[0]] + embeddings_list[1][indices_list[1]]) / 2\n",
    "    # run OLS regressions for the rest of data matrices\n",
    "    for data, indices in zip(data_list[2:], indices_list[2:]):\n",
    "        B = np.linalg.lstsq(data[indices], avg_score, rcond=None)[0]\n",
    "        embeddings_list.append(data @ B)\n",
    "\n",
    "    return embeddings_list\n",
    "\n",
    "def gcca_refine(data_list, indices_list, init_embeddings_list, max_iter=500, tol=1e-3, verbose=True):\n",
    "    \"\"\"Refinement of GCCA.\n",
    "    Parameters\n",
    "    ---------\n",
    "    data_list : list\n",
    "        A list of data matrices.\n",
    "    indices_list: list\n",
    "        A list of indices to fit GCCA on\n",
    "    init_embeddings_list : list\n",
    "        A list of initial embeddings.\n",
    "    max_iter : int, default=500\n",
    "        Number of maximum iterations.\n",
    "    tol : float, default=1e-3\n",
    "        Algorithm terminates when the change of objective function value is <=tol.\n",
    "    verbose : bool, default=True\n",
    "        Print details if True.\n",
    "    Returns\n",
    "    ----------\n",
    "    all_scores : list\n",
    "        A list of projected data.\n",
    "    \"\"\"\n",
    "\n",
    "    n_datasets = len(data_list)\n",
    "    n_pivots = len(indices_list[0])\n",
    "    n_components = init_embeddings_list[0].shape[1]\n",
    "\n",
    "    # n_datasets * n_indices * n_components\n",
    "    all_embeddings = [np.zeros_like(init_embeddings) for init_embeddings in init_embeddings_list]\n",
    "    \n",
    "    for ii in range(n_components):\n",
    "        if verbose:\n",
    "            print(\"Computing the {}-th canonical score...\".format(ii), flush=True)\n",
    "        # curr_data_list is the list of row-paired datasets to be used to fit GCCA\n",
    "        if ii > 0:\n",
    "            curr_data_list = []\n",
    "            for idx in range(n_datasets):\n",
    "                coef = np.linalg.lstsq(\n",
    "                    # regress out the influence of all previous scores\n",
    "                    all_embeddings[idx][indices_list[idx], :ii],\n",
    "                    data_list[idx][indices_list[idx]], \n",
    "                    rcond=None\n",
    "                )[0]\n",
    "                curr_data_list.append(\n",
    "                    data_list[idx][indices_list[idx]] - all_embeddings[idx][indices_list[idx], :ii] @ coef\n",
    "                )\n",
    "        else:\n",
    "            curr_data_list = [data[indices] for data, indices in zip(data_list, indices_list)] \n",
    "\n",
    "        # preparations for entering main iteration\n",
    "        curr_scores = [e[indices, ii] for e, indices in zip(init_embeddings_list, indices_list)]\n",
    "        curr_embeddings = [e[:, ii] for e in init_embeddings_list]\n",
    "        \n",
    "        score_sum = sum(s for s in curr_scores)\n",
    "        prev_obj = np.inf\n",
    "\n",
    "        # alternating minimization\n",
    "        for iter_idx in range(max_iter):\n",
    "            for jj in range(n_datasets):\n",
    "                y = (score_sum - curr_scores[jj]) / (n_datasets - 1)\n",
    "                X = curr_data_list[jj]\n",
    "                coef = np.linalg.lstsq(X, y, rcond=None)[0]\n",
    "                coef = coef / np.sqrt(np.sum(coef ** 2))\n",
    "                score = X @ coef\n",
    "                score_sum = score_sum - curr_embeddings[jj][indices_list[jj]] + score\n",
    "                # only update the locations where rows are paired\n",
    "                curr_scores[jj] = score\n",
    "            # check convergence\n",
    "            obj = 0\n",
    "            for jj in range(n_datasets - 1):\n",
    "                obj += np.sqrt(np.sum((curr_scores[jj] - curr_scores[jj + 1]) ** 2))\n",
    "\n",
    "            if verbose and iter_idx % 50 == 0:\n",
    "                print(\"At iteration {}, the objective value is {}.\".format(iter_idx, obj), flush=True)\n",
    "\n",
    "            if abs(obj - prev_obj) < tol:\n",
    "                break\n",
    "            else:\n",
    "                prev_obj = obj\n",
    "\n",
    "        if verbose:\n",
    "            print(\"Finished computing the {}-th canonical score, the objective is {}.\".format(ii, obj), flush=True)\n",
    "\n",
    "        # curr_scores are linear combinations of the residual matrices\n",
    "        # convert them into linear combinations of the original data matrices\n",
    "        for jj in range(n_datasets):\n",
    "            coef = np.linalg.lstsq(data_list[jj][indices_list[jj]], curr_scores[jj], rcond=None)[0]\n",
    "            all_embeddings[jj][:, ii] = data_list[jj] @ coef\n",
    "\n",
    "    return all_embeddings\n",
    "\n",
    "import umap\n",
    "import seaborn as sns\n",
    "def fit_umap(arr):\n",
    "    u = umap.UMAP(random_state = 42).fit_transform(\n",
    "        arr\n",
    "    )\n",
    "    return u"
   ]
  },
  {
   "cell_type": "markdown",
   "id": "4e2d6b76",
   "metadata": {},
   "source": [
    "#### gcca run on active arrays for three modality\n",
    "\n",
    "#### protein would be normal, rna on variable genes, atac on LSI embedding"
   ]
  },
  {
   "cell_type": "code",
   "execution_count": 203,
   "id": "e3d6a2dc",
   "metadata": {},
   "outputs": [],
   "source": [
    "# svd on active genes\n",
    "rna_active_svd = utils.svd_embedding(rna_active, 50)\n",
    "rna_active_svd = utils.center_scale(rna_active_svd)\n",
    "# svd on active genes (atac)\n",
    "atac_active_svd = utils.svd_embedding(atac_active, 50)\n",
    "atac_active_svd = utils.center_scale(atac_active_svd)\n",
    "# indices_protein\n",
    "protein_active_svd = utils.svd_embedding(protein_active, None) # only the codex cell that has bimodality matches\n",
    "protein_active_svd = utils.center_scale(protein_active_svd)"
   ]
  },
  {
   "cell_type": "code",
   "execution_count": 205,
   "id": "42f7d41d",
   "metadata": {},
   "outputs": [],
   "source": [
    "# initialize\n",
    "init_embeddings = gcca_init(\n",
    "    data_list=[rna_active_svd, atac_active_svd, protein_active_svd],\n",
    "    indices_list=[pivots_rna, pivots_atac, pivots_protein],\n",
    "    n_components=15 \n",
    ")"
   ]
  },
  {
   "cell_type": "code",
   "execution_count": 206,
   "id": "96a25949",
   "metadata": {},
   "outputs": [],
   "source": [
    "# can check umap of inital embedding if we want\n",
    "scaled_init_embeddings = [utils.center_scale(embeddings) for embeddings in init_embeddings]\n",
    "init_umap = fit_umap(np.concatenate(init_embeddings, axis=0))\n",
    "scaled_init_umap = fit_umap(np.concatenate(scaled_init_embeddings, axis=0))"
   ]
  },
  {
   "cell_type": "code",
   "execution_count": 207,
   "id": "db08adda",
   "metadata": {},
   "outputs": [
    {
     "name": "stdout",
     "output_type": "stream",
     "text": [
      "Computing the 0-th canonical score...\n",
      "At iteration 0, the objective value is 141.84604761342138.\n",
      "At iteration 50, the objective value is 135.0651741210056.\n",
      "Finished computing the 0-th canonical score, the objective is 135.0650585247884.\n",
      "Computing the 1-th canonical score...\n",
      "At iteration 0, the objective value is 182.589869738277.\n",
      "At iteration 50, the objective value is 181.5879141860032.\n",
      "At iteration 100, the objective value is 183.82127780122522.\n",
      "At iteration 150, the objective value is 184.43331516405604.\n",
      "At iteration 200, the objective value is 184.69796489582995.\n",
      "At iteration 250, the objective value is 184.83799799108562.\n",
      "At iteration 300, the objective value is 184.92108396857108.\n",
      "Finished computing the 1-th canonical score, the objective is 184.95752050530308.\n",
      "Computing the 2-th canonical score...\n",
      "At iteration 0, the objective value is 195.78795329032488.\n",
      "At iteration 50, the objective value is 191.2371231586356.\n",
      "At iteration 100, the objective value is 192.23082745541836.\n",
      "At iteration 150, the objective value is 192.69102492460337.\n",
      "At iteration 200, the objective value is 192.96936083292582.\n",
      "At iteration 250, the objective value is 193.1605146490253.\n",
      "At iteration 300, the objective value is 193.30205155316312.\n",
      "At iteration 350, the objective value is 193.41221641092375.\n",
      "At iteration 400, the objective value is 193.50107243088902.\n",
      "At iteration 450, the objective value is 193.57468170645126.\n",
      "At iteration 500, the objective value is 193.6369412399791.\n",
      "At iteration 550, the objective value is 193.69048463957975.\n",
      "Finished computing the 2-th canonical score, the objective is 193.69048463957975.\n",
      "Computing the 3-th canonical score...\n",
      "At iteration 0, the objective value is 172.56499895208725.\n",
      "At iteration 50, the objective value is 166.13826608228948.\n",
      "Finished computing the 3-th canonical score, the objective is 165.93169879172166.\n",
      "Computing the 4-th canonical score...\n",
      "At iteration 0, the objective value is 203.67927998115027.\n",
      "At iteration 50, the objective value is 185.7039833170861.\n",
      "At iteration 100, the objective value is 190.48003052738463.\n",
      "At iteration 150, the objective value is 192.5994091607257.\n",
      "At iteration 200, the objective value is 193.8512213665884.\n",
      "At iteration 250, the objective value is 194.69885981171527.\n",
      "At iteration 300, the objective value is 195.3207152637836.\n",
      "At iteration 350, the objective value is 195.8016470115121.\n",
      "At iteration 400, the objective value is 196.18776188186723.\n",
      "At iteration 450, the objective value is 196.5065211393274.\n",
      "At iteration 500, the objective value is 196.77542243936682.\n",
      "At iteration 550, the objective value is 197.0062071376816.\n",
      "At iteration 600, the objective value is 197.2070837637886.\n",
      "At iteration 650, the objective value is 197.3839853827593.\n",
      "At iteration 700, the objective value is 197.541320412438.\n",
      "At iteration 750, the objective value is 197.68244150467876.\n",
      "At iteration 800, the objective value is 197.8099495587693.\n",
      "At iteration 850, the objective value is 197.92589723260613.\n",
      "At iteration 900, the objective value is 198.03192897456864.\n",
      "At iteration 950, the objective value is 198.12937971133823.\n",
      "At iteration 1000, the objective value is 198.2193458771053.\n",
      "At iteration 1050, the objective value is 198.3027374975074.\n",
      "At iteration 1100, the objective value is 198.3803170217301.\n",
      "At iteration 1150, the objective value is 198.4527287098187.\n",
      "At iteration 1200, the objective value is 198.52052117406487.\n",
      "At iteration 1250, the objective value is 198.58416488195618.\n",
      "At iteration 1300, the objective value is 198.6440658991853.\n",
      "At iteration 1350, the objective value is 198.7005767910609.\n",
      "At iteration 1400, the objective value is 198.7540053512979.\n",
      "Finished computing the 4-th canonical score, the objective is 198.79171815514914.\n",
      "Computing the 5-th canonical score...\n",
      "At iteration 0, the objective value is 203.19251788568272.\n",
      "At iteration 50, the objective value is 203.16893500090237.\n",
      "At iteration 100, the objective value is 203.22447483922286.\n",
      "Finished computing the 5-th canonical score, the objective is 203.24324438121786.\n",
      "Computing the 6-th canonical score...\n",
      "At iteration 0, the objective value is 193.0517892523472.\n",
      "At iteration 50, the objective value is 200.44596629817812.\n",
      "At iteration 100, the objective value is 198.6757147154401.\n",
      "At iteration 150, the objective value is 197.8601331377772.\n",
      "At iteration 200, the objective value is 197.36836316195652.\n",
      "At iteration 250, the objective value is 197.03103544844012.\n",
      "At iteration 300, the objective value is 196.7813457604546.\n",
      "At iteration 350, the objective value is 196.5869754953508.\n",
      "At iteration 400, the objective value is 196.43014454987252.\n",
      "At iteration 450, the objective value is 196.3001603118966.\n",
      "At iteration 500, the objective value is 196.1901568124185.\n",
      "At iteration 550, the objective value is 196.0954974594365.\n",
      "At iteration 600, the objective value is 196.01292345616275.\n",
      "At iteration 650, the objective value is 195.94006867209563.\n",
      "At iteration 700, the objective value is 195.87516812774703.\n",
      "At iteration 750, the objective value is 195.8168749529654.\n",
      "At iteration 800, the objective value is 195.76414114097787.\n",
      "Finished computing the 6-th canonical score, the objective is 195.7601365152061.\n",
      "Computing the 7-th canonical score...\n",
      "At iteration 0, the objective value is 188.1360732095036.\n",
      "At iteration 50, the objective value is 196.0076803249339.\n",
      "At iteration 100, the objective value is 193.3742162100687.\n",
      "At iteration 150, the objective value is 192.4522707754333.\n",
      "At iteration 200, the objective value is 191.9595782050916.\n",
      "At iteration 250, the objective value is 191.64505776160019.\n",
      "At iteration 300, the objective value is 191.4233658705602.\n",
      "At iteration 350, the objective value is 191.25688871340634.\n",
      "At iteration 400, the objective value is 191.12625129300335.\n",
      "At iteration 450, the objective value is 191.02036777772418.\n",
      "At iteration 500, the objective value is 190.93239462180858.\n",
      "At iteration 550, the objective value is 190.85785667000766.\n",
      "At iteration 600, the objective value is 190.79369210161627.\n",
      "At iteration 650, the objective value is 190.73772821792812.\n",
      "Finished computing the 7-th canonical score, the objective is 190.71726809257746.\n",
      "Computing the 8-th canonical score...\n",
      "At iteration 0, the objective value is 209.2370123413735.\n",
      "At iteration 50, the objective value is 211.94039057577714.\n",
      "At iteration 100, the objective value is 211.14848822772828.\n",
      "At iteration 150, the objective value is 210.82946986724056.\n",
      "At iteration 200, the objective value is 210.64826442073542.\n",
      "At iteration 250, the objective value is 210.52853187081095.\n",
      "At iteration 300, the objective value is 210.4422629450745.\n",
      "At iteration 350, the objective value is 210.37650030892948.\n",
      "Finished computing the 8-th canonical score, the objective is 210.33883725604483.\n",
      "Computing the 9-th canonical score...\n",
      "At iteration 0, the objective value is 192.28874148197394.\n",
      "At iteration 50, the objective value is 191.18057925304117.\n",
      "At iteration 100, the objective value is 190.65796419270472.\n",
      "Finished computing the 9-th canonical score, the objective is 190.57231817617415.\n",
      "Computing the 10-th canonical score...\n",
      "At iteration 0, the objective value is 211.26111748541646.\n",
      "At iteration 50, the objective value is 212.91816939300384.\n",
      "At iteration 100, the objective value is 212.02480803913994.\n",
      "At iteration 150, the objective value is 211.6892977141062.\n",
      "At iteration 200, the objective value is 211.50443573979575.\n",
      "At iteration 250, the objective value is 211.38432017491965.\n",
      "At iteration 300, the objective value is 211.2986643324495.\n",
      "At iteration 350, the objective value is 211.23380798650635.\n",
      "Finished computing the 10-th canonical score, the objective is 211.20075873753558.\n",
      "Computing the 11-th canonical score...\n",
      "At iteration 0, the objective value is 211.625249523204.\n",
      "At iteration 50, the objective value is 211.3731704940414.\n",
      "At iteration 100, the objective value is 210.96022851174897.\n",
      "At iteration 150, the objective value is 210.81732604826246.\n",
      "At iteration 200, the objective value is 210.7421119528412.\n",
      "Finished computing the 11-th canonical score, the objective is 210.72280895764652.\n",
      "Computing the 12-th canonical score...\n",
      "At iteration 0, the objective value is 224.05791017536797.\n",
      "At iteration 50, the objective value is 219.41891040861972.\n"
     ]
    },
    {
     "name": "stdout",
     "output_type": "stream",
     "text": [
      "At iteration 100, the objective value is 219.75442231475157.\n",
      "At iteration 150, the objective value is 219.91466150824374.\n",
      "At iteration 200, the objective value is 220.0110681267756.\n",
      "At iteration 250, the objective value is 220.07662227517565.\n",
      "Finished computing the 12-th canonical score, the objective is 220.0955031786395.\n",
      "Computing the 13-th canonical score...\n",
      "At iteration 0, the objective value is 238.13758066232717.\n",
      "At iteration 50, the objective value is 234.8605393149516.\n",
      "At iteration 100, the objective value is 235.15568810166226.\n",
      "At iteration 150, the objective value is 235.2593072911935.\n",
      "Finished computing the 13-th canonical score, the objective is 235.2958239545167.\n",
      "Computing the 14-th canonical score...\n",
      "At iteration 0, the objective value is 232.39940507290072.\n",
      "At iteration 50, the objective value is 232.24495117359882.\n",
      "At iteration 100, the objective value is 230.8100756670884.\n",
      "At iteration 150, the objective value is 230.34036344470178.\n",
      "At iteration 200, the objective value is 230.10956951535024.\n",
      "At iteration 250, the objective value is 229.9733516894066.\n",
      "At iteration 300, the objective value is 229.88395828677926.\n",
      "At iteration 350, the objective value is 229.82107139961113.\n",
      "Finished computing the 14-th canonical score, the objective is 229.80868294963594.\n"
     ]
    }
   ],
   "source": [
    "# refine gcca embedding\n",
    "final_embeddings = gcca_refine(\n",
    "    data_list=[rna_active_svd, atac_active_svd, protein_active_svd],\n",
    "    indices_list=[pivots_rna, pivots_atac, pivots_protein], \n",
    "    init_embeddings_list=scaled_init_embeddings, \n",
    "    max_iter=2000, tol=1e-3, verbose=True\n",
    ")"
   ]
  },
  {
   "cell_type": "code",
   "execution_count": 208,
   "id": "ce9f9cdf",
   "metadata": {},
   "outputs": [],
   "source": [
    "scaled_final_embeddings = [utils.center_scale(embeddings) for embeddings in final_embeddings]\n",
    "scaled_final_umap = fit_umap(np.concatenate(scaled_final_embeddings, axis=0))"
   ]
  },
  {
   "cell_type": "markdown",
   "id": "964b2e7d",
   "metadata": {},
   "source": [
    "## Save out cca score for downstream analaysis"
   ]
  },
  {
   "cell_type": "code",
   "execution_count": 220,
   "id": "15a468ed",
   "metadata": {},
   "outputs": [
    {
     "data": {
      "text/html": [
       "<div>\n",
       "<style scoped>\n",
       "    .dataframe tbody tr th:only-of-type {\n",
       "        vertical-align: middle;\n",
       "    }\n",
       "\n",
       "    .dataframe tbody tr th {\n",
       "        vertical-align: top;\n",
       "    }\n",
       "\n",
       "    .dataframe thead th {\n",
       "        text-align: right;\n",
       "    }\n",
       "</style>\n",
       "<table border=\"1\" class=\"dataframe\">\n",
       "  <thead>\n",
       "    <tr style=\"text-align: right;\">\n",
       "      <th></th>\n",
       "      <th>0</th>\n",
       "      <th>1</th>\n",
       "      <th>2</th>\n",
       "      <th>3</th>\n",
       "      <th>4</th>\n",
       "      <th>5</th>\n",
       "      <th>6</th>\n",
       "      <th>7</th>\n",
       "      <th>8</th>\n",
       "      <th>9</th>\n",
       "      <th>10</th>\n",
       "      <th>11</th>\n",
       "      <th>12</th>\n",
       "      <th>13</th>\n",
       "      <th>14</th>\n",
       "    </tr>\n",
       "  </thead>\n",
       "  <tbody>\n",
       "    <tr>\n",
       "      <th>0</th>\n",
       "      <td>-1.261899</td>\n",
       "      <td>-1.652483</td>\n",
       "      <td>1.760268</td>\n",
       "      <td>0.834581</td>\n",
       "      <td>-0.705081</td>\n",
       "      <td>-0.855185</td>\n",
       "      <td>-0.067037</td>\n",
       "      <td>-0.090527</td>\n",
       "      <td>0.058626</td>\n",
       "      <td>-0.221506</td>\n",
       "      <td>0.285355</td>\n",
       "      <td>-1.022743</td>\n",
       "      <td>0.313978</td>\n",
       "      <td>-0.896341</td>\n",
       "      <td>-0.047348</td>\n",
       "    </tr>\n",
       "    <tr>\n",
       "      <th>1</th>\n",
       "      <td>-1.433098</td>\n",
       "      <td>-1.374156</td>\n",
       "      <td>2.538483</td>\n",
       "      <td>1.315104</td>\n",
       "      <td>-0.125159</td>\n",
       "      <td>-0.510845</td>\n",
       "      <td>0.186381</td>\n",
       "      <td>-0.354913</td>\n",
       "      <td>0.523962</td>\n",
       "      <td>0.002564</td>\n",
       "      <td>2.237167</td>\n",
       "      <td>-0.002110</td>\n",
       "      <td>0.111092</td>\n",
       "      <td>-1.890208</td>\n",
       "      <td>-0.458210</td>\n",
       "    </tr>\n",
       "    <tr>\n",
       "      <th>2</th>\n",
       "      <td>-1.402541</td>\n",
       "      <td>-0.921599</td>\n",
       "      <td>-0.665986</td>\n",
       "      <td>-0.727563</td>\n",
       "      <td>-0.052874</td>\n",
       "      <td>-0.530646</td>\n",
       "      <td>0.466887</td>\n",
       "      <td>-0.617115</td>\n",
       "      <td>0.541168</td>\n",
       "      <td>-0.443538</td>\n",
       "      <td>0.569287</td>\n",
       "      <td>-0.569901</td>\n",
       "      <td>-1.139140</td>\n",
       "      <td>0.490433</td>\n",
       "      <td>0.501814</td>\n",
       "    </tr>\n",
       "    <tr>\n",
       "      <th>3</th>\n",
       "      <td>-1.520215</td>\n",
       "      <td>-1.305838</td>\n",
       "      <td>-0.252454</td>\n",
       "      <td>-1.254920</td>\n",
       "      <td>0.316451</td>\n",
       "      <td>-0.193934</td>\n",
       "      <td>-0.237352</td>\n",
       "      <td>1.384535</td>\n",
       "      <td>0.079936</td>\n",
       "      <td>0.828432</td>\n",
       "      <td>0.720936</td>\n",
       "      <td>0.344797</td>\n",
       "      <td>-0.149053</td>\n",
       "      <td>0.198726</td>\n",
       "      <td>1.388270</td>\n",
       "    </tr>\n",
       "    <tr>\n",
       "      <th>4</th>\n",
       "      <td>-1.062691</td>\n",
       "      <td>-1.071104</td>\n",
       "      <td>-0.030149</td>\n",
       "      <td>-0.883996</td>\n",
       "      <td>0.246940</td>\n",
       "      <td>-0.144256</td>\n",
       "      <td>0.847500</td>\n",
       "      <td>0.496267</td>\n",
       "      <td>0.353329</td>\n",
       "      <td>0.223308</td>\n",
       "      <td>0.832470</td>\n",
       "      <td>-1.435075</td>\n",
       "      <td>-0.732628</td>\n",
       "      <td>0.652897</td>\n",
       "      <td>0.169081</td>\n",
       "    </tr>\n",
       "    <tr>\n",
       "      <th>...</th>\n",
       "      <td>...</td>\n",
       "      <td>...</td>\n",
       "      <td>...</td>\n",
       "      <td>...</td>\n",
       "      <td>...</td>\n",
       "      <td>...</td>\n",
       "      <td>...</td>\n",
       "      <td>...</td>\n",
       "      <td>...</td>\n",
       "      <td>...</td>\n",
       "      <td>...</td>\n",
       "      <td>...</td>\n",
       "      <td>...</td>\n",
       "      <td>...</td>\n",
       "      <td>...</td>\n",
       "    </tr>\n",
       "    <tr>\n",
       "      <th>130493</th>\n",
       "      <td>0.501988</td>\n",
       "      <td>0.877956</td>\n",
       "      <td>0.231420</td>\n",
       "      <td>0.142709</td>\n",
       "      <td>-0.577106</td>\n",
       "      <td>-0.049842</td>\n",
       "      <td>0.470336</td>\n",
       "      <td>-0.325765</td>\n",
       "      <td>-1.807569</td>\n",
       "      <td>0.023590</td>\n",
       "      <td>-1.625063</td>\n",
       "      <td>0.018972</td>\n",
       "      <td>-1.852113</td>\n",
       "      <td>0.912092</td>\n",
       "      <td>-0.977211</td>\n",
       "    </tr>\n",
       "    <tr>\n",
       "      <th>130494</th>\n",
       "      <td>0.890802</td>\n",
       "      <td>2.069823</td>\n",
       "      <td>-0.534749</td>\n",
       "      <td>0.300682</td>\n",
       "      <td>-1.570494</td>\n",
       "      <td>0.625104</td>\n",
       "      <td>0.274824</td>\n",
       "      <td>-0.751708</td>\n",
       "      <td>-4.651197</td>\n",
       "      <td>-0.877064</td>\n",
       "      <td>-4.471241</td>\n",
       "      <td>-1.766912</td>\n",
       "      <td>-8.669038</td>\n",
       "      <td>4.505647</td>\n",
       "      <td>-4.451165</td>\n",
       "    </tr>\n",
       "    <tr>\n",
       "      <th>130495</th>\n",
       "      <td>0.755223</td>\n",
       "      <td>1.580526</td>\n",
       "      <td>-0.185589</td>\n",
       "      <td>0.349750</td>\n",
       "      <td>-1.049348</td>\n",
       "      <td>0.170333</td>\n",
       "      <td>-0.329556</td>\n",
       "      <td>-0.529199</td>\n",
       "      <td>-3.784782</td>\n",
       "      <td>-0.484131</td>\n",
       "      <td>-3.057040</td>\n",
       "      <td>-0.906585</td>\n",
       "      <td>-4.609503</td>\n",
       "      <td>2.192158</td>\n",
       "      <td>-2.781998</td>\n",
       "    </tr>\n",
       "    <tr>\n",
       "      <th>130496</th>\n",
       "      <td>0.819042</td>\n",
       "      <td>1.751320</td>\n",
       "      <td>-0.289531</td>\n",
       "      <td>0.247969</td>\n",
       "      <td>-1.098067</td>\n",
       "      <td>0.451288</td>\n",
       "      <td>0.391816</td>\n",
       "      <td>-0.586742</td>\n",
       "      <td>-3.400737</td>\n",
       "      <td>-0.558577</td>\n",
       "      <td>-3.782531</td>\n",
       "      <td>-1.374642</td>\n",
       "      <td>-6.292202</td>\n",
       "      <td>3.453590</td>\n",
       "      <td>-3.405178</td>\n",
       "    </tr>\n",
       "    <tr>\n",
       "      <th>130497</th>\n",
       "      <td>1.116299</td>\n",
       "      <td>1.892611</td>\n",
       "      <td>-1.070938</td>\n",
       "      <td>0.813755</td>\n",
       "      <td>-2.459141</td>\n",
       "      <td>0.891265</td>\n",
       "      <td>-0.424164</td>\n",
       "      <td>-0.153646</td>\n",
       "      <td>-7.494809</td>\n",
       "      <td>0.349326</td>\n",
       "      <td>-6.500415</td>\n",
       "      <td>-2.557512</td>\n",
       "      <td>-11.479860</td>\n",
       "      <td>5.786939</td>\n",
       "      <td>-6.583546</td>\n",
       "    </tr>\n",
       "  </tbody>\n",
       "</table>\n",
       "<p>130498 rows × 15 columns</p>\n",
       "</div>"
      ],
      "text/plain": [
       "              0         1         2         3         4         5         6   \\\n",
       "0      -1.261899 -1.652483  1.760268  0.834581 -0.705081 -0.855185 -0.067037   \n",
       "1      -1.433098 -1.374156  2.538483  1.315104 -0.125159 -0.510845  0.186381   \n",
       "2      -1.402541 -0.921599 -0.665986 -0.727563 -0.052874 -0.530646  0.466887   \n",
       "3      -1.520215 -1.305838 -0.252454 -1.254920  0.316451 -0.193934 -0.237352   \n",
       "4      -1.062691 -1.071104 -0.030149 -0.883996  0.246940 -0.144256  0.847500   \n",
       "...          ...       ...       ...       ...       ...       ...       ...   \n",
       "130493  0.501988  0.877956  0.231420  0.142709 -0.577106 -0.049842  0.470336   \n",
       "130494  0.890802  2.069823 -0.534749  0.300682 -1.570494  0.625104  0.274824   \n",
       "130495  0.755223  1.580526 -0.185589  0.349750 -1.049348  0.170333 -0.329556   \n",
       "130496  0.819042  1.751320 -0.289531  0.247969 -1.098067  0.451288  0.391816   \n",
       "130497  1.116299  1.892611 -1.070938  0.813755 -2.459141  0.891265 -0.424164   \n",
       "\n",
       "              7         8         9         10        11         12        13  \\\n",
       "0      -0.090527  0.058626 -0.221506  0.285355 -1.022743   0.313978 -0.896341   \n",
       "1      -0.354913  0.523962  0.002564  2.237167 -0.002110   0.111092 -1.890208   \n",
       "2      -0.617115  0.541168 -0.443538  0.569287 -0.569901  -1.139140  0.490433   \n",
       "3       1.384535  0.079936  0.828432  0.720936  0.344797  -0.149053  0.198726   \n",
       "4       0.496267  0.353329  0.223308  0.832470 -1.435075  -0.732628  0.652897   \n",
       "...          ...       ...       ...       ...       ...        ...       ...   \n",
       "130493 -0.325765 -1.807569  0.023590 -1.625063  0.018972  -1.852113  0.912092   \n",
       "130494 -0.751708 -4.651197 -0.877064 -4.471241 -1.766912  -8.669038  4.505647   \n",
       "130495 -0.529199 -3.784782 -0.484131 -3.057040 -0.906585  -4.609503  2.192158   \n",
       "130496 -0.586742 -3.400737 -0.558577 -3.782531 -1.374642  -6.292202  3.453590   \n",
       "130497 -0.153646 -7.494809  0.349326 -6.500415 -2.557512 -11.479860  5.786939   \n",
       "\n",
       "              14  \n",
       "0      -0.047348  \n",
       "1      -0.458210  \n",
       "2       0.501814  \n",
       "3       1.388270  \n",
       "4       0.169081  \n",
       "...          ...  \n",
       "130493 -0.977211  \n",
       "130494 -4.451165  \n",
       "130495 -2.781998  \n",
       "130496 -3.405178  \n",
       "130497 -6.583546  \n",
       "\n",
       "[130498 rows x 15 columns]"
      ]
     },
     "execution_count": 220,
     "metadata": {},
     "output_type": "execute_result"
    }
   ],
   "source": [
    "allcca = np.concatenate(scaled_final_embeddings, axis=0)\n",
    "allcca_df = pd.DataFrame(allcca)\n",
    "allcca_df"
   ]
  },
  {
   "cell_type": "code",
   "execution_count": 221,
   "id": "b44a7a2e",
   "metadata": {},
   "outputs": [],
   "source": [
    "allcca_df.to_csv(\"/hubmap_fin/output/tri_int/sb_cdx_gcca_hh_preUmap.csv\", index = False)"
   ]
  }
 ],
 "metadata": {
  "kernelspec": {
   "display_name": "Python 3 (ipykernel)",
   "language": "python",
   "name": "python3"
  },
  "language_info": {
   "codemirror_mode": {
    "name": "ipython",
    "version": 3
   },
   "file_extension": ".py",
   "mimetype": "text/x-python",
   "name": "python",
   "nbconvert_exporter": "python",
   "pygments_lexer": "ipython3",
   "version": "3.8.12"
  }
 },
 "nbformat": 4,
 "nbformat_minor": 5
}
