{
 "cells": [
  {
   "cell_type": "markdown",
   "id": "cf7e3602",
   "metadata": {},
   "source": [
    "## Code for hubmap tri integration -- colon part:"
   ]
  },
  {
   "cell_type": "code",
   "execution_count": null,
   "id": "a38c9ee9",
   "metadata": {},
   "outputs": [],
   "source": [
    "import numpy as np\n",
    "import pandas as pd\n",
    "import matplotlib.pyplot as plt\n",
    "from sklearn.metrics import confusion_matrix, ConfusionMatrixDisplay\n",
    "\n",
    "import anndata as ad\n",
    "import scanpy as sc\n",
    "\n",
    "import sys\n",
    "sys.path.append(\"../../MaxFuse_devo/09302022V/\")\n",
    "import match\n",
    "import metrics\n",
    "from scipy.io import mmread\n",
    "import os\n",
    "import utils, metrics\n",
    "\n",
    "# hamrony and related \n",
    "import harmonypy as hm\n",
    "from scipy.sparse.linalg import svds"
   ]
  },
  {
   "cell_type": "markdown",
   "id": "33e2863a",
   "metadata": {},
   "source": [
    "## read in ATAC data (gene activity score and LSI) --CL"
   ]
  },
  {
   "cell_type": "code",
   "execution_count": 2,
   "id": "57782557",
   "metadata": {},
   "outputs": [
    {
     "data": {
      "text/plain": [
       "array(['B Cells', 'CD4+ T cell', 'CD8+ T cell', 'Endothelial',\n",
       "       'Enteroendocrine', 'Goblet', 'Mono_Macrophages', 'Plasma',\n",
       "       'Smooth muscle', 'Stroma'], dtype=object)"
      ]
     },
     "execution_count": 2,
     "metadata": {},
     "output_type": "execute_result"
    }
   ],
   "source": [
    "prefix = '/hubmap_fin/data/'\n",
    "\n",
    "# read in gene activity\n",
    "atacactivity = mmread(prefix + \"hub_sub_genescore.txt\").tocsr()\n",
    "\n",
    "gas_names = pd.read_csv(\n",
    "    prefix + 'hub_sub_genescore_names.csv'\n",
    ")['names'].to_numpy()\n",
    "\n",
    "atac_meta = pd.read_csv(prefix + \"hub_sub_genescore_meta.csv\")\n",
    "np.unique(atac_meta['cluster.info'])"
   ]
  },
  {
   "cell_type": "code",
   "execution_count": 3,
   "id": "a6b1eec0",
   "metadata": {},
   "outputs": [],
   "source": [
    "# read in peak lsi data (note this LSI is harmony corrected by Archr)\n",
    "\n",
    "peak_lsi = pd.read_csv(prefix + 'hub_sub_lsi100_harmony.csv') # 100 components\n",
    "peak_lsi = peak_lsi.drop(['LSI1'], axis=1)\n",
    "peak_lsi_use = peak_lsi[(atac_meta['tissue'] == \"cl\").values]"
   ]
  },
  {
   "cell_type": "code",
   "execution_count": 4,
   "id": "a85a59bb",
   "metadata": {},
   "outputs": [
    {
     "name": "stdout",
     "output_type": "stream",
     "text": [
      "((21715, 24919), (21715, 99))\n"
     ]
    },
    {
     "name": "stderr",
     "output_type": "stream",
     "text": [
      "/tmp/ipykernel_37466/729421401.py:3: FutureWarning: The default value of regex will change from True to False in a future version.\n",
      "  atac_meta['cluster.info'] = atac_meta['cluster.info'].str.replace('CD4\\+ T cell','T cells')\n",
      "/tmp/ipykernel_37466/729421401.py:4: FutureWarning: The default value of regex will change from True to False in a future version.\n",
      "  atac_meta['cluster.info'] = atac_meta['cluster.info'].str.replace('CD8\\+ T cell','T cells')\n"
     ]
    }
   ],
   "source": [
    "# select colon cells to use\n",
    "atacactivity_use = pd.DataFrame(atacactivity.todense())[(atac_meta['tissue'] == \"cl\").values]\n",
    "\n",
    "atac_meta['cluster.info'] = atac_meta['cluster.info'].str.replace('CD4\\+ T cell','T cells')\n",
    "atac_meta['cluster.info'] = atac_meta['cluster.info'].str.replace('CD8\\+ T cell','T cells')\n",
    "labels_atac_use = atac_meta[(atac_meta['tissue'] == \"cl\").values]\n",
    "\n",
    "\n",
    "print((atacactivity_use.shape, peak_lsi_use.shape))"
   ]
  },
  {
   "cell_type": "code",
   "execution_count": 46,
   "id": "d49b9fa5",
   "metadata": {},
   "outputs": [],
   "source": [
    "# atac labels\n",
    "atac_labels = labels_atac_use['cluster.info'].to_numpy()\n",
    "atac_seurat_labels = labels_atac_use['seurat.label'].to_numpy()"
   ]
  },
  {
   "cell_type": "code",
   "execution_count": 47,
   "id": "89ee27f8",
   "metadata": {},
   "outputs": [
    {
     "name": "stderr",
     "output_type": "stream",
     "text": [
      "/home/bkzhu/python/miniconda3/envs/super_mario_testing/lib/python3.8/site-packages/anndata/_core/anndata.py:121: ImplicitModificationWarning: Transforming to str index.\n",
      "  warnings.warn(\"Transforming to str index.\", ImplicitModificationWarning)\n"
     ]
    }
   ],
   "source": [
    "# gene score into anndata format\n",
    "activity_adata = ad.AnnData(atacactivity_use, dtype=np.float32)\n",
    "activity_adata.var_names = gas_names"
   ]
  },
  {
   "cell_type": "code",
   "execution_count": 48,
   "id": "86946de2",
   "metadata": {},
   "outputs": [],
   "source": [
    "# peak lsi into anndata\n",
    "peak_adata = ad.AnnData(peak_lsi_use, dtype=np.float32)"
   ]
  },
  {
   "cell_type": "code",
   "execution_count": 49,
   "id": "4d20e157",
   "metadata": {},
   "outputs": [],
   "source": [
    "## pre-processing\n",
    "\n",
    "# gene score process consistant with the rna process\n",
    "sc.pp.normalize_total(activity_adata)\n",
    "sc.pp.log1p(activity_adata)"
   ]
  },
  {
   "cell_type": "code",
   "execution_count": 50,
   "id": "ff034b3e",
   "metadata": {},
   "outputs": [
    {
     "name": "stderr",
     "output_type": "stream",
     "text": [
      "2022-12-31 09:03:39,747 - harmonypy - INFO - Iteration 1 of 10\n",
      "2022-12-31 09:03:52,120 - harmonypy - INFO - Iteration 2 of 10\n",
      "2022-12-31 09:03:58,413 - harmonypy - INFO - Iteration 3 of 10\n",
      "2022-12-31 09:04:02,852 - harmonypy - INFO - Converged after 3 iterations\n"
     ]
    },
    {
     "name": "stdout",
     "output_type": "stream",
     "text": [
      "(21715, 100)\n"
     ]
    },
    {
     "data": {
      "text/plain": [
       "AnnData object with n_obs × n_vars = 21715 × 24919"
      ]
     },
     "execution_count": 50,
     "metadata": {},
     "output_type": "execute_result"
    }
   ],
   "source": [
    "## this code specific to hubmap case:\n",
    "## harmony batch correct gene activity scores, based on patient label\n",
    "\n",
    "batch = labels_atac_use['sample'].copy()\n",
    "tt = labels_atac_use['sample'].shape[0]\n",
    "\n",
    "##### per patient\n",
    "for i in range(tt):\n",
    "    temp = batch.iloc[i]\n",
    "    batch.iloc[i] = temp[0:3]\n",
    "#####\n",
    "\n",
    "atacu, atacs, atacvT = svds(activity_adata.X, k = 100)\n",
    "atacpc = atacu @ np.diag(atacs)\n",
    "atac_batch = pd.DataFrame(data = batch)\n",
    "atac_batch\n",
    "atacho = hm.run_harmony(atacpc, atac_batch, 'sample')\n",
    "print(atacho.Z_corr.T.shape)\n",
    "\n",
    "## corrected activity scores\n",
    "atac_ho = atacho.Z_corr.T @ atacvT\n",
    "activity_adata = ad.AnnData(\n",
    "    atac_ho, dtype=np.float32\n",
    ")\n",
    "activity_adata  # treat this as the raw input"
   ]
  },
  {
   "cell_type": "code",
   "execution_count": 51,
   "id": "f9338f37",
   "metadata": {},
   "outputs": [],
   "source": [
    "# continue preprocessing\n",
    "sc.pp.scale(activity_adata)\n",
    "\n",
    "activity_adata.var_names = gas_names"
   ]
  },
  {
   "cell_type": "code",
   "execution_count": 52,
   "id": "2f2c1982",
   "metadata": {},
   "outputs": [
    {
     "name": "stdout",
     "output_type": "stream",
     "text": [
      "WARNING: You’re trying to run this on 24919 dimensions of `.X`, if you really want this, set `use_rep='X'`.\n",
      "         Falling back to preprocessing with `sc.pp.pca` and default params.\n"
     ]
    },
    {
     "data": {
      "image/png": "[encoded data removed]",
      "text/plain": [
       "<Figure size 432x288 with 1 Axes>"
      ]
     },
     "metadata": {},
     "output_type": "display_data"
    }
   ],
   "source": [
    "# quick check of input by looking at umap quality\n",
    "activity_adata.obs['celltype'] = atac_labels\n",
    "sc.pp.neighbors(activity_adata, n_neighbors=15, n_pcs=30)\n",
    "sc.tl.umap(activity_adata)\n",
    "sc.pl.umap(activity_adata, color = ['celltype'])"
   ]
  },
  {
   "cell_type": "markdown",
   "id": "16a1834c",
   "metadata": {},
   "source": [
    "umap looks correct"
   ]
  },
  {
   "cell_type": "code",
   "execution_count": 53,
   "id": "d8c2c5e1",
   "metadata": {},
   "outputs": [],
   "source": [
    "# all feature (used during maxfuse refinement)\n",
    "atac_active = peak_adata.X.copy()"
   ]
  },
  {
   "cell_type": "markdown",
   "id": "a1a59ca3",
   "metadata": {},
   "source": [
    "## read in RNA -- CL"
   ]
  },
  {
   "cell_type": "code",
   "execution_count": 14,
   "id": "34160c29",
   "metadata": {},
   "outputs": [],
   "source": [
    "prefix = '/production/hubmap/match/data/'\n",
    "rna = mmread(prefix + \"CL_immune_rna1X.txt\")\n",
    "rna_stro  = mmread(prefix + \"CL_stroma_rna1X.txt\")\n",
    "rna_epi  = mmread(prefix + \"CL_epi_rna1X.txt\")"
   ]
  },
  {
   "cell_type": "code",
   "execution_count": 15,
   "id": "6ce83b06",
   "metadata": {},
   "outputs": [],
   "source": [
    "# read in rna labels\n",
    "labels_rna = pd.read_csv(prefix + 'CL_immune_rna_meta1X.csv')\n",
    "labels_rna_stro = pd.read_csv(prefix + 'CL_stroma_rna_meta1X.csv')\n",
    "labels_rna_epi = pd.read_csv(prefix + 'CL_epi_rna_meta1X.csv')\n",
    "labels_rna_all1 = labels_rna.append(labels_rna_stro)\n",
    "labels_rna_all = labels_rna_all1.append(labels_rna_epi)"
   ]
  },
  {
   "cell_type": "code",
   "execution_count": 16,
   "id": "cdec287a",
   "metadata": {},
   "outputs": [],
   "source": [
    "# remove some cell types we won't use\n",
    "drop_rna = labels_rna_all['CellType2'].isin(['NK', 'Lymphatic','Nerve'])"
   ]
  },
  {
   "cell_type": "code",
   "execution_count": 17,
   "id": "f7e48d05",
   "metadata": {},
   "outputs": [
    {
     "name": "stdout",
     "output_type": "stream",
     "text": [
      "[(17263, 38664), (17263, 17)]\n"
     ]
    }
   ],
   "source": [
    "# add gene names and combine, remove cell types we dont use\n",
    "rna_names = pd.read_csv(prefix + 'SB_immune_rna_names.csv')\n",
    "rna = pd.DataFrame(rna.todense())\n",
    "rna.columns =rna_names['names']\n",
    "rna_stro = pd.DataFrame(rna_stro.todense())\n",
    "rna_stro.columns =rna_names['names']\n",
    "rna_epi = pd.DataFrame(rna_epi.todense())\n",
    "rna_epi.columns =rna_names['names']\n",
    "rna_all1 = rna.append(rna_stro)\n",
    "rna_all = rna_all1.append(rna_epi)\n",
    "\n",
    "rna_all = rna_all.loc[np.invert(drop_rna),:]\n",
    "labels_rna_all = labels_rna_all.loc[np.invert(drop_rna),:]\n",
    "\n",
    "print([rna_all.shape, labels_rna_all.shape])"
   ]
  },
  {
   "cell_type": "code",
   "execution_count": 18,
   "id": "eedcfe66",
   "metadata": {},
   "outputs": [
    {
     "name": "stderr",
     "output_type": "stream",
     "text": [
      "/tmp/ipykernel_37466/3033899334.py:2: FutureWarning: The default value of regex will change from True to False in a future version.\n",
      "  labels_rna_all['CellType2'] = labels_rna_all['CellType2'].str.replace('CD8\\+ T cell','T cells')\n",
      "/tmp/ipykernel_37466/3033899334.py:3: FutureWarning: The default value of regex will change from True to False in a future version.\n",
      "  labels_rna_all['CellType2'] = labels_rna_all['CellType2'].str.replace('CD4\\+ T cell','T cells')\n"
     ]
    },
    {
     "data": {
      "text/plain": [
       "array(['B Cells', 'Endothelial', 'Enteroendocrine', 'Goblet',\n",
       "       'Mono_Macrophages', 'Plasma', 'Smooth muscle', 'Stroma', 'T cells'],\n",
       "      dtype=object)"
      ]
     },
     "execution_count": 18,
     "metadata": {},
     "output_type": "execute_result"
    }
   ],
   "source": [
    "# rename t cells\n",
    "labels_rna_all['CellType2'] = labels_rna_all['CellType2'].str.replace('CD8\\+ T cell','T cells')\n",
    "labels_rna_all['CellType2'] = labels_rna_all['CellType2'].str.replace('CD4\\+ T cell','T cells')\n",
    "np.unique(labels_rna_all['CellType2'])"
   ]
  },
  {
   "cell_type": "code",
   "execution_count": 19,
   "id": "30331af9",
   "metadata": {},
   "outputs": [],
   "source": [
    "# rna label\n",
    "rna_labels = labels_rna_all['CellType2'].to_numpy()\n",
    "rna_seurat_labels = labels_rna_all['seurat_clusters'].to_numpy()"
   ]
  },
  {
   "cell_type": "code",
   "execution_count": 54,
   "id": "f200b13a",
   "metadata": {},
   "outputs": [],
   "source": [
    "# make adata\n",
    "rna_adata = ad.AnnData(\n",
    "    rna_all.to_numpy(), dtype=np.float32\n",
    ")\n",
    "rna_adata.var_names = rna_names['names']\n",
    "rna_adata.obs_names = labels_rna_all['Unnamed: 0']"
   ]
  },
  {
   "cell_type": "code",
   "execution_count": 55,
   "id": "b03cf682",
   "metadata": {},
   "outputs": [
    {
     "name": "stderr",
     "output_type": "stream",
     "text": [
      "2022-12-31 09:06:13,751 - harmonypy - INFO - Iteration 1 of 10\n",
      "2022-12-31 09:06:23,839 - harmonypy - INFO - Iteration 2 of 10\n",
      "2022-12-31 09:06:33,493 - harmonypy - INFO - Iteration 3 of 10\n",
      "2022-12-31 09:06:43,053 - harmonypy - INFO - Converged after 3 iterations\n"
     ]
    },
    {
     "name": "stdout",
     "output_type": "stream",
     "text": [
      "(17263, 100)\n"
     ]
    }
   ],
   "source": [
    "## with harmony correct gene counts, based on batch 'patient'\n",
    "\n",
    "sc.pp.normalize_total(rna_adata)\n",
    "sc.pp.log1p(rna_adata)\n",
    "\n",
    "batch = labels_rna_all['orig.ident'].copy()\n",
    "tt = labels_rna_all['orig.ident'].shape[0]\n",
    "\n",
    "##### per patient\n",
    "for i in range(tt):\n",
    "    temp = batch.iloc[i]\n",
    "    batch.iloc[i] = temp[0:4]\n",
    "#####\n",
    "\n",
    "rnau, rnas, rnavT = svds(rna_adata.X, k = 100)\n",
    "rnapc = rnau @ np.diag(rnas)\n",
    "rna_batch = pd.DataFrame(data = batch)\n",
    "rna_batch\n",
    "rnaho = hm.run_harmony(rnapc, rna_batch, 'orig.ident')\n",
    "print(rnaho.Z_corr.T.shape)"
   ]
  },
  {
   "cell_type": "code",
   "execution_count": 56,
   "id": "85476791",
   "metadata": {},
   "outputs": [
    {
     "data": {
      "text/plain": [
       "AnnData object with n_obs × n_vars = 17263 × 38664"
      ]
     },
     "execution_count": 56,
     "metadata": {},
     "output_type": "execute_result"
    }
   ],
   "source": [
    "# corrected gene counts\n",
    "rnapc_ho = rnaho.Z_corr.T @ rnavT\n",
    "rna_adata = ad.AnnData(\n",
    "    rnapc_ho, dtype=np.float32\n",
    ")\n",
    "rna_adata"
   ]
  },
  {
   "cell_type": "code",
   "execution_count": 57,
   "id": "c8be1575",
   "metadata": {},
   "outputs": [
    {
     "name": "stderr",
     "output_type": "stream",
     "text": [
      "/home/bkzhu/python/miniconda3/envs/super_mario_testing/lib/python3.8/site-packages/scanpy/preprocessing/_highly_variable_genes.py:208: RuntimeWarning: invalid value encountered in log\n",
      "  dispersion = np.log(dispersion)\n",
      "/home/bkzhu/python/miniconda3/envs/super_mario_testing/lib/python3.8/site-packages/scanpy/preprocessing/_simple.py:843: UserWarning: Revieved a view of an AnnData. Making a copy.\n",
      "  view_to_actual(adata)\n"
     ]
    }
   ],
   "source": [
    "# continue the process\n",
    "sc.pp.highly_variable_genes(rna_adata, n_top_genes=5000)\n",
    "rna_adata_active = rna_adata[:, rna_adata.var.highly_variable]\n",
    "sc.pp.scale(rna_adata)\n",
    "sc.pp.scale(rna_adata_active)"
   ]
  },
  {
   "cell_type": "code",
   "execution_count": 58,
   "id": "b51c43bc",
   "metadata": {},
   "outputs": [
    {
     "name": "stdout",
     "output_type": "stream",
     "text": [
      "WARNING: You’re trying to run this on 38664 dimensions of `.X`, if you really want this, set `use_rep='X'`.\n",
      "         Falling back to preprocessing with `sc.pp.pca` and default params.\n"
     ]
    },
    {
     "data": {
      "image/png": "[encoded data removed]",
      "text/plain": [
       "<Figure size 432x288 with 1 Axes>"
      ]
     },
     "metadata": {},
     "output_type": "display_data"
    }
   ],
   "source": [
    "# quick check umap looks good\n",
    "rna_adata.obs['celltype'] = rna_labels\n",
    "sc.pp.neighbors(rna_adata, n_neighbors=15, n_pcs=30)\n",
    "sc.tl.umap(rna_adata)\n",
    "sc.pl.umap(rna_adata, color = ['celltype'])"
   ]
  },
  {
   "cell_type": "markdown",
   "id": "e6bc690c",
   "metadata": {},
   "source": [
    "umap looks correct"
   ]
  },
  {
   "cell_type": "code",
   "execution_count": 59,
   "id": "32309a0e",
   "metadata": {},
   "outputs": [],
   "source": [
    "# all features (used during maxfuse refine)\n",
    "rna_active = rna_adata_active.X.copy()"
   ]
  },
  {
   "cell_type": "markdown",
   "id": "aaaf2121",
   "metadata": {},
   "source": [
    "## input CODEX data -- CL"
   ]
  },
  {
   "cell_type": "code",
   "execution_count": 94,
   "id": "ca50a663",
   "metadata": {},
   "outputs": [
    {
     "name": "stderr",
     "output_type": "stream",
     "text": [
      "/tmp/ipykernel_37466/2981617702.py:18: FutureWarning: The default value of regex will change from True to False in a future version.\n",
      "  labels_protein = labels_protein.str.replace('CD8\\+','CD8+ T cell')\n",
      "/tmp/ipykernel_37466/2981617702.py:19: FutureWarning: The default value of regex will change from True to False in a future version.\n",
      "  labels_protein = labels_protein.str.replace('CD8\\+ T cell','T cells')\n",
      "/tmp/ipykernel_37466/2981617702.py:20: FutureWarning: The default value of regex will change from True to False in a future version.\n",
      "  labels_protein = labels_protein.str.replace('CD4\\+ T cell','T cells')\n"
     ]
    }
   ],
   "source": [
    "prefix = '/hubmap_fin/data/'\n",
    "protein_CL = pd.read_csv(prefix + \"b006_cl_cdx.csv\")\n",
    "protein_all = protein_CL\n",
    "\n",
    "# drop cells that not used during matching\n",
    "nkidx2 = protein_all.index[protein_all['cluster.term'] == 'NK'].to_list()\n",
    "lymphidx2 = protein_all.index[protein_all['cluster.term'] == 'Lymphatic'].to_list()\n",
    "dcidx = protein_all.index[protein_all['cluster.term'] == 'DC'].to_list()\n",
    "ntpdx = protein_all.index[protein_all['cluster.term'] == 'Neutrophil'].to_list()\n",
    "nrvdx = protein_all.index[protein_all['cluster.term'] == 'Nerve'].to_list()\n",
    "drop_pro  = nkidx2 + lymphidx2 + dcidx + ntpdx + nrvdx\n",
    "\n",
    "protein_all = protein_all.drop(drop_pro, axis=0)\n",
    "# rename some labels\n",
    "labels_protein = protein_all['cluster.term']\n",
    "labels_protein = labels_protein.str.replace('CD8\\+','CD8+ T cell')\n",
    "labels_protein = labels_protein.str.replace('CD8\\+ T cell','T cells')\n",
    "labels_protein = labels_protein.str.replace('CD4\\+ T cell','T cells')"
   ]
  },
  {
   "cell_type": "code",
   "execution_count": 95,
   "id": "f85482ca",
   "metadata": {},
   "outputs": [],
   "source": [
    "# cdx labels\n",
    "protein_labels = labels_protein.to_numpy()\n",
    "protein_seurat_labels = protein_all['seurat_clusters'].to_numpy()\n",
    "\n",
    "# codex anndata\n",
    "protein_adata = ad.AnnData(\n",
    "    protein_all[protein_all.columns[2:49]].to_numpy(), dtype=np.float32 # remove partial channels\n",
    "    # eg olfm4 fap cd25, coiiiv, ck7\n",
    ")\n",
    "protein_adata.var_names = protein_all[protein_all.columns[2:49]].columns"
   ]
  },
  {
   "cell_type": "code",
   "execution_count": 96,
   "id": "99e1fc45",
   "metadata": {},
   "outputs": [
    {
     "data": {
      "text/plain": [
       "AnnData object with n_obs × n_vars = 69273 × 47"
      ]
     },
     "execution_count": 96,
     "metadata": {},
     "output_type": "execute_result"
    }
   ],
   "source": [
    "protein_adata # dont need to do harmony on codex since only one patient used"
   ]
  },
  {
   "cell_type": "code",
   "execution_count": 97,
   "id": "f8536f60",
   "metadata": {},
   "outputs": [],
   "source": [
    "# all features codex\n",
    "protein_active = protein_adata.X.copy()"
   ]
  },
  {
   "cell_type": "markdown",
   "id": "6584aa60",
   "metadata": {},
   "source": [
    "## MaxFuse integration part 1: RNA --> ATAC integration"
   ]
  },
  {
   "cell_type": "code",
   "execution_count": 65,
   "id": "d7bc8d4a",
   "metadata": {},
   "outputs": [
    {
     "data": {
      "text/plain": [
       "20075"
      ]
     },
     "execution_count": 65,
     "metadata": {},
     "output_type": "execute_result"
    }
   ],
   "source": [
    "# check shared features\n",
    "shared_genes = np.intersect1d(rna_adata.var_names, activity_adata.var_names)\n",
    "len(shared_genes)"
   ]
  },
  {
   "cell_type": "code",
   "execution_count": 66,
   "id": "73354124",
   "metadata": {},
   "outputs": [],
   "source": [
    "rna_shared = rna_adata[:,shared_genes].X.copy()\n",
    "atac_shared = activity_adata[:, shared_genes].X.copy()"
   ]
  },
  {
   "cell_type": "code",
   "execution_count": 67,
   "id": "5cf87d3d",
   "metadata": {},
   "outputs": [
    {
     "name": "stdout",
     "output_type": "stream",
     "text": [
      "[0.9999709725379944, 0.9999769330024719]\n"
     ]
    }
   ],
   "source": [
    "q1 = np.quantile(np.std(rna_shared, axis=0), 0.1)\n",
    "q2 = np.quantile(np.std(atac_shared, axis=0), 0.1)\n",
    "\n",
    "print([q1,q2])"
   ]
  },
  {
   "cell_type": "code",
   "execution_count": 68,
   "id": "4adb07cf",
   "metadata": {},
   "outputs": [],
   "source": [
    "# remove static features\n",
    "mask = ((rna_shared.std(axis=0) > q1) & (atac_shared.std(axis=0) > q2))# filter out static ones\n",
    "\n",
    "rna_shared = rna_shared[:, mask]\n",
    "atac_shared = atac_shared[:, mask]\n",
    "rna_shared = ad.AnnData(rna_shared)\n",
    "atac_shared = ad.AnnData(atac_shared)"
   ]
  },
  {
   "cell_type": "code",
   "execution_count": 70,
   "id": "49ce6337",
   "metadata": {},
   "outputs": [
    {
     "name": "stdout",
     "output_type": "stream",
     "text": [
      "(21715, 1209) (17263, 1209)\n"
     ]
    }
   ],
   "source": [
    "atac_shared = atac_shared.X.copy()\n",
    "rna_shared = rna_shared.X.copy()\n",
    "print(atac_shared.shape, rna_shared.shape) # > 1k gene left"
   ]
  },
  {
   "cell_type": "markdown",
   "id": "9459087b",
   "metadata": {},
   "source": [
    "### MaxFuse starts:"
   ]
  },
  {
   "cell_type": "code",
   "execution_count": 71,
   "id": "8e3db526",
   "metadata": {},
   "outputs": [],
   "source": [
    "spm = match.MaxFuse(\n",
    "        shared_arr1=rna_shared,\n",
    "        shared_arr2=atac_shared,\n",
    "        active_arr1=rna_active,\n",
    "        active_arr2=atac_active,\n",
    "        method='centroid_shrinkage',\n",
    "        labels1=rna_seurat_labels.astype('str'),\n",
    "        labels2=atac_seurat_labels.astype('str')\n",
    "    )"
   ]
  },
  {
   "cell_type": "code",
   "execution_count": 72,
   "id": "2b8f8b05",
   "metadata": {},
   "outputs": [
    {
     "name": "stdout",
     "output_type": "stream",
     "text": [
      "The first data is split into 1 batches, average batch size is 17263, and max batch size is 17263.\n",
      "The second data is split into 1 batches, average batch size is 21715, and max batch size is 21715.\n",
      "Batch to batch correspondence is:\n",
      "  ['0<->0'].\n"
     ]
    }
   ],
   "source": [
    "spm.split_into_batches(\n",
    "    max_outward_size=5000,\n",
    "    matching_ratio=4,\n",
    "    metacell_size=3,\n",
    "    seed=None,\n",
    "    verbose=True\n",
    ")"
   ]
  },
  {
   "cell_type": "code",
   "execution_count": 73,
   "id": "e7c4a43e",
   "metadata": {},
   "outputs": [
    {
     "data": {
      "text/plain": [
       "(<Figure size 432x288 with 1 Axes>,\n",
       " <matplotlib.axes._subplots.AxesSubplot at 0x7fefd229be20>)"
      ]
     },
     "execution_count": 73,
     "metadata": {},
     "output_type": "execute_result"
    },
    {
     "data": {
      "image/png": "[encoded data removed]",
      "text/plain": [
       "<Figure size 432x288 with 1 Axes>"
      ]
     },
     "metadata": {
      "needs_background": "light"
     },
     "output_type": "display_data"
    }
   ],
   "source": [
    "spm.plot_singular_values(\n",
    "    target='shared_arr1',\n",
    "    batch=None,\n",
    "    n_components=None,\n",
    "    randomized_svd=False,\n",
    "    svd_runs=1\n",
    ")"
   ]
  },
  {
   "cell_type": "code",
   "execution_count": 74,
   "id": "6428ad1a",
   "metadata": {},
   "outputs": [
    {
     "data": {
      "text/plain": [
       "(<Figure size 432x288 with 1 Axes>,\n",
       " <matplotlib.axes._subplots.AxesSubplot at 0x7fefd0b40b20>)"
      ]
     },
     "execution_count": 74,
     "metadata": {},
     "output_type": "execute_result"
    },
    {
     "data": {
      "image/png": "[encoded data removed]",
      "text/plain": [
       "<Figure size 432x288 with 1 Axes>"
      ]
     },
     "metadata": {
      "needs_background": "light"
     },
     "output_type": "display_data"
    }
   ],
   "source": [
    "spm.plot_singular_values(\n",
    "    target='shared_arr2',\n",
    "    batch=None,\n",
    "    n_components=None,\n",
    "    randomized_svd=False,\n",
    "    svd_runs=1\n",
    ")"
   ]
  },
  {
   "cell_type": "code",
   "execution_count": 75,
   "id": "c52dcc9c",
   "metadata": {},
   "outputs": [
    {
     "name": "stdout",
     "output_type": "stream",
     "text": [
      "Aggregating cells in arr1 into metacells of average size 3...\n",
      "Constructing neighborhood graphs for cells in arr1...\n",
      "Now at batch 0...\n",
      "Graph construction finished!\n",
      "Clustering into metacells...\n",
      "Now at batch 0...\n",
      "Metacell clustering finished!\n"
     ]
    }
   ],
   "source": [
    "spm.construct_graphs(\n",
    "    n_neighbors1=15,\n",
    "    n_neighbors2=15,\n",
    "    svd_components1=30,\n",
    "    svd_components2=40,\n",
    "    resolution1=2,\n",
    "    resolution2=2,\n",
    "    randomized_svd=False,\n",
    "    svd_runs=1,\n",
    "    resolution_tol=0.1,\n",
    "    leiden_runs=1,\n",
    "    leiden_seed=None,\n",
    "    verbose=True\n",
    ")"
   ]
  },
  {
   "cell_type": "code",
   "execution_count": 76,
   "id": "889e97a7",
   "metadata": {},
   "outputs": [
    {
     "name": "stdout",
     "output_type": "stream",
     "text": [
      "Now at batch 0<->0...\n",
      "Done!\n"
     ]
    }
   ],
   "source": [
    "spm.find_initial_pivots(\n",
    "    wt1=0.7, wt2=0.7,\n",
    "    svd_components1=30, svd_components2=40,\n",
    "    randomized_svd=False, svd_runs=1,\n",
    "    verbose=True\n",
    ")"
   ]
  },
  {
   "cell_type": "code",
   "execution_count": 77,
   "id": "8e832538",
   "metadata": {},
   "outputs": [
    {
     "data": {
      "text/plain": [
       "0.9810533634625412"
      ]
     },
     "execution_count": 77,
     "metadata": {},
     "output_type": "execute_result"
    }
   ],
   "source": [
    "# test accuracy of initial matching\n",
    "import utils, metrics\n",
    "matching = spm._init_matching[0]\n",
    "labels1 = utils.summarize_clustering(\n",
    "    spm._metacell_labels1[0], rna_labels[spm._batch_to_indices1[0]]\n",
    ")\n",
    "labels2 = atac_labels[spm._batch_to_indices2[0]]\n",
    "metrics.get_matching_acc(matching, labels1, labels2)"
   ]
  },
  {
   "cell_type": "code",
   "execution_count": 78,
   "id": "a061fdd5",
   "metadata": {},
   "outputs": [
    {
     "data": {
      "text/plain": [
       "<sklearn.metrics._plot.confusion_matrix.ConfusionMatrixDisplay at 0x7fef902d5a30>"
      ]
     },
     "execution_count": 78,
     "metadata": {},
     "output_type": "execute_result"
    },
    {
     "data": {
      "image/png": "[encoded data removed]",
      "text/plain": [
       "<Figure size 432x288 with 2 Axes>"
      ]
     },
     "metadata": {
      "needs_background": "light"
     },
     "output_type": "display_data"
    }
   ],
   "source": [
    "#plt.rcParams[\"figure.figsize\"] = (12,8)\n",
    "cm = confusion_matrix(labels1, labels2[matching[1]])\n",
    "ConfusionMatrixDisplay(\n",
    "    confusion_matrix=np.round((cm.T/np.sum(cm, axis=1)).T*100), \n",
    "    display_labels=np.unique(labels1)\n",
    ").plot()"
   ]
  },
  {
   "cell_type": "code",
   "execution_count": 79,
   "id": "8e1dc1b3",
   "metadata": {},
   "outputs": [
    {
     "data": {
      "text/plain": [
       "(<Figure size 432x288 with 1 Axes>,\n",
       " <matplotlib.axes._subplots.AxesSubplot at 0x7fef739226a0>)"
      ]
     },
     "execution_count": 79,
     "metadata": {},
     "output_type": "execute_result"
    },
    {
     "data": {
      "image/png": "[encoded data removed]",
      "text/plain": [
       "<Figure size 432x288 with 1 Axes>"
      ]
     },
     "metadata": {
      "needs_background": "light"
     },
     "output_type": "display_data"
    }
   ],
   "source": [
    "spm.plot_singular_values(\n",
    "    target='active_arr1',\n",
    "    batch=None,\n",
    "    n_components=100,\n",
    "    randomized_svd=False,\n",
    "    svd_runs=1\n",
    ")"
   ]
  },
  {
   "cell_type": "code",
   "execution_count": 80,
   "id": "aea91ae5",
   "metadata": {},
   "outputs": [
    {
     "data": {
      "text/plain": [
       "(<Figure size 432x288 with 1 Axes>,\n",
       " <matplotlib.axes._subplots.AxesSubplot at 0x7fefd23b8670>)"
      ]
     },
     "execution_count": 80,
     "metadata": {},
     "output_type": "execute_result"
    },
    {
     "data": {
      "image/png": "[encoded data removed]",
      "text/plain": [
       "<Figure size 432x288 with 1 Axes>"
      ]
     },
     "metadata": {
      "needs_background": "light"
     },
     "output_type": "display_data"
    }
   ],
   "source": [
    "spm.plot_singular_values(\n",
    "    target='active_arr2',\n",
    "    batch=None,\n",
    "    n_components=80,\n",
    "    randomized_svd=False,\n",
    "    svd_runs=1\n",
    ")"
   ]
  },
  {
   "cell_type": "code",
   "execution_count": 81,
   "id": "cab83377",
   "metadata": {},
   "outputs": [
    {
     "data": {
      "text/plain": [
       "(<Figure size 432x288 with 1 Axes>,\n",
       " <matplotlib.axes._subplots.AxesSubplot at 0x7fef738ec910>)"
      ]
     },
     "execution_count": 81,
     "metadata": {},
     "output_type": "execute_result"
    },
    {
     "data": {
      "image/png": "[encoded data removed]",
      "text/plain": [
       "<Figure size 432x288 with 1 Axes>"
      ]
     },
     "metadata": {
      "needs_background": "light"
     },
     "output_type": "display_data"
    }
   ],
   "source": [
    "spm.plot_canonical_correlations(\n",
    "    batch=None,\n",
    "    svd_components1=50, \n",
    "    svd_components2=40,\n",
    "    cca_components=40,\n",
    "    filter_prop=0.,\n",
    "    randomized_svd=False,\n",
    "    svd_runs=1,\n",
    "    cca_max_iter=2000\n",
    ")"
   ]
  },
  {
   "cell_type": "code",
   "execution_count": 151,
   "id": "31ff88b7",
   "metadata": {},
   "outputs": [
    {
     "name": "stdout",
     "output_type": "stream",
     "text": [
      "Now at batch 0<->0...\n",
      "Done!\n"
     ]
    }
   ],
   "source": [
    "spm.refine_pivots(\n",
    "    wt1=0.7, wt2=0.7,\n",
    "    svd_components1=50, svd_components2=None,\n",
    "    cca_components=16,\n",
    "    filter_prop=0.1,\n",
    "    n_iters=1,\n",
    "    randomized_svd=False, \n",
    "    svd_runs=1,\n",
    "    verbose=True\n",
    ")"
   ]
  },
  {
   "cell_type": "code",
   "execution_count": 152,
   "id": "8c5c1e17",
   "metadata": {},
   "outputs": [
    {
     "name": "stdout",
     "output_type": "stream",
     "text": [
      "Begin filtering...\n",
      "Now at batch 0<->0...\n",
      "5753/5753 pairs of matched cells remain after the filtering.\n",
      "Fitting CCA on pivots...\n",
      "Scoring matched pairs...\n",
      "17263/17263 cells in arr1 are selected as pivots.\n",
      "5753/21715 cells in arr2 are selected as pivots.\n",
      "Done!\n"
     ]
    }
   ],
   "source": [
    "spm.filter_bad_matches(target='pivot', filter_prop=0., verbose=True)"
   ]
  },
  {
   "cell_type": "code",
   "execution_count": 153,
   "id": "ce67dd3d",
   "metadata": {},
   "outputs": [
    {
     "data": {
      "text/plain": [
       "0.9746219363810186"
      ]
     },
     "execution_count": 153,
     "metadata": {},
     "output_type": "execute_result"
    }
   ],
   "source": [
    "matching = spm._refined_matching[0]\n",
    "labels1 = utils.summarize_clustering(\n",
    "    spm._metacell_labels1[0], rna_labels[spm._batch_to_indices1[0]]\n",
    ")\n",
    "# labels1 = celltype_labels_rna[mf_rna_to_atac._batch_to_indices1[0]]\n",
    "labels2 = atac_labels[spm._batch_to_indices2[0]]\n",
    "metrics.get_matching_acc(matching, labels1, labels2)"
   ]
  },
  {
   "cell_type": "code",
   "execution_count": 154,
   "id": "dfe9095e",
   "metadata": {},
   "outputs": [
    {
     "data": {
      "text/plain": [
       "<sklearn.metrics._plot.confusion_matrix.ConfusionMatrixDisplay at 0x7fef7318d340>"
      ]
     },
     "execution_count": 154,
     "metadata": {},
     "output_type": "execute_result"
    },
    {
     "data": {
      "image/png": "[encoded data removed]",
      "text/plain": [
       "<Figure size 720x432 with 2 Axes>"
      ]
     },
     "metadata": {
      "needs_background": "light"
     },
     "output_type": "display_data"
    }
   ],
   "source": [
    "#plt.rcParams[\"figure.figsize\"] = (10,6)\n",
    "cm = confusion_matrix(labels1, labels2[matching[1]])\n",
    "ConfusionMatrixDisplay(\n",
    "    confusion_matrix=np.round((cm.T/np.sum(cm, axis=1)).T*100), \n",
    "    display_labels=np.unique(labels1)\n",
    ").plot()"
   ]
  },
  {
   "cell_type": "code",
   "execution_count": 155,
   "id": "b6e0dfd9",
   "metadata": {},
   "outputs": [
    {
     "name": "stdout",
     "output_type": "stream",
     "text": [
      "Now at batch 0<->0...\n",
      "Done!\n"
     ]
    }
   ],
   "source": [
    "spm.propagate(\n",
    "    wt1=0.7,\n",
    "    wt2=0.7,\n",
    "    svd_components1=50, \n",
    "    svd_components2=50, \n",
    "    randomized_svd=False, \n",
    "    svd_runs=1, \n",
    "    verbose=True\n",
    ")"
   ]
  },
  {
   "cell_type": "code",
   "execution_count": 156,
   "id": "85fea6c2",
   "metadata": {},
   "outputs": [
    {
     "name": "stdout",
     "output_type": "stream",
     "text": [
      "Begin filtering...\n",
      "Now at batch 0<->0...\n",
      "15962/15962 pairs of matched cells remain after the filtering.\n",
      "Scoring matched pairs...\n",
      "Done!\n"
     ]
    }
   ],
   "source": [
    "spm.filter_bad_matches(\n",
    "    target='propagated',\n",
    "    filter_prop=0.,\n",
    "    verbose=True\n",
    ")"
   ]
  },
  {
   "cell_type": "code",
   "execution_count": 157,
   "id": "9b820f6b",
   "metadata": {},
   "outputs": [
    {
     "data": {
      "text/plain": [
       "0.9657070034177142"
      ]
     },
     "execution_count": 157,
     "metadata": {},
     "output_type": "execute_result"
    }
   ],
   "source": [
    "rna_to_atac_matching = spm.get_matching(order=(1, 2), target='full_data')\n",
    "metrics.get_matching_acc(rna_to_atac_matching, rna_labels, atac_labels, order=(1, 2))"
   ]
  },
  {
   "cell_type": "code",
   "execution_count": 158,
   "id": "1750d525",
   "metadata": {},
   "outputs": [
    {
     "data": {
      "text/plain": [
       "<sklearn.metrics._plot.confusion_matrix.ConfusionMatrixDisplay at 0x7fef2be6d160>"
      ]
     },
     "execution_count": 158,
     "metadata": {},
     "output_type": "execute_result"
    },
    {
     "data": {
      "image/png": "[encoded data removed]",
      "text/plain": [
       "<Figure size 720x432 with 2 Axes>"
      ]
     },
     "metadata": {
      "needs_background": "light"
     },
     "output_type": "display_data"
    }
   ],
   "source": [
    "#plt.rcParams[\"figure.figsize\"] = (10,6)\n",
    "cm = confusion_matrix(rna_labels[rna_to_atac_matching[0]], atac_labels[rna_to_atac_matching[1]])\n",
    "ConfusionMatrixDisplay(\n",
    "    confusion_matrix=np.round((cm.T/np.sum(cm, axis=1)).T*100), \n",
    "    display_labels=np.unique(rna_labels)\n",
    ").plot()"
   ]
  },
  {
   "cell_type": "markdown",
   "id": "b64a3218",
   "metadata": {},
   "source": [
    "## MaxFuse integration part 2: RNA --> CODEX integration"
   ]
  },
  {
   "cell_type": "code",
   "execution_count": 92,
   "id": "dac803cd",
   "metadata": {},
   "outputs": [],
   "source": [
    "# protein rna name conversion\n",
    "correspondence = pd.read_csv('/production/hubmap/protein_rna_name_conversionV11.csv')"
   ]
  },
  {
   "cell_type": "code",
   "execution_count": 98,
   "id": "4ecdf041",
   "metadata": {},
   "outputs": [],
   "source": [
    "# change names\n",
    "rna_protein_correspondence = []\n",
    "for i in range(correspondence.shape[0]):\n",
    "    curr_protein_name, curr_rna_names = correspondence.iloc[i]\n",
    "    if curr_protein_name not in protein_adata.var_names:\n",
    "        continue\n",
    "    if curr_rna_names.find('Ignore') != -1:\n",
    "        continue\n",
    "    curr_rna_names = curr_rna_names.split('/')\n",
    "    for r in curr_rna_names:\n",
    "        if r in rna_all.columns:\n",
    "            rna_protein_correspondence.append([r, curr_protein_name])\n",
    "rna_protein_correspondence = np.array(rna_protein_correspondence)"
   ]
  },
  {
   "cell_type": "code",
   "execution_count": 99,
   "id": "7a5f8bfe",
   "metadata": {},
   "outputs": [],
   "source": [
    "# get shared features\n",
    "protein_shared = protein_adata[:, rna_protein_correspondence[:, 1]].X.copy()\n",
    "rna_shared = rna_all[rna_protein_correspondence[:, 0]].to_numpy()"
   ]
  },
  {
   "cell_type": "code",
   "execution_count": 101,
   "id": "18814328",
   "metadata": {},
   "outputs": [
    {
     "name": "stderr",
     "output_type": "stream",
     "text": [
      "/home/bkzhu/python/miniconda3/envs/super_mario_testing/lib/python3.8/site-packages/scanpy/preprocessing/_normalization.py:182: UserWarning: Some cells have zero counts\n",
      "  warn(UserWarning('Some cells have zero counts'))\n"
     ]
    }
   ],
   "source": [
    "# standard preprocessing for rna counts\n",
    "rna_shared = ad.AnnData(rna_shared, dtype=np.float32)\n",
    "sc.pp.normalize_total(rna_shared)\n",
    "sc.pp.log1p(rna_shared)\n",
    "sc.pp.scale(rna_shared)"
   ]
  },
  {
   "cell_type": "code",
   "execution_count": 102,
   "id": "62463260",
   "metadata": {},
   "outputs": [],
   "source": [
    "rna_shared = rna_shared.X.copy()"
   ]
  },
  {
   "cell_type": "code",
   "execution_count": 103,
   "id": "f0c2c488",
   "metadata": {},
   "outputs": [],
   "source": [
    "# no preprocessing for codex, expression values we got are processed version"
   ]
  },
  {
   "cell_type": "markdown",
   "id": "611ca4b4",
   "metadata": {},
   "source": [
    "### MaxFuse starts:"
   ]
  },
  {
   "cell_type": "code",
   "execution_count": 104,
   "id": "a15ac54a",
   "metadata": {},
   "outputs": [],
   "source": [
    "mf_rna_to_protein = match.MaxFuse(\n",
    "        shared_arr1=rna_shared,\n",
    "        shared_arr2=utils.center_scale(protein_shared),\n",
    "        active_arr1=rna_active,\n",
    "        active_arr2=utils.center_scale(protein_active),\n",
    "        method='centroid_shrinkage',\n",
    "        labels1=rna_seurat_labels.astype(str), # if None, then use scanpy clustering pipeline\n",
    "        labels2=protein_seurat_labels.astype(str)\n",
    "    )"
   ]
  },
  {
   "cell_type": "code",
   "execution_count": 105,
   "id": "c521b347",
   "metadata": {},
   "outputs": [
    {
     "name": "stdout",
     "output_type": "stream",
     "text": [
      "The first data is split into 1 batches, average batch size is 17263, and max batch size is 17263.\n",
      "The second data is split into 3 batches, average batch size is 23091, and max batch size is 23091.\n",
      "Batch to batch correspondence is:\n",
      "  ['0<->0', '0<->1', '0<->2'].\n"
     ]
    }
   ],
   "source": [
    "mf_rna_to_protein.split_into_batches(\n",
    "    max_outward_size=5000,\n",
    "    matching_ratio=4,\n",
    "    metacell_size=3,\n",
    "    seed=None,\n",
    "    verbose=True\n",
    ")"
   ]
  },
  {
   "cell_type": "code",
   "execution_count": 106,
   "id": "c4c7e2de",
   "metadata": {},
   "outputs": [
    {
     "name": "stdout",
     "output_type": "stream",
     "text": [
      "Aggregating cells in arr1 into metacells of average size 3...\n",
      "Constructing neighborhood graphs for cells in arr1...\n",
      "Now at batch 0...\n",
      "Graph construction finished!\n",
      "Clustering into metacells...\n",
      "Now at batch 0...\n",
      "Metacell clustering finished!\n"
     ]
    }
   ],
   "source": [
    "mf_rna_to_protein.construct_graphs(\n",
    "    n_neighbors1=15,\n",
    "    n_neighbors2=15,\n",
    "    svd_components1=40,\n",
    "    svd_components2=40,\n",
    "    resolution1=2,\n",
    "    resolution2=2,\n",
    "    randomized_svd=False,\n",
    "    svd_runs=1,\n",
    "    resolution_tol=0.1,\n",
    "    leiden_runs=1,\n",
    "    leiden_seed=None,\n",
    "    verbose=True\n",
    ")"
   ]
  },
  {
   "cell_type": "code",
   "execution_count": 107,
   "id": "506c4a75",
   "metadata": {},
   "outputs": [
    {
     "name": "stdout",
     "output_type": "stream",
     "text": [
      "Now at batch 0<->0...\n",
      "Now at batch 0<->1...\n",
      "Now at batch 0<->2...\n",
      "Done!\n"
     ]
    }
   ],
   "source": [
    "mf_rna_to_protein.find_initial_pivots(\n",
    "    wt1=0.3, wt2=0.3,\n",
    "    svd_components1=40, svd_components2=40,\n",
    "    randomized_svd=False, svd_runs=1,\n",
    "    verbose=True\n",
    ")"
   ]
  },
  {
   "cell_type": "code",
   "execution_count": 169,
   "id": "4d8579b7",
   "metadata": {},
   "outputs": [
    {
     "name": "stdout",
     "output_type": "stream",
     "text": [
      "Now at batch 0<->0...\n",
      "Now at batch 0<->1...\n",
      "Now at batch 0<->2...\n",
      "Done!\n"
     ]
    }
   ],
   "source": [
    "mf_rna_to_protein.refine_pivots(\n",
    "    wt1=0.3, wt2=0.3,\n",
    "    svd_components1=40, svd_components2=40,\n",
    "    cca_components=15,\n",
    "    filter_prop=0.,\n",
    "    n_iters=1,\n",
    "    randomized_svd=False, \n",
    "    svd_runs=1,\n",
    "    verbose=True\n",
    ")"
   ]
  },
  {
   "cell_type": "code",
   "execution_count": 170,
   "id": "1b4c770a",
   "metadata": {},
   "outputs": [
    {
     "data": {
      "text/plain": [
       "0.9290928050052137"
      ]
     },
     "execution_count": 170,
     "metadata": {},
     "output_type": "execute_result"
    }
   ],
   "source": [
    "matching = mf_rna_to_protein._refined_matching[0]\n",
    "labels1 = utils.summarize_clustering(\n",
    "    mf_rna_to_protein._metacell_labels1[0], rna_labels[mf_rna_to_protein._batch_to_indices1[0]]\n",
    ")\n",
    "# labels1 = celltype_labels_rna[mf_rna_to_atac._batch_to_indices1[0]]\n",
    "labels2 = protein_labels[mf_rna_to_protein._batch_to_indices2[0]]\n",
    "metrics.get_matching_acc(matching, labels1, labels2)"
   ]
  },
  {
   "cell_type": "code",
   "execution_count": 171,
   "id": "19880504",
   "metadata": {},
   "outputs": [
    {
     "data": {
      "text/plain": [
       "<sklearn.metrics._plot.confusion_matrix.ConfusionMatrixDisplay at 0x7fef726b38b0>"
      ]
     },
     "execution_count": 171,
     "metadata": {},
     "output_type": "execute_result"
    },
    {
     "data": {
      "image/png": "[encoded data removed]",
      "text/plain": [
       "<Figure size 720x432 with 2 Axes>"
      ]
     },
     "metadata": {
      "needs_background": "light"
     },
     "output_type": "display_data"
    }
   ],
   "source": [
    "#plt.rcParams[\"figure.figsize\"] = (5,5)\n",
    "cm = confusion_matrix(labels1, labels2[matching[1]])\n",
    "ConfusionMatrixDisplay(\n",
    "    confusion_matrix=np.round((cm.T/np.sum(cm, axis=1)).T*100), \n",
    "    display_labels=np.unique(labels1)\n",
    ").plot()"
   ]
  },
  {
   "cell_type": "code",
   "execution_count": 196,
   "id": "d6ecf18c",
   "metadata": {},
   "outputs": [
    {
     "name": "stdout",
     "output_type": "stream",
     "text": [
      "Begin filtering...\n",
      "Now at batch 0<->0...\n",
      "Now at batch 0<->1...\n",
      "Now at batch 0<->2...\n",
      "12084/17262 pairs of matched cells remain after the filtering.\n",
      "Fitting CCA on pivots...\n",
      "Scoring matched pairs...\n",
      "13341/17263 cells in arr1 are selected as pivots.\n",
      "12084/69273 cells in arr2 are selected as pivots.\n",
      "Done!\n"
     ]
    }
   ],
   "source": [
    "mf_rna_to_protein.filter_bad_matches(target='pivot', filter_prop=0.3, verbose=True)"
   ]
  },
  {
   "cell_type": "code",
   "execution_count": 202,
   "id": "e91bc62b",
   "metadata": {},
   "outputs": [
    {
     "name": "stdout",
     "output_type": "stream",
     "text": [
      "Now at batch 0<->0...\n",
      "Now at batch 0<->1...\n",
      "Now at batch 0<->2...\n",
      "Done!\n"
     ]
    }
   ],
   "source": [
    "mf_rna_to_protein.propagate(\n",
    "    wt1=0.5,\n",
    "    wt2=0.5,\n",
    "    svd_components1=None, \n",
    "    svd_components2=None, \n",
    "    randomized_svd=False, \n",
    "    svd_runs=1, \n",
    "    verbose=True\n",
    ")"
   ]
  },
  {
   "cell_type": "code",
   "execution_count": 203,
   "id": "c9e98207",
   "metadata": {},
   "outputs": [
    {
     "name": "stdout",
     "output_type": "stream",
     "text": [
      "Begin filtering...\n",
      "Now at batch 0<->0...\n",
      "Now at batch 0<->1...\n",
      "Now at batch 0<->2...\n",
      "43656/62367 pairs of matched cells remain after the filtering.\n",
      "Scoring matched pairs...\n",
      "Done!\n"
     ]
    }
   ],
   "source": [
    "mf_rna_to_protein.filter_bad_matches(\n",
    "    target='propagated',\n",
    "    filter_prop=0.3,\n",
    "    verbose=True\n",
    ")"
   ]
  },
  {
   "cell_type": "code",
   "execution_count": 204,
   "id": "49be8fc2",
   "metadata": {},
   "outputs": [
    {
     "data": {
      "text/plain": [
       "0.9483794208516436"
      ]
     },
     "execution_count": 204,
     "metadata": {},
     "output_type": "execute_result"
    }
   ],
   "source": [
    "rna_to_protein_matching = mf_rna_to_protein.get_matching(order=(2, 1), target='full_data')\n",
    "metrics.get_matching_acc(rna_to_protein_matching, rna_labels, protein_labels, order=(2, 1))"
   ]
  },
  {
   "cell_type": "code",
   "execution_count": 205,
   "id": "15f5a701",
   "metadata": {},
   "outputs": [
    {
     "data": {
      "text/plain": [
       "<sklearn.metrics._plot.confusion_matrix.ConfusionMatrixDisplay at 0x7fef6106bfa0>"
      ]
     },
     "execution_count": 205,
     "metadata": {},
     "output_type": "execute_result"
    },
    {
     "data": {
      "image/png": "[encoded data removed]",
      "text/plain": [
       "<Figure size 720x432 with 2 Axes>"
      ]
     },
     "metadata": {
      "needs_background": "light"
     },
     "output_type": "display_data"
    }
   ],
   "source": [
    "plt.rcParams[\"figure.figsize\"] = (10,6)\n",
    "cm = confusion_matrix(protein_labels[rna_to_protein_matching[1]], rna_labels[rna_to_protein_matching[0]])\n",
    "ConfusionMatrixDisplay(\n",
    "    confusion_matrix=np.round((cm.T/np.sum(cm, axis=1)).T*100), \n",
    "    display_labels=np.unique(protein_labels)\n",
    ").plot()"
   ]
  },
  {
   "cell_type": "markdown",
   "id": "883d0979",
   "metadata": {},
   "source": [
    "## Custome tri modality chaining code:"
   ]
  },
  {
   "cell_type": "code",
   "execution_count": 206,
   "id": "87775e33",
   "metadata": {},
   "outputs": [],
   "source": [
    "from collections import defaultdict\n",
    "def get_matched_indices(pivots12, pivots23):\n",
    "    # for each index in indices1, find its match in indices3\n",
    "    # by using indices 2 as a transportation hub\n",
    "    idx1_to_indices2 = defaultdict(set)\n",
    "    for idx1, idx2 in zip(pivots12[0], pivots12[1]):\n",
    "        idx1_to_indices2[idx1].add(idx2)\n",
    "    \n",
    "    idx2_to_indices3 = defaultdict(set)\n",
    "    for idx2, idx3 in zip(pivots23[0], pivots23[1]):\n",
    "        idx2_to_indices3[idx2].add(idx3)\n",
    "    \n",
    "    # idx1_to_indices3 = defaultdict(set)\n",
    "    final_indices1, final_indices2, final_indices3 = [], [], []\n",
    "    for idx1, indices2 in idx1_to_indices2.items():\n",
    "        for idx2 in indices2:\n",
    "            if idx2 in idx2_to_indices3:\n",
    "                for idx3 in idx2_to_indices3[idx2]:\n",
    "                    final_indices1.append(idx1)\n",
    "                    final_indices2.append(idx2)\n",
    "                    final_indices3.append(idx3)\n",
    "    \n",
    "    return final_indices1, final_indices2, final_indices3"
   ]
  },
  {
   "cell_type": "code",
   "execution_count": 207,
   "id": "09e6f582",
   "metadata": {},
   "outputs": [],
   "source": [
    "import match_utils\n",
    "\n",
    "rna_to_atac_full = match_utils.address_matching_redundancy(\n",
    "    spm.get_matching(order=(1,2), target='full_data'), \n",
    "    order=(1,2)\n",
    ")\n",
    "protein_to_rna_full = match_utils.address_matching_redundancy(\n",
    "    mf_rna_to_protein.get_matching(order=(2, 1), target='full_data'),\n",
    "    order=(2, 1)\n",
    ")"
   ]
  },
  {
   "cell_type": "code",
   "execution_count": 208,
   "id": "529401bc",
   "metadata": {},
   "outputs": [],
   "source": [
    "indices_protein, indices_rna,  indices_atac = get_matched_indices(\n",
    "    # protein -> rna\n",
    "    pivots12=[protein_to_rna_full[1], protein_to_rna_full[0]],\n",
    "    # rna -> atac\n",
    "    pivots23=[rna_to_atac_full[0], rna_to_atac_full[1]],\n",
    ")"
   ]
  },
  {
   "cell_type": "code",
   "execution_count": 212,
   "id": "60f98927",
   "metadata": {},
   "outputs": [
    {
     "data": {
      "text/plain": [
       "0.9313772524035232"
      ]
     },
     "execution_count": 212,
     "metadata": {},
     "output_type": "execute_result"
    }
   ],
   "source": [
    "# 3 way correctness quick check\n",
    "np.mean([x == y == z for x, y, z in zip(\n",
    "    protein_labels[indices_protein], \n",
    "    atac_labels[indices_atac],\n",
    "    rna_labels[indices_rna]\n",
    ")])"
   ]
  },
  {
   "cell_type": "code",
   "execution_count": 213,
   "id": "c4b86bb9",
   "metadata": {},
   "outputs": [
    {
     "data": {
      "text/plain": [
       "<sklearn.metrics._plot.confusion_matrix.ConfusionMatrixDisplay at 0x7fef085d03d0>"
      ]
     },
     "execution_count": 213,
     "metadata": {},
     "output_type": "execute_result"
    },
    {
     "data": {
      "image/png": "[encoded data removed]",
      "text/plain": [
       "<Figure size 720x432 with 2 Axes>"
      ]
     },
     "metadata": {
      "needs_background": "light"
     },
     "output_type": "display_data"
    }
   ],
   "source": [
    "# check protein to atac \n",
    "plt.rcParams[\"figure.figsize\"] = (10,6)\n",
    "cm = confusion_matrix(protein_labels[indices_protein], atac_labels[indices_atac])\n",
    "ConfusionMatrixDisplay(\n",
    "    confusion_matrix=np.round((cm.T/np.sum(cm, axis=1)).T*100), \n",
    "    # confusion_matrix=cm, \n",
    "    display_labels=np.unique(protein_labels)\n",
    ").plot()"
   ]
  },
  {
   "cell_type": "code",
   "execution_count": 214,
   "id": "d56b16ae",
   "metadata": {},
   "outputs": [
    {
     "data": {
      "text/html": [
       "<div>\n",
       "<style scoped>\n",
       "    .dataframe tbody tr th:only-of-type {\n",
       "        vertical-align: middle;\n",
       "    }\n",
       "\n",
       "    .dataframe tbody tr th {\n",
       "        vertical-align: top;\n",
       "    }\n",
       "\n",
       "    .dataframe thead th {\n",
       "        text-align: right;\n",
       "    }\n",
       "</style>\n",
       "<table border=\"1\" class=\"dataframe\">\n",
       "  <thead>\n",
       "    <tr style=\"text-align: right;\">\n",
       "      <th></th>\n",
       "      <th>codex_indice</th>\n",
       "      <th>rna_indice</th>\n",
       "      <th>atac_indice</th>\n",
       "    </tr>\n",
       "  </thead>\n",
       "  <tbody>\n",
       "    <tr>\n",
       "      <th>0</th>\n",
       "      <td>17</td>\n",
       "      <td>12571</td>\n",
       "      <td>7774</td>\n",
       "    </tr>\n",
       "    <tr>\n",
       "      <th>1</th>\n",
       "      <td>36</td>\n",
       "      <td>2426</td>\n",
       "      <td>12885</td>\n",
       "    </tr>\n",
       "    <tr>\n",
       "      <th>2</th>\n",
       "      <td>46</td>\n",
       "      <td>16211</td>\n",
       "      <td>9479</td>\n",
       "    </tr>\n",
       "    <tr>\n",
       "      <th>3</th>\n",
       "      <td>126</td>\n",
       "      <td>14159</td>\n",
       "      <td>19895</td>\n",
       "    </tr>\n",
       "    <tr>\n",
       "      <th>4</th>\n",
       "      <td>142</td>\n",
       "      <td>16573</td>\n",
       "      <td>4251</td>\n",
       "    </tr>\n",
       "    <tr>\n",
       "      <th>...</th>\n",
       "      <td>...</td>\n",
       "      <td>...</td>\n",
       "      <td>...</td>\n",
       "    </tr>\n",
       "    <tr>\n",
       "      <th>52106</th>\n",
       "      <td>69266</td>\n",
       "      <td>12442</td>\n",
       "      <td>21004</td>\n",
       "    </tr>\n",
       "    <tr>\n",
       "      <th>52107</th>\n",
       "      <td>69267</td>\n",
       "      <td>14996</td>\n",
       "      <td>9253</td>\n",
       "    </tr>\n",
       "    <tr>\n",
       "      <th>52108</th>\n",
       "      <td>69269</td>\n",
       "      <td>12442</td>\n",
       "      <td>21004</td>\n",
       "    </tr>\n",
       "    <tr>\n",
       "      <th>52109</th>\n",
       "      <td>69270</td>\n",
       "      <td>14443</td>\n",
       "      <td>988</td>\n",
       "    </tr>\n",
       "    <tr>\n",
       "      <th>52110</th>\n",
       "      <td>69271</td>\n",
       "      <td>11991</td>\n",
       "      <td>9492</td>\n",
       "    </tr>\n",
       "  </tbody>\n",
       "</table>\n",
       "<p>52111 rows × 3 columns</p>\n",
       "</div>"
      ],
      "text/plain": [
       "       codex_indice  rna_indice  atac_indice\n",
       "0                17       12571         7774\n",
       "1                36        2426        12885\n",
       "2                46       16211         9479\n",
       "3               126       14159        19895\n",
       "4               142       16573         4251\n",
       "...             ...         ...          ...\n",
       "52106         69266       12442        21004\n",
       "52107         69267       14996         9253\n",
       "52108         69269       12442        21004\n",
       "52109         69270       14443          988\n",
       "52110         69271       11991         9492\n",
       "\n",
       "[52111 rows x 3 columns]"
      ]
     },
     "execution_count": 214,
     "metadata": {},
     "output_type": "execute_result"
    }
   ],
   "source": [
    "# save out three way matching results\n",
    "\n",
    "dd = {'codex_indice':indices_protein, 'rna_indice':indices_rna, 'atac_indice':indices_atac}\n",
    "\n",
    "df_full_cdx = pd.DataFrame(dd)\n",
    "df_full_cdx"
   ]
  },
  {
   "cell_type": "code",
   "execution_count": 215,
   "id": "9518e7cc",
   "metadata": {},
   "outputs": [],
   "source": [
    "df_full_cdx.to_csv(\"/hubmap_fin/output/tri_int/cl_cdx_full_indx_hh.csv\", index = False)"
   ]
  },
  {
   "cell_type": "markdown",
   "id": "fa463c01",
   "metadata": {},
   "source": [
    "## Since tri modality, we need to fit GCCA to get tri-embedding"
   ]
  },
  {
   "cell_type": "code",
   "execution_count": 217,
   "id": "dd86eda8",
   "metadata": {},
   "outputs": [],
   "source": [
    "import match_utils\n",
    "# get pivot chaining for gcca initialization\n",
    "\n",
    "rna_to_atac_pivots = match_utils.address_matching_redundancy(\n",
    "    spm.get_matching(order=(1, 2), target='pivot'), \n",
    "    order=(1, 2)\n",
    ")\n",
    "rna_to_protein_pivots = match_utils.address_matching_redundancy(\n",
    "    mf_rna_to_protein.get_matching(order=(1, 2), target='pivot'),\n",
    "    order=(1, 2)\n",
    ")\n",
    "\n",
    "pivots_protein, pivots_rna, pivots_atac = get_matched_indices(\n",
    "    # protein -> rna\n",
    "    pivots12=[rna_to_protein_pivots[1], rna_to_protein_pivots[0]],\n",
    "    # rna -> atac\n",
    "    pivots23=[rna_to_atac_pivots[0], rna_to_atac_pivots[1]],\n",
    ")"
   ]
  },
  {
   "cell_type": "code",
   "execution_count": 218,
   "id": "2a2caee9",
   "metadata": {},
   "outputs": [
    {
     "data": {
      "text/plain": [
       "0.9510531444419459"
      ]
     },
     "execution_count": 218,
     "metadata": {},
     "output_type": "execute_result"
    }
   ],
   "source": [
    "# check pivot three way correctness\n",
    "np.mean([x == y == z for x, y, z in zip(\n",
    "    protein_labels[pivots_protein], \n",
    "    atac_labels[pivots_atac],\n",
    "    rna_labels[pivots_rna]\n",
    ")])"
   ]
  },
  {
   "cell_type": "code",
   "execution_count": 219,
   "id": "0588a273",
   "metadata": {},
   "outputs": [],
   "source": [
    "## helper code for gcca\n",
    "\n",
    "from sklearn.cross_decomposition import CCA\n",
    "\n",
    "def gcca_init(data_list, indices_list, n_components=10, max_iter=2000):\n",
    "    \"\"\"Initialization of GCCA.\n",
    "    Parameters\n",
    "    ----------\n",
    "    data_list: list\n",
    "        A list of data matrices, e.g., [X1, X2, X3, X4]\n",
    "    indices_list: list\n",
    "        A list of indices to fit GCCA on\n",
    "    n_components : int, default=10\n",
    "        Number of GCCA components.\n",
    "    max_iter: int, default=2000\n",
    "    Returns\n",
    "    ----------\n",
    "    embeddings_list: list\n",
    "        A list of projected data.\n",
    "    \"\"\"\n",
    "    # run CCA on the first two data matrices\n",
    "    cca = CCA(n_components=n_components, max_iter=max_iter)\n",
    "    cca.fit(data_list[0][indices_list[0]], data_list[1][indices_list[1]])\n",
    "    # transform the first two data matrices\n",
    "    embeddings_list = list(cca.transform(data_list[0], data_list[1]))\n",
    "    avg_score = (embeddings_list[0][indices_list[0]] + embeddings_list[1][indices_list[1]]) / 2\n",
    "    # run OLS regressions for the rest of data matrices\n",
    "    for data, indices in zip(data_list[2:], indices_list[2:]):\n",
    "        B = np.linalg.lstsq(data[indices], avg_score, rcond=None)[0]\n",
    "        embeddings_list.append(data @ B)\n",
    "\n",
    "    return embeddings_list\n",
    "\n",
    "def gcca_refine(data_list, indices_list, init_embeddings_list, max_iter=500, tol=1e-3, verbose=True):\n",
    "    \"\"\"Refinement of GCCA.\n",
    "    Parameters\n",
    "    ---------\n",
    "    data_list : list\n",
    "        A list of data matrices.\n",
    "    indices_list: list\n",
    "        A list of indices to fit GCCA on\n",
    "    init_embeddings_list : list\n",
    "        A list of initial embeddings.\n",
    "    max_iter : int, default=500\n",
    "        Number of maximum iterations.\n",
    "    tol : float, default=1e-3\n",
    "        Algorithm terminates when the change of objective function value is <=tol.\n",
    "    verbose : bool, default=True\n",
    "        Print details if True.\n",
    "    Returns\n",
    "    ----------\n",
    "    all_scores : list\n",
    "        A list of projected data.\n",
    "    \"\"\"\n",
    "\n",
    "    n_datasets = len(data_list)\n",
    "    n_pivots = len(indices_list[0])\n",
    "    n_components = init_embeddings_list[0].shape[1]\n",
    "\n",
    "    # n_datasets * n_indices * n_components\n",
    "    all_embeddings = [np.zeros_like(init_embeddings) for init_embeddings in init_embeddings_list]\n",
    "    \n",
    "    for ii in range(n_components):\n",
    "        if verbose:\n",
    "            print(\"Computing the {}-th canonical score...\".format(ii), flush=True)\n",
    "        # curr_data_list is the list of row-paired datasets to be used to fit GCCA\n",
    "        if ii > 0:\n",
    "            curr_data_list = []\n",
    "            for idx in range(n_datasets):\n",
    "                coef = np.linalg.lstsq(\n",
    "                    # regress out the influence of all previous scores\n",
    "                    all_embeddings[idx][indices_list[idx], :ii],\n",
    "                    data_list[idx][indices_list[idx]], \n",
    "                    rcond=None\n",
    "                )[0]\n",
    "                curr_data_list.append(\n",
    "                    data_list[idx][indices_list[idx]] - all_embeddings[idx][indices_list[idx], :ii] @ coef\n",
    "                )\n",
    "        else:\n",
    "            curr_data_list = [data[indices] for data, indices in zip(data_list, indices_list)] \n",
    "\n",
    "        # preparations for entering main iteration\n",
    "        curr_scores = [e[indices, ii] for e, indices in zip(init_embeddings_list, indices_list)]\n",
    "        curr_embeddings = [e[:, ii] for e in init_embeddings_list]\n",
    "        \n",
    "        score_sum = sum(s for s in curr_scores)\n",
    "        prev_obj = np.inf\n",
    "\n",
    "        # alternating minimization\n",
    "        for iter_idx in range(max_iter):\n",
    "            for jj in range(n_datasets):\n",
    "                y = (score_sum - curr_scores[jj]) / (n_datasets - 1)\n",
    "                X = curr_data_list[jj]\n",
    "                coef = np.linalg.lstsq(X, y, rcond=None)[0]\n",
    "                coef = coef / np.sqrt(np.sum(coef ** 2))\n",
    "                score = X @ coef\n",
    "                score_sum = score_sum - curr_embeddings[jj][indices_list[jj]] + score\n",
    "                # only update the locations where rows are paired\n",
    "                curr_scores[jj] = score\n",
    "            # check convergence\n",
    "            obj = 0\n",
    "            for jj in range(n_datasets - 1):\n",
    "                obj += np.sqrt(np.sum((curr_scores[jj] - curr_scores[jj + 1]) ** 2))\n",
    "\n",
    "            if verbose and iter_idx % 50 == 0:\n",
    "                print(\"At iteration {}, the objective value is {}.\".format(iter_idx, obj), flush=True)\n",
    "\n",
    "            if abs(obj - prev_obj) < tol:\n",
    "                break\n",
    "            else:\n",
    "                prev_obj = obj\n",
    "\n",
    "        if verbose:\n",
    "            print(\"Finished computing the {}-th canonical score, the objective is {}.\".format(ii, obj), flush=True)\n",
    "\n",
    "        # curr_scores are linear combinations of the residual matrices\n",
    "        # convert them into linear combinations of the original data matrices\n",
    "        for jj in range(n_datasets):\n",
    "            coef = np.linalg.lstsq(data_list[jj][indices_list[jj]], curr_scores[jj], rcond=None)[0]\n",
    "            all_embeddings[jj][:, ii] = data_list[jj] @ coef\n",
    "\n",
    "    return all_embeddings\n",
    "\n",
    "import umap\n",
    "import seaborn as sns\n",
    "def fit_umap(arr):\n",
    "    u = umap.UMAP(random_state = 42).fit_transform(\n",
    "        arr\n",
    "    )\n",
    "    return u"
   ]
  },
  {
   "cell_type": "markdown",
   "id": "4e2d6b76",
   "metadata": {},
   "source": [
    "#### gcca run on active arrays for three modality\n",
    "\n",
    "#### protein would be normal, rna on variable genes, atac on LSI embedding"
   ]
  },
  {
   "cell_type": "code",
   "execution_count": 220,
   "id": "e3d6a2dc",
   "metadata": {},
   "outputs": [],
   "source": [
    "# svd on rna active genes (all features)\n",
    "rna_active_svd = utils.svd_embedding(rna_active, 50)\n",
    "rna_active_svd = utils.center_scale(rna_active_svd)\n",
    "# svd on atac LSI (all features)\n",
    "atac_active_svd = utils.svd_embedding(atac_active, 50)\n",
    "atac_active_svd = utils.center_scale(atac_active_svd)\n",
    "# just use normal protein expressions\n",
    "protein_active_svd = utils.svd_embedding(protein_active, None) # only the codex cell that has bimodality matches\n",
    "protein_active_svd = utils.center_scale(protein_active_svd)"
   ]
  },
  {
   "cell_type": "code",
   "execution_count": 222,
   "id": "42f7d41d",
   "metadata": {},
   "outputs": [],
   "source": [
    "# initialize\n",
    "init_embeddings = gcca_init(\n",
    "    data_list=[rna_active_svd, atac_active_svd, protein_active_svd],\n",
    "    indices_list=[pivots_rna, pivots_atac, pivots_protein],\n",
    "    n_components=15 \n",
    ")"
   ]
  },
  {
   "cell_type": "code",
   "execution_count": 223,
   "id": "96a25949",
   "metadata": {},
   "outputs": [],
   "source": [
    "# can check umap of inital embedding if we want\n",
    "scaled_init_embeddings = [utils.center_scale(embeddings) for embeddings in init_embeddings]\n",
    "init_umap = fit_umap(np.concatenate(init_embeddings, axis=0))\n",
    "scaled_init_umap = fit_umap(np.concatenate(scaled_init_embeddings, axis=0))"
   ]
  },
  {
   "cell_type": "code",
   "execution_count": 224,
   "id": "db08adda",
   "metadata": {},
   "outputs": [
    {
     "name": "stdout",
     "output_type": "stream",
     "text": [
      "Computing the 0-th canonical score...\n",
      "At iteration 0, the objective value is 145.63528082362876.\n",
      "At iteration 50, the objective value is 140.669909962106.\n",
      "At iteration 100, the objective value is 141.8003865538331.\n",
      "At iteration 150, the objective value is 142.31796042359278.\n",
      "At iteration 200, the objective value is 142.6249687901464.\n",
      "At iteration 250, the objective value is 142.8324441733.\n",
      "At iteration 300, the objective value is 142.98402905887457.\n",
      "At iteration 350, the objective value is 143.10068428689274.\n",
      "At iteration 400, the objective value is 143.19385273589342.\n",
      "At iteration 450, the objective value is 143.270364677849.\n",
      "At iteration 500, the objective value is 143.33457515810647.\n",
      "At iteration 550, the objective value is 143.38940576461025.\n",
      "Finished computing the 0-th canonical score, the objective is 143.39645770380167.\n",
      "Computing the 1-th canonical score...\n",
      "At iteration 0, the objective value is 139.11494606078975.\n",
      "Finished computing the 1-th canonical score, the objective is 138.05328026853786.\n",
      "Computing the 2-th canonical score...\n",
      "At iteration 0, the objective value is 168.90011345519505.\n",
      "At iteration 50, the objective value is 154.65628179815852.\n",
      "At iteration 100, the objective value is 158.0507743481062.\n",
      "At iteration 150, the objective value is 159.56688602271797.\n",
      "At iteration 200, the objective value is 160.4702052463157.\n",
      "At iteration 250, the objective value is 161.0853852608534.\n",
      "At iteration 300, the objective value is 161.53838926517653.\n",
      "At iteration 350, the objective value is 161.88959793950934.\n",
      "At iteration 400, the objective value is 162.17202471668801.\n",
      "At iteration 450, the objective value is 162.40543176097628.\n",
      "At iteration 500, the objective value is 162.60246228940792.\n",
      "At iteration 550, the objective value is 162.77162827970244.\n",
      "At iteration 600, the objective value is 162.91889672264438.\n",
      "At iteration 650, the objective value is 163.04859021073665.\n",
      "At iteration 700, the objective value is 163.1639265596225.\n",
      "At iteration 750, the objective value is 163.2673568012965.\n",
      "At iteration 800, the objective value is 163.36078490011417.\n",
      "At iteration 850, the objective value is 163.44571516756653.\n",
      "At iteration 900, the objective value is 163.52335389765565.\n",
      "At iteration 950, the objective value is 163.5946811208272.\n",
      "At iteration 1000, the objective value is 163.66050232850318.\n",
      "At iteration 1050, the objective value is 163.7214864540475.\n",
      "At iteration 1100, the objective value is 163.77819422521918.\n",
      "At iteration 1150, the objective value is 163.83109964447507.\n",
      "Finished computing the 2-th canonical score, the objective is 163.8492944174889.\n",
      "Computing the 3-th canonical score...\n",
      "At iteration 0, the objective value is 139.88799807193948.\n",
      "At iteration 50, the objective value is 130.58540831163796.\n",
      "At iteration 100, the objective value is 132.3982469975218.\n",
      "At iteration 150, the objective value is 133.38217833270178.\n",
      "At iteration 200, the objective value is 134.00121047254243.\n",
      "At iteration 250, the objective value is 134.4341638447787.\n",
      "At iteration 300, the objective value is 134.7581820377786.\n",
      "At iteration 350, the objective value is 135.01218247279695.\n",
      "At iteration 400, the objective value is 135.21810634324828.\n",
      "At iteration 450, the objective value is 135.3893627898303.\n",
      "At iteration 500, the objective value is 135.53466073098292.\n",
      "At iteration 550, the objective value is 135.6599313191215.\n",
      "At iteration 600, the objective value is 135.76937054276704.\n",
      "At iteration 650, the objective value is 135.86604082592038.\n",
      "At iteration 700, the objective value is 135.95223614789288.\n",
      "At iteration 750, the objective value is 136.0297131346501.\n",
      "At iteration 800, the objective value is 136.09984259177054.\n",
      "At iteration 850, the objective value is 136.16371192356178.\n",
      "At iteration 900, the objective value is 136.2221961943224.\n",
      "At iteration 950, the objective value is 136.2760085744178.\n",
      "Finished computing the 3-th canonical score, the objective is 136.29836123037524.\n",
      "Computing the 4-th canonical score...\n",
      "At iteration 0, the objective value is 163.4913968567089.\n",
      "Finished computing the 4-th canonical score, the objective is 158.48105217875928.\n",
      "Computing the 5-th canonical score...\n",
      "At iteration 0, the objective value is 168.43354025898185.\n",
      "Finished computing the 5-th canonical score, the objective is 164.83895893821972.\n",
      "Computing the 6-th canonical score...\n",
      "At iteration 0, the objective value is 168.96888450062937.\n",
      "At iteration 50, the objective value is 164.06578887754077.\n",
      "Finished computing the 6-th canonical score, the objective is 163.4895088580363.\n",
      "Computing the 7-th canonical score...\n",
      "At iteration 0, the objective value is 177.32916697895564.\n",
      "At iteration 50, the objective value is 174.70099305957893.\n",
      "Finished computing the 7-th canonical score, the objective is 174.4594248863329.\n",
      "Computing the 8-th canonical score...\n",
      "At iteration 0, the objective value is 245.9123192160692.\n",
      "At iteration 50, the objective value is 198.53393324488508.\n",
      "At iteration 100, the objective value is 200.40197717591224.\n",
      "At iteration 150, the objective value is 202.44148834579715.\n",
      "At iteration 200, the objective value is 204.0687368624246.\n",
      "At iteration 250, the objective value is 205.37218879134682.\n",
      "At iteration 300, the objective value is 206.4418215661579.\n",
      "At iteration 350, the objective value is 207.33981965787578.\n",
      "At iteration 400, the objective value is 208.10825057100865.\n",
      "At iteration 450, the objective value is 208.77622328153416.\n",
      "At iteration 500, the objective value is 209.3644721466405.\n",
      "At iteration 550, the objective value is 209.88817998148664.\n",
      "At iteration 600, the objective value is 210.35874196494018.\n",
      "At iteration 650, the objective value is 210.7848973180728.\n",
      "At iteration 700, the objective value is 211.17347606297068.\n",
      "At iteration 750, the objective value is 211.52990511689808.\n",
      "At iteration 800, the objective value is 211.8585597646973.\n",
      "At iteration 850, the objective value is 212.1630131934048.\n",
      "At iteration 900, the objective value is 212.44621720427614.\n",
      "At iteration 950, the objective value is 212.71063544088747.\n",
      "At iteration 1000, the objective value is 212.95834320394727.\n",
      "At iteration 1050, the objective value is 213.19110332944211.\n",
      "At iteration 1100, the objective value is 213.41042463758225.\n",
      "At iteration 1150, the objective value is 213.61760750112512.\n",
      "At iteration 1200, the objective value is 213.8137797645423.\n",
      "At iteration 1250, the objective value is 213.99992534428924.\n",
      "At iteration 1300, the objective value is 214.17690721379594.\n",
      "At iteration 1350, the objective value is 214.34548603453925.\n",
      "At iteration 1400, the objective value is 214.50633537810634.\n",
      "At iteration 1450, the objective value is 214.66005425482598.\n",
      "At iteration 1500, the objective value is 214.80717749635733.\n",
      "At iteration 1550, the objective value is 214.948184414923.\n",
      "At iteration 1600, the objective value is 215.08350606844843.\n",
      "At iteration 1650, the objective value is 215.21353139020772.\n",
      "At iteration 1700, the objective value is 215.33861238764092.\n",
      "At iteration 1750, the objective value is 215.45906857349888.\n",
      "At iteration 1800, the objective value is 215.57519076026068.\n",
      "At iteration 1850, the objective value is 215.6872443235971.\n",
      "At iteration 1900, the objective value is 215.79547202083234.\n",
      "At iteration 1950, the objective value is 215.90009643465282.\n",
      "Finished computing the 8-th canonical score, the objective is 215.99932965097668.\n",
      "Computing the 9-th canonical score...\n",
      "At iteration 0, the objective value is 207.76298414787982.\n",
      "At iteration 50, the objective value is 205.80394968449076.\n",
      "At iteration 100, the objective value is 202.07518094785485.\n",
      "At iteration 150, the objective value is 200.83985516254205.\n",
      "At iteration 200, the objective value is 200.2673313228143.\n",
      "At iteration 250, the objective value is 199.95987536760134.\n",
      "At iteration 300, the objective value is 199.78187887332126.\n",
      "At iteration 350, the objective value is 199.67517664452876.\n",
      "Finished computing the 9-th canonical score, the objective is 199.61198337556698.\n",
      "Computing the 10-th canonical score...\n",
      "At iteration 0, the objective value is 219.70237260933484.\n",
      "At iteration 50, the objective value is 195.93682437972052.\n",
      "At iteration 100, the objective value is 198.01133237455895.\n",
      "At iteration 150, the objective value is 199.0908592091487.\n"
     ]
    },
    {
     "name": "stdout",
     "output_type": "stream",
     "text": [
      "At iteration 200, the objective value is 199.76910824135308.\n",
      "At iteration 250, the objective value is 200.24438537323175.\n",
      "At iteration 300, the objective value is 200.6008771721153.\n",
      "At iteration 350, the objective value is 200.88092474672908.\n",
      "At iteration 400, the objective value is 201.10839965254738.\n",
      "At iteration 450, the objective value is 201.29790428349736.\n",
      "At iteration 500, the objective value is 201.45893404778684.\n",
      "At iteration 550, the objective value is 201.59796396586415.\n",
      "At iteration 600, the objective value is 201.7195805073601.\n",
      "At iteration 650, the objective value is 201.8271350818913.\n",
      "At iteration 700, the objective value is 201.9231409711208.\n",
      "At iteration 750, the objective value is 202.00952477558076.\n",
      "At iteration 800, the objective value is 202.0877914435659.\n",
      "At iteration 850, the objective value is 202.15913591132772.\n",
      "At iteration 900, the objective value is 202.2245206293845.\n",
      "At iteration 950, the objective value is 202.28473064420302.\n",
      "At iteration 1000, the objective value is 202.34041352962183.\n",
      "Finished computing the 10-th canonical score, the objective is 202.39111097107843.\n",
      "Computing the 11-th canonical score...\n",
      "At iteration 0, the objective value is 226.88452480414242.\n",
      "At iteration 50, the objective value is 201.0699536054754.\n",
      "At iteration 100, the objective value is 205.25956519262098.\n",
      "At iteration 150, the objective value is 207.24735717239727.\n",
      "At iteration 200, the objective value is 208.46499142611594.\n",
      "At iteration 250, the objective value is 209.30901690223766.\n",
      "At iteration 300, the objective value is 209.93859684725004.\n",
      "At iteration 350, the objective value is 210.43165517845003.\n",
      "At iteration 400, the objective value is 210.83144723917314.\n",
      "At iteration 450, the objective value is 211.16417127948966.\n",
      "At iteration 500, the objective value is 211.4467483452263.\n",
      "At iteration 550, the objective value is 211.690661767976.\n",
      "At iteration 600, the objective value is 211.9040169477123.\n",
      "At iteration 650, the objective value is 212.0927209879626.\n",
      "At iteration 700, the objective value is 212.26119479697496.\n",
      "At iteration 750, the objective value is 212.41282202022003.\n",
      "At iteration 800, the objective value is 212.5502425575937.\n",
      "At iteration 850, the objective value is 212.6755505123711.\n",
      "At iteration 900, the objective value is 212.79043130640443.\n",
      "At iteration 950, the objective value is 212.89625889624762.\n",
      "At iteration 1000, the objective value is 212.99416612763122.\n",
      "At iteration 1050, the objective value is 213.08509658392188.\n",
      "At iteration 1100, the objective value is 213.16984342123752.\n",
      "At iteration 1150, the objective value is 213.24907888338493.\n",
      "At iteration 1200, the objective value is 213.32337703063953.\n",
      "At iteration 1250, the objective value is 213.39323145310115.\n",
      "At iteration 1300, the objective value is 213.45906922664432.\n",
      "At iteration 1350, the objective value is 213.52126201880395.\n",
      "At iteration 1400, the objective value is 213.58013500810284.\n",
      "At iteration 1450, the objective value is 213.63597410820455.\n",
      "At iteration 1500, the objective value is 213.6890318650792.\n",
      "Finished computing the 11-th canonical score, the objective is 213.72563801194144.\n",
      "Computing the 12-th canonical score...\n",
      "At iteration 0, the objective value is 220.9435330695989.\n",
      "Finished computing the 12-th canonical score, the objective is 219.78336666459046.\n",
      "Computing the 13-th canonical score...\n",
      "At iteration 0, the objective value is 227.2055701038427.\n",
      "At iteration 50, the objective value is 222.05005570682758.\n",
      "At iteration 100, the objective value is 222.65601736199136.\n",
      "At iteration 150, the objective value is 222.97287529079657.\n",
      "At iteration 200, the objective value is 223.1734345538839.\n",
      "At iteration 250, the objective value is 223.3148869171003.\n",
      "At iteration 300, the objective value is 223.42156771527397.\n",
      "At iteration 350, the objective value is 223.50576377746452.\n",
      "At iteration 400, the objective value is 223.57443000433756.\n",
      "At iteration 450, the objective value is 223.63183683451425.\n",
      "Finished computing the 13-th canonical score, the objective is 223.65031489634185.\n",
      "Computing the 14-th canonical score...\n",
      "At iteration 0, the objective value is 234.38454424652664.\n",
      "At iteration 50, the objective value is 230.29461253887777.\n",
      "At iteration 100, the objective value is 231.16245675440427.\n",
      "At iteration 150, the objective value is 231.53197608630137.\n",
      "At iteration 200, the objective value is 231.74608802961274.\n",
      "At iteration 250, the objective value is 231.88921197153655.\n",
      "At iteration 300, the objective value is 231.9931740375423.\n",
      "At iteration 350, the objective value is 232.0729202330207.\n",
      "At iteration 400, the objective value is 232.1364958258398.\n",
      "Finished computing the 14-th canonical score, the objective is 232.17600353998176.\n"
     ]
    }
   ],
   "source": [
    "# refine gcca embedding\n",
    "final_embeddings = gcca_refine(\n",
    "    data_list=[rna_active_svd, atac_active_svd, protein_active_svd],\n",
    "    indices_list=[pivots_rna, pivots_atac, pivots_protein], \n",
    "    init_embeddings_list=scaled_init_embeddings, \n",
    "    max_iter=2000, tol=1e-3, verbose=True\n",
    ")"
   ]
  },
  {
   "cell_type": "code",
   "execution_count": 225,
   "id": "ce9f9cdf",
   "metadata": {},
   "outputs": [],
   "source": [
    "scaled_final_embeddings = [utils.center_scale(embeddings) for embeddings in final_embeddings]\n",
    "scaled_final_umap = fit_umap(np.concatenate(scaled_final_embeddings, axis=0))"
   ]
  },
  {
   "cell_type": "markdown",
   "id": "964b2e7d",
   "metadata": {},
   "source": [
    "## Save out gcca scores for downstream analaysis eg UMAP calculation"
   ]
  },
  {
   "cell_type": "code",
   "execution_count": 237,
   "id": "15a468ed",
   "metadata": {},
   "outputs": [
    {
     "data": {
      "text/html": [
       "<div>\n",
       "<style scoped>\n",
       "    .dataframe tbody tr th:only-of-type {\n",
       "        vertical-align: middle;\n",
       "    }\n",
       "\n",
       "    .dataframe tbody tr th {\n",
       "        vertical-align: top;\n",
       "    }\n",
       "\n",
       "    .dataframe thead th {\n",
       "        text-align: right;\n",
       "    }\n",
       "</style>\n",
       "<table border=\"1\" class=\"dataframe\">\n",
       "  <thead>\n",
       "    <tr style=\"text-align: right;\">\n",
       "      <th></th>\n",
       "      <th>0</th>\n",
       "      <th>1</th>\n",
       "      <th>2</th>\n",
       "      <th>3</th>\n",
       "      <th>4</th>\n",
       "      <th>5</th>\n",
       "      <th>6</th>\n",
       "      <th>7</th>\n",
       "      <th>8</th>\n",
       "      <th>9</th>\n",
       "      <th>10</th>\n",
       "      <th>11</th>\n",
       "      <th>12</th>\n",
       "      <th>13</th>\n",
       "      <th>14</th>\n",
       "    </tr>\n",
       "  </thead>\n",
       "  <tbody>\n",
       "    <tr>\n",
       "      <th>0</th>\n",
       "      <td>-0.954864</td>\n",
       "      <td>1.058986</td>\n",
       "      <td>0.443867</td>\n",
       "      <td>-0.956642</td>\n",
       "      <td>0.130572</td>\n",
       "      <td>-1.838162</td>\n",
       "      <td>3.048855</td>\n",
       "      <td>-1.070485</td>\n",
       "      <td>-0.225143</td>\n",
       "      <td>-0.416283</td>\n",
       "      <td>0.540554</td>\n",
       "      <td>-0.068865</td>\n",
       "      <td>-0.045998</td>\n",
       "      <td>0.522933</td>\n",
       "      <td>0.819593</td>\n",
       "    </tr>\n",
       "    <tr>\n",
       "      <th>1</th>\n",
       "      <td>-1.204513</td>\n",
       "      <td>1.137719</td>\n",
       "      <td>2.173871</td>\n",
       "      <td>-0.129445</td>\n",
       "      <td>-3.116063</td>\n",
       "      <td>0.382848</td>\n",
       "      <td>-0.140585</td>\n",
       "      <td>0.356995</td>\n",
       "      <td>-0.062062</td>\n",
       "      <td>-0.563398</td>\n",
       "      <td>-0.198849</td>\n",
       "      <td>-0.112338</td>\n",
       "      <td>0.715255</td>\n",
       "      <td>-0.284437</td>\n",
       "      <td>0.202600</td>\n",
       "    </tr>\n",
       "    <tr>\n",
       "      <th>2</th>\n",
       "      <td>-1.584728</td>\n",
       "      <td>1.689066</td>\n",
       "      <td>3.343514</td>\n",
       "      <td>-0.201059</td>\n",
       "      <td>-4.069832</td>\n",
       "      <td>0.619683</td>\n",
       "      <td>-0.845715</td>\n",
       "      <td>0.812081</td>\n",
       "      <td>1.062571</td>\n",
       "      <td>0.782938</td>\n",
       "      <td>-0.008200</td>\n",
       "      <td>-0.718276</td>\n",
       "      <td>-0.960441</td>\n",
       "      <td>-0.417652</td>\n",
       "      <td>-0.079751</td>\n",
       "    </tr>\n",
       "    <tr>\n",
       "      <th>3</th>\n",
       "      <td>-1.171650</td>\n",
       "      <td>1.429657</td>\n",
       "      <td>0.424845</td>\n",
       "      <td>-0.944145</td>\n",
       "      <td>0.444072</td>\n",
       "      <td>-2.628956</td>\n",
       "      <td>3.262566</td>\n",
       "      <td>-1.249658</td>\n",
       "      <td>-0.257531</td>\n",
       "      <td>-0.428553</td>\n",
       "      <td>0.479649</td>\n",
       "      <td>-0.895644</td>\n",
       "      <td>-1.944418</td>\n",
       "      <td>1.194179</td>\n",
       "      <td>1.637067</td>\n",
       "    </tr>\n",
       "    <tr>\n",
       "      <th>4</th>\n",
       "      <td>-1.426979</td>\n",
       "      <td>1.863162</td>\n",
       "      <td>0.776557</td>\n",
       "      <td>-2.862817</td>\n",
       "      <td>1.853281</td>\n",
       "      <td>0.062028</td>\n",
       "      <td>1.705727</td>\n",
       "      <td>-0.785510</td>\n",
       "      <td>-0.433658</td>\n",
       "      <td>-0.924812</td>\n",
       "      <td>0.360678</td>\n",
       "      <td>-0.892633</td>\n",
       "      <td>0.238014</td>\n",
       "      <td>-2.646715</td>\n",
       "      <td>-4.895793</td>\n",
       "    </tr>\n",
       "    <tr>\n",
       "      <th>...</th>\n",
       "      <td>...</td>\n",
       "      <td>...</td>\n",
       "      <td>...</td>\n",
       "      <td>...</td>\n",
       "      <td>...</td>\n",
       "      <td>...</td>\n",
       "      <td>...</td>\n",
       "      <td>...</td>\n",
       "      <td>...</td>\n",
       "      <td>...</td>\n",
       "      <td>...</td>\n",
       "      <td>...</td>\n",
       "      <td>...</td>\n",
       "      <td>...</td>\n",
       "      <td>...</td>\n",
       "    </tr>\n",
       "    <tr>\n",
       "      <th>108246</th>\n",
       "      <td>-0.651566</td>\n",
       "      <td>0.140751</td>\n",
       "      <td>-2.444323</td>\n",
       "      <td>0.559134</td>\n",
       "      <td>-0.964539</td>\n",
       "      <td>0.382552</td>\n",
       "      <td>-1.125580</td>\n",
       "      <td>-1.435663</td>\n",
       "      <td>1.998385</td>\n",
       "      <td>-1.134915</td>\n",
       "      <td>2.367114</td>\n",
       "      <td>0.236900</td>\n",
       "      <td>-4.143729</td>\n",
       "      <td>0.178870</td>\n",
       "      <td>0.302723</td>\n",
       "    </tr>\n",
       "    <tr>\n",
       "      <th>108247</th>\n",
       "      <td>-0.242385</td>\n",
       "      <td>0.088776</td>\n",
       "      <td>-0.940706</td>\n",
       "      <td>0.306834</td>\n",
       "      <td>-0.646960</td>\n",
       "      <td>0.367510</td>\n",
       "      <td>-0.431565</td>\n",
       "      <td>-0.904637</td>\n",
       "      <td>-0.082925</td>\n",
       "      <td>-1.049551</td>\n",
       "      <td>0.575228</td>\n",
       "      <td>2.069368</td>\n",
       "      <td>-2.730244</td>\n",
       "      <td>0.743678</td>\n",
       "      <td>0.391686</td>\n",
       "    </tr>\n",
       "    <tr>\n",
       "      <th>108248</th>\n",
       "      <td>0.818988</td>\n",
       "      <td>-1.227669</td>\n",
       "      <td>0.341302</td>\n",
       "      <td>0.114885</td>\n",
       "      <td>-0.017309</td>\n",
       "      <td>0.294604</td>\n",
       "      <td>0.379601</td>\n",
       "      <td>0.080664</td>\n",
       "      <td>0.074027</td>\n",
       "      <td>-0.082531</td>\n",
       "      <td>1.395930</td>\n",
       "      <td>0.915169</td>\n",
       "      <td>0.047477</td>\n",
       "      <td>1.250397</td>\n",
       "      <td>-0.895933</td>\n",
       "    </tr>\n",
       "    <tr>\n",
       "      <th>108249</th>\n",
       "      <td>0.414850</td>\n",
       "      <td>0.590503</td>\n",
       "      <td>-1.363394</td>\n",
       "      <td>0.345407</td>\n",
       "      <td>-0.588824</td>\n",
       "      <td>0.273943</td>\n",
       "      <td>-0.658724</td>\n",
       "      <td>-1.484007</td>\n",
       "      <td>-0.124420</td>\n",
       "      <td>0.450253</td>\n",
       "      <td>1.150845</td>\n",
       "      <td>0.043507</td>\n",
       "      <td>-0.622281</td>\n",
       "      <td>-0.027032</td>\n",
       "      <td>-0.120468</td>\n",
       "    </tr>\n",
       "    <tr>\n",
       "      <th>108250</th>\n",
       "      <td>-0.229447</td>\n",
       "      <td>0.575568</td>\n",
       "      <td>-1.154986</td>\n",
       "      <td>0.213682</td>\n",
       "      <td>-0.806387</td>\n",
       "      <td>0.672595</td>\n",
       "      <td>-0.722349</td>\n",
       "      <td>-1.739467</td>\n",
       "      <td>-0.674652</td>\n",
       "      <td>-0.419831</td>\n",
       "      <td>1.342954</td>\n",
       "      <td>1.905556</td>\n",
       "      <td>-3.311172</td>\n",
       "      <td>0.334470</td>\n",
       "      <td>0.140705</td>\n",
       "    </tr>\n",
       "  </tbody>\n",
       "</table>\n",
       "<p>108251 rows × 15 columns</p>\n",
       "</div>"
      ],
      "text/plain": [
       "              0         1         2         3         4         5         6   \\\n",
       "0      -0.954864  1.058986  0.443867 -0.956642  0.130572 -1.838162  3.048855   \n",
       "1      -1.204513  1.137719  2.173871 -0.129445 -3.116063  0.382848 -0.140585   \n",
       "2      -1.584728  1.689066  3.343514 -0.201059 -4.069832  0.619683 -0.845715   \n",
       "3      -1.171650  1.429657  0.424845 -0.944145  0.444072 -2.628956  3.262566   \n",
       "4      -1.426979  1.863162  0.776557 -2.862817  1.853281  0.062028  1.705727   \n",
       "...          ...       ...       ...       ...       ...       ...       ...   \n",
       "108246 -0.651566  0.140751 -2.444323  0.559134 -0.964539  0.382552 -1.125580   \n",
       "108247 -0.242385  0.088776 -0.940706  0.306834 -0.646960  0.367510 -0.431565   \n",
       "108248  0.818988 -1.227669  0.341302  0.114885 -0.017309  0.294604  0.379601   \n",
       "108249  0.414850  0.590503 -1.363394  0.345407 -0.588824  0.273943 -0.658724   \n",
       "108250 -0.229447  0.575568 -1.154986  0.213682 -0.806387  0.672595 -0.722349   \n",
       "\n",
       "              7         8         9         10        11        12        13  \\\n",
       "0      -1.070485 -0.225143 -0.416283  0.540554 -0.068865 -0.045998  0.522933   \n",
       "1       0.356995 -0.062062 -0.563398 -0.198849 -0.112338  0.715255 -0.284437   \n",
       "2       0.812081  1.062571  0.782938 -0.008200 -0.718276 -0.960441 -0.417652   \n",
       "3      -1.249658 -0.257531 -0.428553  0.479649 -0.895644 -1.944418  1.194179   \n",
       "4      -0.785510 -0.433658 -0.924812  0.360678 -0.892633  0.238014 -2.646715   \n",
       "...          ...       ...       ...       ...       ...       ...       ...   \n",
       "108246 -1.435663  1.998385 -1.134915  2.367114  0.236900 -4.143729  0.178870   \n",
       "108247 -0.904637 -0.082925 -1.049551  0.575228  2.069368 -2.730244  0.743678   \n",
       "108248  0.080664  0.074027 -0.082531  1.395930  0.915169  0.047477  1.250397   \n",
       "108249 -1.484007 -0.124420  0.450253  1.150845  0.043507 -0.622281 -0.027032   \n",
       "108250 -1.739467 -0.674652 -0.419831  1.342954  1.905556 -3.311172  0.334470   \n",
       "\n",
       "              14  \n",
       "0       0.819593  \n",
       "1       0.202600  \n",
       "2      -0.079751  \n",
       "3       1.637067  \n",
       "4      -4.895793  \n",
       "...          ...  \n",
       "108246  0.302723  \n",
       "108247  0.391686  \n",
       "108248 -0.895933  \n",
       "108249 -0.120468  \n",
       "108250  0.140705  \n",
       "\n",
       "[108251 rows x 15 columns]"
      ]
     },
     "execution_count": 237,
     "metadata": {},
     "output_type": "execute_result"
    }
   ],
   "source": [
    "allcca = np.concatenate(scaled_final_embeddings, axis=0)\n",
    "allcca_df = pd.DataFrame(allcca)\n",
    "allcca_df # gcca scores for all three modalities cells"
   ]
  },
  {
   "cell_type": "code",
   "execution_count": 238,
   "id": "b44a7a2e",
   "metadata": {},
   "outputs": [],
   "source": [
    "allcca_df.to_csv(\"/hubmap_fin/output/tri_int/cl_cdx_gcca_hh_preUmap.csv\", index = False)"
   ]
  }
 ],
 "metadata": {
  "kernelspec": {
   "display_name": "Python 3 (ipykernel)",
   "language": "python",
   "name": "python3"
  },
  "language_info": {
   "codemirror_mode": {
    "name": "ipython",
    "version": 3
   },
   "file_extension": ".py",
   "mimetype": "text/x-python",
   "name": "python",
   "nbconvert_exporter": "python",
   "pygments_lexer": "ipython3",
   "version": "3.8.12"
  }
 },
 "nbformat": 4,
 "nbformat_minor": 5
}
